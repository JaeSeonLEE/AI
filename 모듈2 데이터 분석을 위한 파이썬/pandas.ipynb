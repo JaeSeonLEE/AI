{
 "cells": [
  {
   "cell_type": "code",
   "execution_count": 2,
   "metadata": {},
   "outputs": [
    {
     "name": "stdout",
     "output_type": "stream",
     "text": [
      "dataframe \n",
      "   mid  hw  fin gender\n",
      "0   30  10   29      m\n",
      "1   32   9    2      f\n",
      "2   28   7   31      m\n",
      "3   20   8   18      m\n",
      "4   19  10   21      f\n"
     ]
    }
   ],
   "source": [
    "from pandas import Series, DataFrame\n",
    "import numpy as np\n",
    "import pandas as pd\n",
    "\n",
    "data={\"mid\": [30,32,28,20,19],\"hw\":[10,9,7,8,10],\"fin\":[29,2,31,18,21],\"gender\":[\"m\",\"f\",\"m\",\"m\",\"f\"]}\n",
    "df=DataFrame(data)\n",
    "print(\"dataframe \\n{0}\".format(df))"
   ]
  },
  {
   "cell_type": "code",
   "execution_count": 4,
   "metadata": {},
   "outputs": [
    {
     "name": "stdout",
     "output_type": "stream",
     "text": [
      "df \n",
      "  gender  hw  mid  fin\n",
      "0      m  10   30   29\n",
      "1      f   9   32    2\n",
      "2      m   7   28   31\n",
      "3      m   8   20   18\n",
      "4      f  10   19   21 \n",
      "\n",
      " da \n",
      "  gender   nw  att  mid  fin\n",
      "0      m  NaN  NaN   30   29\n",
      "1      f  NaN  NaN   32    2\n",
      "2      m  NaN  NaN   28   31\n",
      "3      m  NaN  NaN   20   18\n",
      "4      f  NaN  NaN   19   21\n"
     ]
    }
   ],
   "source": [
    "#p268 위\n",
    "from pandas import Series, DataFrame\n",
    "import numpy as np\n",
    "import pandas as pd\n",
    "\n",
    "data={\"mid\": [30,32,28,20,19],\"hw\":[10,9,7,8,10],\"fin\":[29,2,31,18,21],\"gender\":[\"m\",\"f\",\"m\",\"m\",\"f\"]}\n",
    "df=DataFrame(data,columns=[\"gender\",\"hw\",\"mid\",\"fin\"])\n",
    "\n",
    "da=DataFrame(data,columns=[\"gender\",\"nw\",\"att\",\"mid\",\"fin\"])\n",
    "\n",
    "print(\"df \\n{0} \\n\\n da \\n{1}\".format(df,da))"
   ]
  },
  {
   "cell_type": "code",
   "execution_count": 6,
   "metadata": {},
   "outputs": [
    {
     "name": "stdout",
     "output_type": "stream",
     "text": [
      " 배열 \n",
      "[[10 25 32 42]\n",
      " [85 75 96 45]\n",
      " [68 78 94 83]]\n",
      "DataFrame \n",
      "    0   1   2   3\n",
      "0  10  25  32  42\n",
      "1  85  75  96  45\n",
      "2  68  78  94  83\n",
      "DataFrame \n",
      "   V1  V2  V3  V4\n",
      "A  10  25  32  42\n",
      "B  85  75  96  45\n",
      "C  68  78  94  83\n"
     ]
    }
   ],
   "source": [
    "#p268 아래\n",
    "\n",
    "from pandas import Series, DataFrame\n",
    "import numpy as np\n",
    "import pandas as pd\n",
    "\n",
    "arr=np.array([[10,25,32,42],[85,75,96,45],[68,78,94,83]])\n",
    "print(\" 배열 \\n{0}\".format(arr))\n",
    "\n",
    "df=DataFrame(arr)\n",
    "print(\"DataFrame \\n{0}\".format(df))\n",
    "\n",
    "dv=DataFrame(arr,columns=[\"V1\",\"V2\",\"V3\",\"V4\"], index=[\"A\",\"B\",\"C\"])\n",
    "print(\"DataFrame \\n{0}\".format(dv))"
   ]
  },
  {
   "cell_type": "code",
   "execution_count": 10,
   "metadata": {},
   "outputs": [
    {
     "name": "stdout",
     "output_type": "stream",
     "text": [
      "DataFrame \n",
      "          mid  hw  fin gender\n",
      "2017103   30  10   29      M\n",
      "2018212   32   9   27      F\n",
      "2017204   28   7   31      M\n",
      "2019137   20   8   18      M\n",
      "2018217   19  10   21      F \n",
      "\n",
      "열 색인 : Index(['mid', 'hw', 'fin', 'gender'], dtype='object') \n",
      " 행 색인: Int64Index([2017103, 2018212, 2017204, 2019137, 2018217], dtype='int64')\n"
     ]
    }
   ],
   "source": [
    "#p269 위\n",
    "\n",
    "from pandas import Series,DataFrame\n",
    "import numpy as np\n",
    "import pandas as pd\n",
    "\n",
    "data={\"mid\":[30,32,28,20,19],\"hw\":[10,9,7,8,10],\"fin\":[29,27,31,18,21],\"gender\":[\"M\",\"F\",\"M\",\"M\",\"F\"]}\n",
    "\n",
    "df=DataFrame(data, index=[2017103,2018212,2017204,2019137,2018217])\n",
    "\n",
    "print(\"DataFrame \\n {0} \\n\".format(df))\n",
    "print(\"열 색인 : {0} \\n 행 색인: {1}\".format(df.columns, df.index))\n",
    "\n"
   ]
  },
  {
   "cell_type": "code",
   "execution_count": 14,
   "metadata": {},
   "outputs": [
    {
     "name": "stdout",
     "output_type": "stream",
     "text": [
      "행 색인 2017204 \n",
      "mid       28\n",
      "hw         7\n",
      "fin       31\n",
      "gender     M\n",
      "Name: 2017204, dtype: object \n",
      "\n",
      "행 인덱스 \n",
      "mid       28\n",
      "hw         7\n",
      "fin       31\n",
      "gender     M\n",
      "Name: 2017204, dtype: object\n",
      "----------------------------------------------\n",
      "행 색인 2017204,2017103 \n",
      "         mid  hw  fin gender\n",
      "2017204   28   7   31      M\n",
      "2017103   30  10   29      M \n",
      "\n",
      "행 인덱스 [2,0,3] \n",
      "         mid  hw  fin gender\n",
      "2017204   28   7   31      M\n",
      "2017103   30  10   29      M\n",
      "2019137   20   8   18      M \n",
      "\n"
     ]
    }
   ],
   "source": [
    "# p269 아래 ~ p270\n",
    "\n",
    "from pandas import Series,DataFrame\n",
    "import numpy as np\n",
    "import pandas as pd\n",
    "\n",
    "data={\"mid\":[30,32,28,20,19],\"hw\":[10,9,7,8,10],\"fin\":[29,27,31,18,21],\"gender\":[\"M\",\"F\",\"M\",\"M\",\"F\"]}\n",
    "df=DataFrame(data, index=[2017103,2018212,2017204,2019137,2018217])\n",
    "\n",
    "print(\"행 색인 2017204 \\n{0} \\n\".format(df.loc[2017204]))\n",
    "print(\"행 인덱스 \\n{0}\".format(df.iloc[2]))\n",
    "print(\"----------------------------------------------\")\n",
    "print(\"행 색인 2017204,2017103 \\n{0} \\n\".format(df.loc[[2017204,2017103]]))\n",
    "print(\"행 인덱스 [2,0,3] \\n{0} \\n\".format(df.iloc[[2,0,3]]))\n",
    "\n",
    "print(\"--------------------------\")\n"
   ]
  },
  {
   "cell_type": "code",
   "execution_count": 15,
   "metadata": {},
   "outputs": [
    {
     "name": "stdout",
     "output_type": "stream",
     "text": [
      "DataFrame \n",
      "   mid  hw  fin gender\n",
      "0   30  10   29      M\n",
      "1   32   9   27      F\n",
      "2   28   7   31      M\n",
      "3   20   8   18      M\n",
      "4   19  10   21      F \n",
      "\n",
      " Series \n",
      " 1    10\n",
      "3     9\n",
      "0     7\n",
      "5     8\n",
      "dtype: int64\n"
     ]
    }
   ],
   "source": [
    "#p271 아래\n",
    "from pandas import Series,DataFrame\n",
    "import numpy as np\n",
    "import pandas as pd\n",
    "\n",
    "data={\"mid\":[30,32,28,20,19],\"hw\":[10,9,7,8,10],\"fin\":[29,27,31,18,21],\"gender\":[\"M\",\"F\",\"M\",\"M\",\"F\"]}\n",
    "\n",
    "val=Series([10,9,7,8],index=[1,3,0,5])\n",
    "\n",
    "df=DataFrame(data)\n",
    "\n",
    "print(\"DataFrame \\n{0} \\n\\n Series \\n {1}\".format(df,val))\n"
   ]
  },
  {
   "cell_type": "code",
   "execution_count": 16,
   "metadata": {},
   "outputs": [
    {
     "name": "stdout",
     "output_type": "stream",
     "text": [
      "   mid  hw  fin gender   att\n",
      "0   30  10   29      M   7.0\n",
      "1   32   9   27      F  10.0\n",
      "2   28   7   31      M   NaN\n",
      "3   20   8   18      M   9.0\n",
      "4   19  10   21      F   NaN\n"
     ]
    }
   ],
   "source": [
    "#p272 위\n",
    "from pandas import Series,DataFrame\n",
    "import numpy as np\n",
    "import pandas as pd\n",
    "\n",
    "data={\"mid\":[30,32,28,20,19],\"hw\":[10,9,7,8,10],\"fin\":[29,27,31,18,21],\"gender\":[\"M\",\"F\",\"M\",\"M\",\"F\"]}\n",
    "\n",
    "val=Series([10,9,7,8],index=[1,3,0,5])\n",
    "\n",
    "df=DataFrame(data)\n",
    "\n",
    "df[\"att\"]=val\n",
    "print(df)"
   ]
  },
  {
   "cell_type": "code",
   "execution_count": 21,
   "metadata": {},
   "outputs": [
    {
     "name": "stdout",
     "output_type": "stream",
     "text": [
      "obj \n",
      "kim    2.5\n",
      "cho    6.4\n",
      "bae    7.8\n",
      "lee    6.5\n",
      "dtype: float64\n",
      "\n",
      "\n",
      "\n",
      "lee     6.5\n",
      "kim     2.5\n",
      "bae     7.8\n",
      "cho     6.4\n",
      "choi    NaN\n",
      "dtype: float64\n"
     ]
    }
   ],
   "source": [
    "#273 아래\n",
    "\n",
    "from pandas import Series,DataFrame\n",
    "import numpy as np\n",
    "import pandas as pd\n",
    "\n",
    "obj=Series([2.5,6.4,7.8,6.5],index=[\"kim\",\"cho\",\"bae\",\"lee\"])\n",
    "print(\"obj \\n{0}\\n\\n\\n\".format(obj))\n",
    "\n",
    "obj1=obj.reindex([\"lee\",\"kim\",\"bae\",\"cho\",\"choi\"])\n",
    "\n",
    "\n",
    "print(format(obj1))\n"
   ]
  },
  {
   "cell_type": "code",
   "execution_count": 22,
   "metadata": {},
   "outputs": [],
   "source": [
    "#p274\n"
   ]
  },
  {
   "cell_type": "code",
   "execution_count": null,
   "metadata": {},
   "outputs": [],
   "source": []
  },
  {
   "cell_type": "code",
   "execution_count": 23,
   "metadata": {},
   "outputs": [
    {
     "name": "stdout",
     "output_type": "stream",
     "text": [
      "[[0,2]] \n",
      " a    2.5\n",
      "e    7.8\n",
      "dtype: float64 \n",
      "\n",
      " [2:5] \n",
      " e    7.8\n",
      "c    6.5\n",
      "f    8.5\n",
      "dtype: float64\n"
     ]
    }
   ],
   "source": [
    "#p276\n",
    "from pandas import Series,DataFrame\n",
    "import numpy as np\n",
    "import pandas as pd\n",
    "\n",
    "obj=Series([2.5,.4,7.8,6.5,8.5,5.6,],index=[\"a\",\"b\",\"e\",\"c\",\"f\",\"d\"])\n",
    "print(\"[[0,2]] \\n {0} \\n\\n [2:5] \\n {1}\".format(obj[[0,2]], obj[2:5]))\n"
   ]
  },
  {
   "cell_type": "code",
   "execution_count": 25,
   "metadata": {},
   "outputs": [
    {
     "name": "stdout",
     "output_type": "stream",
     "text": [
      "6이상 nan으로 변경 \n",
      "a    2.5\n",
      "b    0.4\n",
      "e    NaN\n",
      "c    NaN\n",
      "f    NaN\n",
      "d    5.6\n",
      "dtype: float64\n"
     ]
    }
   ],
   "source": [
    "#p277\n",
    "\n",
    "from pandas import Series,DataFrame\n",
    "import numpy as np\n",
    "import pandas as pd\n",
    "obj=Series([2.5,.4,7.8,6.5,8.5,5.6,],index=[\"a\",\"b\",\"e\",\"c\",\"f\",\"d\"])\n",
    "obj[obj>=6]= float(\"nan\")\n",
    "print(\"6이상 nan으로 변경 \\n{0}\".format(obj))"
   ]
  },
  {
   "cell_type": "code",
   "execution_count": 49,
   "metadata": {},
   "outputs": [
    {
     "name": "stdout",
     "output_type": "stream",
     "text": [
      "   gender  height  weight\n",
      "1       F   180.0    71.0\n",
      "2       F   166.0    67.0\n",
      "3       M   173.0    73.0\n",
      "4       F   187.0    66.0\n",
      "6       F   174.0    66.0\n",
      "8       F   177.0    67.0\n",
      "9       F   175.0    67.0\n",
      "10      F   172.0    64.0\n",
      "11      M   175.0    66.0\n",
      "12      F   178.0    68.0\n",
      "13      M   184.0    67.0\n",
      "15      F   171.0    69.0\n",
      "16      M   171.0    74.0\n",
      "17      F   177.0    68.0\n",
      "18      M   177.0    70.0\n",
      "19      F   161.0    67.0\n",
      "20      F   178.0    64.0\n",
      "21      M   189.0    65.0\n",
      "22      F   177.0    66.0\n",
      "23      F   176.0    70.0\n",
      "24      F   169.0    69.0\n",
      "25      F   181.0    67.0\n",
      "26      M   182.0    64.0\n",
      "27      F   186.0    69.0\n",
      "28      M   172.0    68.0\n",
      "29      M   189.0    72.0\n",
      "30      F   177.0    71.0\n",
      "31      M   176.0    67.0\n",
      "32      F   163.0    70.0\n",
      "33      F   185.0    67.0\n",
      "..    ...     ...     ...\n",
      "62      M   176.0    70.0\n",
      "64      F   169.0    69.0\n",
      "65      F   173.0    71.0\n",
      "66      F   184.0    68.0\n",
      "67      F   181.0    68.0\n",
      "68      F   178.0    66.0\n",
      "69      M   166.0    70.0\n",
      "70      M   179.0    67.0\n",
      "72      F   175.0    68.0\n",
      "73      F   168.0    70.0\n",
      "75      M   181.0    73.0\n",
      "76      M   175.0    69.0\n",
      "77      M   173.0    67.0\n",
      "78      M   173.0    64.0\n",
      "79      F   175.0    68.0\n",
      "81      F   177.0    70.0\n",
      "82      F   177.0    71.0\n",
      "83      F   178.0    67.0\n",
      "84      F   176.0    66.0\n",
      "85      M   170.0    72.0\n",
      "86      F   171.0    73.0\n",
      "88      F   170.0    70.0\n",
      "89      F   186.0    72.0\n",
      "91      F   180.0    65.0\n",
      "92      M   186.0    73.0\n",
      "95      F   171.0    72.0\n",
      "96      F   176.0    67.0\n",
      "97      M   173.0    68.0\n",
      "98      F   179.0    69.0\n",
      "99      F   174.0    66.0\n",
      "\n",
      "[85 rows x 3 columns] \n",
      "\n",
      "    gender  height  weight\n",
      "0       F   179.0    68.0\n",
      "5       M   180.0    61.0\n",
      "7       M   185.0    70.0\n",
      "14      M   171.0    66.0\n",
      "37      M   170.0    65.0\n",
      "43      M   179.0    68.0\n",
      "55      F   171.0    64.0\n",
      "63      F   175.0    69.0\n",
      "71      M   166.0    64.0\n",
      "74      M   170.0    66.0\n",
      "80      M   183.0    66.0\n",
      "87      M   184.0    70.0\n",
      "90      M   169.0    63.0\n",
      "93      F   169.0    65.0\n",
      "94      F   188.0    70.0 \n",
      "\n",
      "\n"
     ]
    }
   ],
   "source": [
    "# 예제\n",
    "\n",
    "\n",
    "from pandas import Series,DataFrame\n",
    "import numpy as np\n",
    "import pandas as pd\n",
    "\n",
    "x=np.random.rand(100)\n",
    "gender=np.where(x>0.5,\"M\",\"F\")\n",
    "height=np.rint(np.random.normal(loc=175,scale=6,size=100))\n",
    "weight=np.rint(np.random.normal(loc=68,scale=3,size=100))\n",
    "\n",
    "DF=DataFrame({\"gender\":gender,\"height\":height,\"weight\":weight})\n",
    "\n",
    "np.random.seed(12298)\n",
    "rand_num=np.random.rand(100)\n",
    "select=rand_num<0.9\n",
    "trialDF=DF[select]\n",
    "testDF=DF[~select]\n",
    "\n",
    "# male=DF[DF.gender==\"M\"]; female=DF[DF.gender==\"F\"]\n",
    " # ewData=DF[(DF.gender==\"M\") & (DF.height>=180)]\n",
    "\n",
    "\n",
    "print(trialDF, \"\\n\\n\" , testDF, \"\\n\\n\" )\n"
   ]
  },
  {
   "cell_type": "code",
   "execution_count": 59,
   "metadata": {},
   "outputs": [
    {
     "ename": "TypeError",
     "evalue": "binomial() takes at least 2 positional arguments (1 given)",
     "output_type": "error",
     "traceback": [
      "\u001b[1;31m---------------------------------------------------------------------------\u001b[0m",
      "\u001b[1;31mTypeError\u001b[0m                                 Traceback (most recent call last)",
      "\u001b[1;32m<ipython-input-59-473859608930>\u001b[0m in \u001b[0;36m<module>\u001b[1;34m\u001b[0m\n\u001b[0;32m      5\u001b[0m \u001b[1;32mimport\u001b[0m \u001b[0mpandas\u001b[0m \u001b[1;32mas\u001b[0m \u001b[0mpd\u001b[0m\u001b[1;33m\u001b[0m\u001b[1;33m\u001b[0m\u001b[0m\n\u001b[0;32m      6\u001b[0m \u001b[1;33m\u001b[0m\u001b[0m\n\u001b[1;32m----> 7\u001b[1;33m \u001b[0mex1\u001b[0m\u001b[1;33m=\u001b[0m\u001b[0mSeries\u001b[0m\u001b[1;33m(\u001b[0m\u001b[0mnp\u001b[0m\u001b[1;33m.\u001b[0m\u001b[0mrandom\u001b[0m\u001b[1;33m.\u001b[0m\u001b[0mbinomial\u001b[0m\u001b[1;33m(\u001b[0m\u001b[0mn\u001b[0m\u001b[1;33m=\u001b[0m\u001b[1;36m100\u001b[0m\u001b[1;33m,\u001b[0m\u001b[0mP\u001b[0m\u001b[1;33m=\u001b[0m\u001b[1;36m0.6\u001b[0m\u001b[1;33m,\u001b[0m\u001b[0msize\u001b[0m\u001b[1;33m=\u001b[0m\u001b[1;36m6\u001b[0m\u001b[1;33m)\u001b[0m\u001b[1;33m,\u001b[0m \u001b[0mindex\u001b[0m\u001b[1;33m=\u001b[0m\u001b[1;33m[\u001b[0m\u001b[1;34m'A'\u001b[0m\u001b[1;33m,\u001b[0m\u001b[1;34m'B'\u001b[0m\u001b[1;33m,\u001b[0m\u001b[1;34m'D'\u001b[0m\u001b[1;33m,\u001b[0m\u001b[1;34m'E'\u001b[0m\u001b[1;33m,\u001b[0m\u001b[1;34m'F'\u001b[0m\u001b[1;33m,\u001b[0m\u001b[1;34m'H'\u001b[0m\u001b[1;33m]\u001b[0m\u001b[1;33m)\u001b[0m\u001b[1;33m\u001b[0m\u001b[1;33m\u001b[0m\u001b[0m\n\u001b[0m\u001b[0;32m      8\u001b[0m \u001b[0mex2\u001b[0m\u001b[1;33m=\u001b[0m\u001b[0mSeries\u001b[0m\u001b[1;33m(\u001b[0m\u001b[0mnp\u001b[0m\u001b[1;33m.\u001b[0m\u001b[0mrandom\u001b[0m\u001b[1;33m.\u001b[0m\u001b[0mbinomial\u001b[0m\u001b[1;33m(\u001b[0m\u001b[0mn\u001b[0m\u001b[1;33m=\u001b[0m\u001b[1;36m50\u001b[0m\u001b[1;33m,\u001b[0m\u001b[0mP\u001b[0m\u001b[1;33m=\u001b[0m\u001b[1;36m0.4\u001b[0m\u001b[1;33m,\u001b[0m\u001b[0msize\u001b[0m\u001b[1;33m=\u001b[0m\u001b[1;36m6\u001b[0m\u001b[1;33m)\u001b[0m\u001b[1;33m,\u001b[0m \u001b[0mindex\u001b[0m\u001b[1;33m=\u001b[0m\u001b[1;33m[\u001b[0m\u001b[1;34m'B'\u001b[0m\u001b[1;33m,\u001b[0m\u001b[1;34m'C'\u001b[0m\u001b[1;33m,\u001b[0m\u001b[1;34m'A'\u001b[0m\u001b[1;33m,\u001b[0m\u001b[1;34m'D'\u001b[0m\u001b[1;33m,\u001b[0m\u001b[1;34m'F'\u001b[0m\u001b[1;33m,\u001b[0m\u001b[1;34m'E'\u001b[0m\u001b[1;33m]\u001b[0m\u001b[1;33m)\u001b[0m\u001b[1;33m\u001b[0m\u001b[1;33m\u001b[0m\u001b[0m\n\u001b[0;32m      9\u001b[0m \u001b[1;33m\u001b[0m\u001b[0m\n",
      "\u001b[1;32mmtrand.pyx\u001b[0m in \u001b[0;36mmtrand.RandomState.binomial\u001b[1;34m()\u001b[0m\n",
      "\u001b[1;31mTypeError\u001b[0m: binomial() takes at least 2 positional arguments (1 given)"
     ]
    }
   ],
   "source": [
    "#예제\n",
    "\n",
    "from pandas import Series,DataFrame\n",
    "import numpy as np\n",
    "import pandas as pd\n",
    "\n",
    "ex1=Series(np.random.binomial(n=100,P=0.6,size=6), index=['A','B','D','E','F','H'])\n",
    "ex2=Series(np.random.binomial(n=50,P=0.4,size=6), index=['B','C','A','D','F','E'])\n",
    "\n",
    "print(ex1, \"\\n\", ex2, \"\\n\", ex1.add(ex2,fill_value=0))   \n",
    "\n",
    "            "
   ]
  },
  {
   "cell_type": "code",
   "execution_count": null,
   "metadata": {},
   "outputs": [],
   "source": []
  },
  {
   "cell_type": "code",
   "execution_count": 60,
   "metadata": {},
   "outputs": [
    {
     "data": {
      "text/plain": [
       "{'mid': [30, 32, 28, 20, 19],\n",
       " 'hw': [10, 9, 7, 8, 10],\n",
       " 'fin': [29, 27, 31, 18, 21],\n",
       " 'gender': ['M', 'F', 'M', 'M', 'F']}"
      ]
     },
     "execution_count": 60,
     "metadata": {},
     "output_type": "execute_result"
    }
   ],
   "source": [
    "#p282\n",
    "from pandas import Series,DataFrame\n",
    "import numpy as np\n",
    "import pandas as pd\n",
    "\n",
    "s1=Series([2.5,7.6,9.1],index=[\"case1\",\"case2\",\"case3\"])\n",
    "s2=Series([3.1,2.8,7.5], index=[\"case1\",\"case2\",\"case3\"])\n",
    "\n",
    "data={}\n"
   ]
  },
  {
   "cell_type": "code",
   "execution_count": null,
   "metadata": {},
   "outputs": [],
   "source": []
  },
  {
   "cell_type": "code",
   "execution_count": null,
   "metadata": {},
   "outputs": [],
   "source": [
    "\n"
   ]
  },
  {
   "cell_type": "code",
   "execution_count": 73,
   "metadata": {},
   "outputs": [
    {
     "name": "stdout",
     "output_type": "stream",
     "text": [
      "Series \n",
      " case5    2.5\n",
      "case3    inf\n",
      "case2    3.1\n",
      "case3    NaN\n",
      "case1    7.5\n",
      "dtype: float64 \n",
      "\n",
      " dataFrame \n",
      "      att  hw  mid  fin\n",
      "st3    3   5   15   15\n",
      "st2    4   3   10   10\n",
      "st4    1   4   12    9\n",
      "st1    2   1   16   10\n",
      "\n",
      "\n",
      "------------------------------------\n",
      "Series 색인 정렬 \n",
      "case5    2.5\n",
      "case3    inf\n",
      "case3    NaN\n",
      "case2    3.1\n",
      "case1    7.5\n",
      "dtype: float64\n",
      " \n",
      "Series 값 정렬 \n",
      "case5    2.5\n",
      "case2    3.1\n",
      "case1    7.5\n",
      "case3    inf\n",
      "case3    NaN\n",
      "dtype: float64\n",
      " \n",
      "Series 색인 정렬 \n",
      "case3    inf\n",
      "case1    7.5\n",
      "case2    3.1\n",
      "case5    2.5\n",
      "case3    NaN\n",
      "dtype: float64\n",
      " \n"
     ]
    }
   ],
   "source": [
    "#p285\n",
    "from pandas import Series,DataFrame\n",
    "import numpy as np\n",
    "import pandas as pd\n",
    "\n",
    "\n",
    "S=Series([2.5,np.inf,3.1,np.nan,7.5],index=[\"case5\",\"case3\",\"case2\",\"case3\",\"case1\"])\n",
    "data={\"att\": [3,4,1,2], \"hw\":[5,3,4,1],\"mid\":[15,10,12,16],\"fin\":[15,10,9,10]}\n",
    "\n",
    "df=DataFrame(data,index=[\"st3\",\"st2\",\"st4\",\"st1\"])\n",
    "print(\"Series \\n {0} \\n\\n dataFrame \\n {1}\".format(S,df))\n",
    "\n",
    "print(\"\\n\\n------------------------------------\")\n",
    "\n",
    "print(\"Series 색인 정렬 \\n{0}\\n \".format(S.sort_index(ascending=False)))\n",
    "\n",
    "print(\"Series 값 정렬 \\n{0}\\n \".format(S.sort_values()))\n",
    "\n",
    "print(\"Series 색인 정렬 \\n{0}\\n \".format(S.sort_values(ascending=False)))\n"
   ]
  },
  {
   "cell_type": "code",
   "execution_count": null,
   "metadata": {},
   "outputs": [],
   "source": []
  }
 ],
 "metadata": {
  "kernelspec": {
   "display_name": "mypython",
   "language": "python",
   "name": "mypython"
  },
  "language_info": {
   "codemirror_mode": {
    "name": "ipython",
    "version": 3
   },
   "file_extension": ".py",
   "mimetype": "text/x-python",
   "name": "python",
   "nbconvert_exporter": "python",
   "pygments_lexer": "ipython3",
   "version": "3.6.8"
  },
  "widgets": {
   "state": {},
   "version": "1.1.2"
  }
 },
 "nbformat": 4,
 "nbformat_minor": 2
}
