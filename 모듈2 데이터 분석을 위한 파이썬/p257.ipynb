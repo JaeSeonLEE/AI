{
 "cells": [
  {
   "cell_type": "code",
   "execution_count": 7,
   "metadata": {},
   "outputs": [
    {
     "name": "stdout",
     "output_type": "stream",
     "text": [
      "steel_data \n",
      " [[ 81.4 195.   57. ]\n",
      " [122.2 179.   61. ]\n",
      " [101.7 205.   60. ]\n",
      " [175.6 204.   62. ]\n",
      " [150.3 201.   61. ]\n",
      " [ 64.8 184.   54. ]\n",
      " [ 92.1 210.   58. ]\n",
      " [113.8 209.   61. ]]\n"
     ]
    }
   ],
   "source": [
    "import numpy as np\n",
    "\n",
    "steel_data=np.loadtxt(\"C:\\Users\\Affinity\\Desktop\\lecture\\Python_Data\\ch02_data\\steel.txt\",skiprows=5,delimiter=\"\\t\",encoding=\"utf-8\")\n",
    "\n",
    "print(\"steel_data \\n {0}\".format(steel_data))"
   ]
  },
  {
   "cell_type": "code",
   "execution_count": 8,
   "metadata": {},
   "outputs": [
    {
     "name": "stdout",
     "output_type": "stream",
     "text": [
      "steel_data \n",
      "[[ 81.4 122.2 101.7 175.6 150.3  64.8  92.1 113.8]\n",
      " [ 57.   61.   60.   62.   61.   54.   58.   61. ]]\n"
     ]
    }
   ],
   "source": [
    "import numpy as np\n",
    "steel_data=np.loadtxt(\"C:\\Users\\Affinity\\Desktop\\lecture\\Python_Data\\ch02_data\\steel.txt\",skiprows=5,delimiter=\"\\t\",encoding=\"utf-8\",usecols=(0,2),unpack=True)\n",
    "\n",
    "print(\"steel_data \\n{0}\". format(steel_data))"
   ]
  },
  {
   "cell_type": "code",
   "execution_count": null,
   "metadata": {},
   "outputs": [],
   "source": []
  }
 ],
 "metadata": {
  "kernelspec": {
   "display_name": "Python 2",
   "language": "python",
   "name": "python2"
  },
  "language_info": {
   "codemirror_mode": {
    "name": "ipython",
    "version": 2
   },
   "file_extension": ".py",
   "mimetype": "text/x-python",
   "name": "python",
   "nbconvert_exporter": "python",
   "pygments_lexer": "ipython2",
   "version": "2.7.16"
  },
  "widgets": {
   "state": {},
   "version": "1.1.2"
  }
 },
 "nbformat": 4,
 "nbformat_minor": 2
}
