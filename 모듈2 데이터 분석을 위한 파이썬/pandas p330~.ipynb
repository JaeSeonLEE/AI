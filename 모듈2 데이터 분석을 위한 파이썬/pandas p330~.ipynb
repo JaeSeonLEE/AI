{
 "cells": [
  {
   "cell_type": "code",
   "execution_count": 16,
   "metadata": {},
   "outputs": [
    {
     "name": "stdout",
     "output_type": "stream",
     "text": [
      "           name  gender house  income\n",
      "foreigner   kim       1    마포     250\n",
      "st2         lee       2    수지     195\n",
      "st3         bae       2    처인     325\n",
      "st4         cho       1    용산     210\n",
      "st5        kang       1    종로     274\n"
     ]
    },
    {
     "data": {
      "text/html": [
       "<div>\n",
       "<style scoped>\n",
       "    .dataframe tbody tr th:only-of-type {\n",
       "        vertical-align: middle;\n",
       "    }\n",
       "\n",
       "    .dataframe tbody tr th {\n",
       "        vertical-align: top;\n",
       "    }\n",
       "\n",
       "    .dataframe thead th {\n",
       "        text-align: right;\n",
       "    }\n",
       "</style>\n",
       "<table border=\"1\" class=\"dataframe\">\n",
       "  <thead>\n",
       "    <tr style=\"text-align: right;\">\n",
       "      <th></th>\n",
       "      <th>name</th>\n",
       "      <th>gender</th>\n",
       "      <th>house</th>\n",
       "      <th>income</th>\n",
       "    </tr>\n",
       "  </thead>\n",
       "  <tbody>\n",
       "    <tr>\n",
       "      <th>foreigner</th>\n",
       "      <td>kim</td>\n",
       "      <td>1</td>\n",
       "      <td>마포</td>\n",
       "      <td>250</td>\n",
       "    </tr>\n",
       "    <tr>\n",
       "      <th>st2</th>\n",
       "      <td>lee</td>\n",
       "      <td>2</td>\n",
       "      <td>수지</td>\n",
       "      <td>195</td>\n",
       "    </tr>\n",
       "    <tr>\n",
       "      <th>st3</th>\n",
       "      <td>bae</td>\n",
       "      <td>2</td>\n",
       "      <td>처인</td>\n",
       "      <td>325</td>\n",
       "    </tr>\n",
       "    <tr>\n",
       "      <th>st4</th>\n",
       "      <td>cho</td>\n",
       "      <td>1</td>\n",
       "      <td>용산</td>\n",
       "      <td>210</td>\n",
       "    </tr>\n",
       "    <tr>\n",
       "      <th>st5</th>\n",
       "      <td>kang</td>\n",
       "      <td>1</td>\n",
       "      <td>종로</td>\n",
       "      <td>274</td>\n",
       "    </tr>\n",
       "  </tbody>\n",
       "</table>\n",
       "</div>"
      ],
      "text/plain": [
       "           name  gender house  income\n",
       "foreigner   kim       1    마포     250\n",
       "st2         lee       2    수지     195\n",
       "st3         bae       2    처인     325\n",
       "st4         cho       1    용산     210\n",
       "st5        kang       1    종로     274"
      ]
     },
     "execution_count": 16,
     "metadata": {},
     "output_type": "execute_result"
    }
   ],
   "source": [
    "# p330\n",
    "\n",
    "from pandas import Series,DataFrame\n",
    "from numpy import nan as NA\n",
    "import numpy as np\n",
    "import pandas as pd\n",
    "\n",
    "df=DataFrame({\"name\":[\"kim\",\"lee\",\"bae\",\"cho\",\"kang\"],\"sex\":[1,2,2,1,1],\"home\":[\"마포\",\"수지\",\"처인\",\"용산\",\"종로\"],\"income\" :[250,195,325,210,274]})\n",
    "\n",
    "df.index=df.index.map({0:\"st1\",1:\"st2\",2:\"st3\",3:\"st4\",4:\"st5\"})\n",
    "df.columns=df.columns.map({\"name\":\"fn\",\"sex\":\"gender\",\"home\":\"house\",\"income\":\"ic\"})\n",
    "\n",
    "df\n",
    "\n",
    "df1=df.rename(index={\"st1\":\"foreigner\"},columns={\"fn\":\"name\",\"ic\":\"income\"})\n",
    "\n",
    "print(df1)\n",
    "\n",
    "df.rename(index={\"st1\":\"foreigner\"},columns={\"fn\":\"name\",\"ic\":\"income\"},inplace=True)\n",
    "df\n"
   ]
  },
  {
   "cell_type": "code",
   "execution_count": 22,
   "metadata": {},
   "outputs": [
    {
     "name": "stdout",
     "output_type": "stream",
     "text": [
      "[(4.0, 6.0], (4.0, 6.0], (4.0, 6.0], (4.0, 6.0], (2.0, 4.0], ..., (4.0, 6.0], (2.0, 4.0], (2.0, 4.0], (2.0, 4.0], (2.0, 4.0]]\n",
      "Length: 100\n",
      "Categories (5, interval[float64]): [(-0.001, 2.0] < (2.0, 4.0] < (4.0, 6.0] < (6.0, 8.0] < (8.0, 10.0]]\n",
      "[class3, class3, class3, class3, class2, ..., class3, class2, class2, class2, class2]\n",
      "Length: 100\n",
      "Categories (4, object): [class1 < class2 < class3 < class4]\n"
     ]
    },
    {
     "data": {
      "text/plain": [
       "class3    43\n",
       "class2    33\n",
       "class4    18\n",
       "class1     6\n",
       "dtype: int64"
      ]
     },
     "execution_count": 22,
     "metadata": {},
     "output_type": "execute_result"
    }
   ],
   "source": [
    "#p332\n",
    "\n",
    "from pandas import Series,DataFrame\n",
    "from numpy import nan as NA\n",
    "import numpy as np\n",
    "import pandas as pd\n",
    "\n",
    "np.random.seed(951753)\n",
    "s=np.random.binomial(n=10,p=0.5,size=100)\n",
    "cls=[0,2,4,6,8,10]\n",
    "\n",
    "s_cls1=pd.cut(x=s,bins=cls,include_lowest=True,right=True)\n",
    "print(s_cls1)\n",
    "\n",
    "pd.value_counts(s_cls1)\n",
    "\n",
    "s_cls2=pd.cut(x=s,bins=4,labels=[\"class1\",\"class2\",\"class3\",\"class4\"])\n",
    "print(s_cls2)\n",
    "pd.value_counts(s_cls2)"
   ]
  },
  {
   "cell_type": "code",
   "execution_count": 24,
   "metadata": {},
   "outputs": [
    {
     "name": "stdout",
     "output_type": "stream",
     "text": [
      "[(12.543, 16.846], (3.043, 7.54], (11.535, 12.543], (11.535, 12.543], (7.54, 9.017], ..., (11.535, 12.543], (3.043, 7.54], (3.043, 7.54], (9.017, 10.425], (11.535, 12.543]]\n",
      "Length: 100\n",
      "Categories (6, interval[float64]): [(3.043, 7.54] < (7.54, 9.017] < (9.017, 10.425] < (10.425, 11.535] < (11.535, 12.543] < (12.543, 16.846]]\n"
     ]
    },
    {
     "data": {
      "text/plain": [
       "(12.543, 16.846]    17\n",
       "(10.425, 11.535]    17\n",
       "(7.54, 9.017]       17\n",
       "(3.043, 7.54]       17\n",
       "(11.535, 12.543]    16\n",
       "(9.017, 10.425]     16\n",
       "dtype: int64"
      ]
     },
     "execution_count": 24,
     "metadata": {},
     "output_type": "execute_result"
    }
   ],
   "source": [
    "#p334 각각 동일한 비율 갖게 계급 만들기\n",
    "\n",
    "from pandas import Series,DataFrame\n",
    "from numpy import nan as NA\n",
    "import numpy as np\n",
    "import pandas as pd\n",
    "\n",
    "np.random.seed(951753)\n",
    "s=np.random.normal(loc=10,scale=3,size=100)\n",
    "\n",
    "s_cls1=pd.qcut(x=s,q=6)\n",
    "print(s_cls1)\n",
    "\n",
    "pd.value_counts(s_cls1)"
   ]
  },
  {
   "cell_type": "code",
   "execution_count": 30,
   "metadata": {},
   "outputs": [
    {
     "data": {
      "text/html": [
       "<div>\n",
       "<style scoped>\n",
       "    .dataframe tbody tr th:only-of-type {\n",
       "        vertical-align: middle;\n",
       "    }\n",
       "\n",
       "    .dataframe tbody tr th {\n",
       "        vertical-align: top;\n",
       "    }\n",
       "\n",
       "    .dataframe thead th {\n",
       "        text-align: right;\n",
       "    }\n",
       "</style>\n",
       "<table border=\"1\" class=\"dataframe\">\n",
       "  <thead>\n",
       "    <tr style=\"text-align: right;\">\n",
       "      <th></th>\n",
       "      <th>v1</th>\n",
       "      <th>v2</th>\n",
       "      <th>v3</th>\n",
       "      <th>v4</th>\n",
       "    </tr>\n",
       "  </thead>\n",
       "  <tbody>\n",
       "    <tr>\n",
       "      <th>74</th>\n",
       "      <td>3.128487</td>\n",
       "      <td>-0.220302</td>\n",
       "      <td>-1.611062</td>\n",
       "      <td>0.143425</td>\n",
       "    </tr>\n",
       "    <tr>\n",
       "      <th>84</th>\n",
       "      <td>-0.607007</td>\n",
       "      <td>-0.523714</td>\n",
       "      <td>-3.112520</td>\n",
       "      <td>0.448497</td>\n",
       "    </tr>\n",
       "    <tr>\n",
       "      <th>90</th>\n",
       "      <td>0.367416</td>\n",
       "      <td>-1.196249</td>\n",
       "      <td>3.262756</td>\n",
       "      <td>0.071504</td>\n",
       "    </tr>\n",
       "    <tr>\n",
       "      <th>131</th>\n",
       "      <td>1.465023</td>\n",
       "      <td>2.299033</td>\n",
       "      <td>0.212082</td>\n",
       "      <td>3.528537</td>\n",
       "    </tr>\n",
       "    <tr>\n",
       "      <th>207</th>\n",
       "      <td>1.284202</td>\n",
       "      <td>-3.399291</td>\n",
       "      <td>-0.144366</td>\n",
       "      <td>-1.869674</td>\n",
       "    </tr>\n",
       "    <tr>\n",
       "      <th>435</th>\n",
       "      <td>-3.456706</td>\n",
       "      <td>-0.569109</td>\n",
       "      <td>-0.966048</td>\n",
       "      <td>-1.557567</td>\n",
       "    </tr>\n",
       "  </tbody>\n",
       "</table>\n",
       "</div>"
      ],
      "text/plain": [
       "           v1        v2        v3        v4\n",
       "74   3.128487 -0.220302 -1.611062  0.143425\n",
       "84  -0.607007 -0.523714 -3.112520  0.448497\n",
       "90   0.367416 -1.196249  3.262756  0.071504\n",
       "131  1.465023  2.299033  0.212082  3.528537\n",
       "207  1.284202 -3.399291 -0.144366 -1.869674\n",
       "435 -3.456706 -0.569109 -0.966048 -1.557567"
      ]
     },
     "execution_count": 30,
     "metadata": {},
     "output_type": "execute_result"
    }
   ],
   "source": [
    "#335 특이값 찾기 및 제외\n",
    "\n",
    "from pandas import Series,DataFrame\n",
    "from numpy import nan as NA\n",
    "import numpy as np\n",
    "import pandas as pd\n",
    "\n",
    "np.random.seed(91736482)\n",
    "df=DataFrame(np.random.randn(500,4),columns=[\"v1\",\"v2\",\"v3\",\"v4\"])\n",
    "df.describe()\n",
    "\n",
    "col=df[\"v3\"]\n",
    "col[np.abs(col)>3]\n",
    "df[(np.abs(df)>3).any(1)]\n",
    "\n",
    "#-3<  or  >3  일때 3으로 대체\n",
    "\n",
    "df[(np.abs(df)>3)]=np.sign(df)*3"
   ]
  },
  {
   "cell_type": "code",
   "execution_count": 37,
   "metadata": {},
   "outputs": [
    {
     "data": {
      "text/html": [
       "<div>\n",
       "<style scoped>\n",
       "    .dataframe tbody tr th:only-of-type {\n",
       "        vertical-align: middle;\n",
       "    }\n",
       "\n",
       "    .dataframe tbody tr th {\n",
       "        vertical-align: top;\n",
       "    }\n",
       "\n",
       "    .dataframe thead th {\n",
       "        text-align: right;\n",
       "    }\n",
       "</style>\n",
       "<table border=\"1\" class=\"dataframe\">\n",
       "  <thead>\n",
       "    <tr style=\"text-align: right;\">\n",
       "      <th></th>\n",
       "      <th>f</th>\n",
       "      <th>m</th>\n",
       "    </tr>\n",
       "  </thead>\n",
       "  <tbody>\n",
       "    <tr>\n",
       "      <th>0</th>\n",
       "      <td>0</td>\n",
       "      <td>1</td>\n",
       "    </tr>\n",
       "    <tr>\n",
       "      <th>1</th>\n",
       "      <td>1</td>\n",
       "      <td>0</td>\n",
       "    </tr>\n",
       "    <tr>\n",
       "      <th>2</th>\n",
       "      <td>0</td>\n",
       "      <td>1</td>\n",
       "    </tr>\n",
       "    <tr>\n",
       "      <th>3</th>\n",
       "      <td>1</td>\n",
       "      <td>0</td>\n",
       "    </tr>\n",
       "    <tr>\n",
       "      <th>4</th>\n",
       "      <td>0</td>\n",
       "      <td>1</td>\n",
       "    </tr>\n",
       "  </tbody>\n",
       "</table>\n",
       "</div>"
      ],
      "text/plain": [
       "   f  m\n",
       "0  0  1\n",
       "1  1  0\n",
       "2  0  1\n",
       "3  1  0\n",
       "4  0  1"
      ]
     },
     "execution_count": 37,
     "metadata": {},
     "output_type": "execute_result"
    }
   ],
   "source": [
    "#p336 더미 변수 사용\n",
    "\n",
    "from pandas import Series,DataFrame\n",
    "from numpy import nan as NA\n",
    "import numpy as np\n",
    "import pandas as pd\n",
    "\n",
    "df=DataFrame({\"name\":[\"kim\",\"lee\",\"bae\",\"cho\",\"kang\"],\"sex\":[\"m\",\"f\",\"m\",\"f\",\"m\"],\"home\":[\"마포\",\"수지\",\"처인\",\"용산\",\"종로\"],\"income\" :[250,195,325,210,274]})\n",
    "\n",
    "sex_dummy=pd.get_dummies(df[\"sex\"])\n",
    "sex_dummy\n"
   ]
  },
  {
   "cell_type": "code",
   "execution_count": null,
   "metadata": {},
   "outputs": [],
   "source": []
  }
 ],
 "metadata": {
  "kernelspec": {
   "display_name": "Python 3",
   "language": "python",
   "name": "python3"
  },
  "language_info": {
   "codemirror_mode": {
    "name": "ipython",
    "version": 3
   },
   "file_extension": ".py",
   "mimetype": "text/x-python",
   "name": "python",
   "nbconvert_exporter": "python",
   "pygments_lexer": "ipython3",
   "version": "3.6.8"
  }
 },
 "nbformat": 4,
 "nbformat_minor": 2
}
