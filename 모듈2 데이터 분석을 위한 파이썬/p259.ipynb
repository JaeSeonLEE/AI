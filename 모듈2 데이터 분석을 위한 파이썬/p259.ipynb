{
 "cells": [
  {
   "cell_type": "code",
   "execution_count": 7,
   "metadata": {},
   "outputs": [
    {
     "name": "stdout",
     "output_type": "stream",
     "text": [
      "steel_data \n",
      " [[ 81.4 195.   57. ]\n",
      " [122.2 179.   61. ]\n",
      " [101.7 205.   60. ]\n",
      " [175.6 204.   62. ]\n",
      " [150.3 201.   61. ]\n",
      " [ 64.8 184.   54. ]\n",
      " [ 92.1 210.   58. ]\n",
      " [113.8 209.   61. ]]\n"
     ]
    }
   ],
   "source": [
    "import numpy as np\n",
    "\n",
    "steel_data=np.loadtxt(\"C:\\Users\\Affinity\\Desktop\\lecture\\Python_Data\\ch02_data\\steel.txt\",skiprows=5,delimiter=\"\\t\",encoding=\"utf-8\")\n",
    "\n",
    "print(\"steel_data \\n {0}\".format(steel_data))"
   ]
  },
  {
   "cell_type": "code",
   "execution_count": 4,
   "metadata": {},
   "outputs": [
    {
     "ename": "SyntaxError",
     "evalue": "(unicode error) 'unicodeescape' codec can't decode bytes in position 2-3: truncated \\UXXXXXXXX escape (<ipython-input-4-11b5ad9cf3da>, line 2)",
     "output_type": "error",
     "traceback": [
      "\u001b[1;36m  File \u001b[1;32m\"<ipython-input-4-11b5ad9cf3da>\"\u001b[1;36m, line \u001b[1;32m2\u001b[0m\n\u001b[1;33m    steel_data=np.loadtxt(\"C:\\Users\\Affinity\\Desktop\\lecture\\Python_Data\\ch02_data\\steel.txt\",skiprows=5,delimiter=\"\\t\",encoding=\"utf-8\",usecols=(0, 2),unpack=True)\u001b[0m\n\u001b[1;37m                         ^\u001b[0m\n\u001b[1;31mSyntaxError\u001b[0m\u001b[1;31m:\u001b[0m (unicode error) 'unicodeescape' codec can't decode bytes in position 2-3: truncated \\UXXXXXXXX escape\n"
     ]
    }
   ],
   "source": [
    "import numpy as np\n",
    "steel_data=np.loadtxt(\"C:\\Users\\Affinity\\Desktop\\lecture\\Python_Data\\ch02_data\\steel.txt\",skiprows=5,delimiter=\"\\t\",encoding=\"utf-8\",usecols=(0, 2),unpack=True)\n",
    "\n",
    "print(\"steel_data \\n{0}\". format(steel_data))"
   ]
  },
  {
   "cell_type": "code",
   "execution_count": 6,
   "metadata": {},
   "outputs": [
    {
     "name": "stdout",
     "output_type": "stream",
     "text": [
      "a \n",
      " [[1 3 5 7]\n",
      " [5 3 4 7]] \n",
      " B \n",
      " [[1 3]\n",
      " [5 7]\n",
      " [5 3]\n",
      " [4 7]] \n",
      " C \n",
      "[[4 9 1 3]\n",
      " [7 5 2 7]\n",
      " [5 3 4 3]\n",
      " [1 4 7 9]]\n",
      "--------------------------------\n",
      "AB \n",
      " [[69 88]\n",
      " [68 97]]\n",
      "AB \n",
      " [4 5 4 9]\n",
      "diag(A[1] \n",
      " {0}) [[5 0 0 0]\n",
      " [0 3 0 0]\n",
      " [0 0 4 0]\n",
      " [0 0 0 7]]\n",
      "trace(A) \n",
      " 4\n",
      "det(C) \n",
      " -1549.999999999999\n"
     ]
    }
   ],
   "source": [
    "import numpy as np\n",
    "A=np.array([[1,3,5,7],[5,3,4,7]])\n",
    "B=np.array([[1,3],[5,7],[5,3],[4,7]])\n",
    "C=np.array([[4,9,1,3],[7,5,2,7],[5,3,4,3],[1,4,7,9]])\n",
    "\n",
    "print(\"a \\n {0} \\n B \\n {1} \\n C \\n{2}\".format(A,B,C))\n",
    "print(\"--------------------------------\")\n",
    "print(\"AB \\n {0}\". format(np.dot(A,B))) \n",
    "print(\"AB \\n {0}\". format(np.diag(C))) \n",
    "print(\"diag(A[1] \\n {0})\", format(np.diag(A[1])))\n",
    "print(\"trace(A) \\n {0}\".format(np.trace(A)))\n",
    "print(\"det(C) \\n {0}\". format(np.linalg.det(C)))"
   ]
  },
  {
   "cell_type": "code",
   "execution_count": 7,
   "metadata": {},
   "outputs": [
    {
     "name": "stdout",
     "output_type": "stream",
     "text": [
      "AB \n",
      " [[69 88]\n",
      " [68 97]]\n",
      "AB \n",
      " [4 5 4 9]\n",
      "diag(A[1] \n",
      " {0}) [[5 0 0 0]\n",
      " [0 3 0 0]\n",
      " [0 0 4 0]\n",
      " [0 0 0 7]]\n",
      "trace(A) \n",
      " 4\n",
      "det(C) \n",
      " -1549.999999999999\n"
     ]
    }
   ],
   "source": [
    "import numpy as np\n",
    "print(\"AB \\n {0}\". format(np.dot(A,B))) \n",
    "print(\"AB \\n {0}\". format(np.diag(C))) \n",
    "print(\"diag(A[1] \\n {0})\", format(np.diag(A[1])))\n",
    "print(\"trace(A) \\n {0}\".format(np.trace(A)))\n",
    "print(\"det(C) \\n {0}\". format(np.linalg.det(C)))\n"
   ]
  },
  {
   "cell_type": "code",
   "execution_count": null,
   "metadata": {},
   "outputs": [],
   "source": []
  }
 ],
 "metadata": {
  "kernelspec": {
   "display_name": "Python 3",
   "language": "python",
   "name": "python3"
  },
  "language_info": {
   "codemirror_mode": {
    "name": "ipython",
    "version": 3
   },
   "file_extension": ".py",
   "mimetype": "text/x-python",
   "name": "python",
   "nbconvert_exporter": "python",
   "pygments_lexer": "ipython3",
   "version": "3.7.4"
  },
  "widgets": {
   "state": {},
   "version": "1.1.2"
  }
 },
 "nbformat": 4,
 "nbformat_minor": 2
}
