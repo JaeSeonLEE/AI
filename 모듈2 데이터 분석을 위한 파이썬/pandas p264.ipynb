{
 "cells": [
  {
   "cell_type": "code",
   "execution_count": 5,
   "metadata": {},
   "outputs": [
    {
     "name": "stdout",
     "output_type": "stream",
     "text": [
      "Series \n",
      " 0    14\n",
      "1   -27\n",
      "2    35\n",
      "3    73\n",
      "dtype: int64 \n",
      " value \n",
      " [ 14 -27  35  73] \n",
      " inddex \n",
      " RangeIndex(start=0, stop=4, step=1)\n"
     ]
    }
   ],
   "source": [
    "from pandas import Series, DataFrame\n",
    "import pandas as pd\n",
    "import numpy as np\n",
    "\n",
    "obj=Series([14,-27,35,73])\n",
    "print(\"Series \\n {0} \\n value \\n {1} \\n inddex \\n {2}\".format(obj,obj.values,obj.index))"
   ]
  },
  {
   "cell_type": "code",
   "execution_count": 6,
   "metadata": {},
   "outputs": [
    {
     "name": "stdout",
     "output_type": "stream",
     "text": [
      "Series['lee' , 'cho'] \n",
      " lee   -27\n",
      "cho    73\n",
      "dtype: int64\n"
     ]
    }
   ],
   "source": [
    "from pandas import Series, DataFrame\n",
    "import pandas as pd\n",
    "import numpy as np\n",
    "\n",
    "obj=Series([14,-27,35,73], index=[\"kim\",\"lee\",\"bae\",\"cho\"])\n",
    "print(\"Series['lee' , 'cho'] \\n {0}\".format(obj[[\"lee\",\"cho\"]]))"
   ]
  },
  {
   "cell_type": "code",
   "execution_count": 8,
   "metadata": {},
   "outputs": [
    {
     "name": "stdout",
     "output_type": "stream",
     "text": [
      "obj \n",
      "kim     96\n",
      "lee     73\n",
      "bae     83\n",
      "cho     97\n",
      "jang    68\n",
      "kang    72\n",
      "dtype: int64 \n",
      " \n",
      "obj1 \n",
      " lee     83\n",
      "jang    78\n",
      "kang    82\n",
      "dtype: int64 \n",
      " \n",
      " exp(obj1) \n",
      "lee     1.112864e+36\n",
      "jang    7.498417e+33\n",
      "kang    4.093997e+35\n",
      "dtype: float64\n"
     ]
    }
   ],
   "source": [
    "#p265 위\n",
    "from pandas import Series, DataFrame\n",
    "import pandas as pd\n",
    "import numpy as np\n",
    "\n",
    "obj=Series([96,73,83,97,68,72],index=[\"kim\",\"lee\",\"bae\",\"cho\",\"jang\",\"kang\"])\n",
    "print(\"obj \\n{0} \\n \".format(obj))\n",
    "\n",
    "obj1=obj[(obj>=60) & (obj<80)]+10\n",
    "print(\"obj1 \\n {0} \\n \\n exp(obj1) \\n{1}\".format(obj1,np.exp(obj1)))\n"
   ]
  },
  {
   "cell_type": "code",
   "execution_count": 9,
   "metadata": {},
   "outputs": [
    {
     "name": "stdout",
     "output_type": "stream",
     "text": [
      "obj \n",
      "stat    270\n",
      "econ    150\n",
      "math     21\n",
      "comp    175\n",
      "dtype: int64 \n",
      "\n",
      "obj \n",
      "econ    150.0\n",
      "stat    270.0\n",
      "engi      NaN\n",
      "math     21.0\n",
      "dtype: float64 \n",
      " \n"
     ]
    }
   ],
   "source": [
    "#p265 아래\n",
    "from pandas import Series, DataFrame\n",
    "import pandas as pd\n",
    "import numpy as np\n",
    "\n",
    "dic={\"stat\":270, \"econ\":150, \"math\":21, \"comp\":175}\n",
    "obj1=Series(dic)\n",
    "\n",
    "print(\"obj \\n{0} \\n\".format(obj1))\n",
    "\n",
    "obj2=Series(dic,index=[\"econ\",\"stat\",\"engi\",\"math\"])\n",
    "print(\"obj \\n{0} \\n \".format(obj2))"
   ]
  },
  {
   "cell_type": "code",
   "execution_count": null,
   "metadata": {},
   "outputs": [],
   "source": []
  },
  {
   "cell_type": "code",
   "execution_count": null,
   "metadata": {},
   "outputs": [],
   "source": []
  },
  {
   "cell_type": "code",
   "execution_count": null,
   "metadata": {},
   "outputs": [],
   "source": []
  }
 ],
 "metadata": {
  "kernelspec": {
   "display_name": "Python 3",
   "language": "python",
   "name": "python3"
  },
  "language_info": {
   "codemirror_mode": {
    "name": "ipython",
    "version": 3
   },
   "file_extension": ".py",
   "mimetype": "text/x-python",
   "name": "python",
   "nbconvert_exporter": "python",
   "pygments_lexer": "ipython3",
   "version": "3.7.4"
  },
  "widgets": {
   "state": {},
   "version": "1.1.2"
  }
 },
 "nbformat": 4,
 "nbformat_minor": 2
}
