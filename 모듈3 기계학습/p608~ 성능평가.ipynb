{
 "cells": [
  {
   "cell_type": "code",
   "execution_count": 20,
   "metadata": {},
   "outputs": [
    {
     "name": "stdout",
     "output_type": "stream",
     "text": [
      "ROC: (array([0.        , 0.01408451, 0.0915493 , 0.18309859, 0.33098592,\n",
      "       0.5       , 1.        ]), array([0.        , 0.2721519 , 0.65189873, 0.89873418, 0.98101266,\n",
      "       0.99367089, 1.        ]), array([2. , 1. , 0.8, 0.6, 0.4, 0.2, 0. ]))\n",
      "AUC : 0.91\n"
     ]
    },
    {
     "data": {
      "image/png": "[encoded data removed]",
      "text/plain": [
       "<Figure size 432x288 with 1 Axes>"
      ]
     },
     "metadata": {
      "needs_background": "light"
     },
     "output_type": "display_data"
    }
   ],
   "source": [
    "#p617  ROC 그리기\n",
    "\n",
    "import numpy as np\n",
    "import pandas as pd\n",
    "import matplotlib.pyplot as plt \n",
    "import seaborn as sns\n",
    "\n",
    "#roc 곡선 과 auc 점수\n",
    "from sklearn.datasets import make_classification\n",
    "from sklearn.neighbors import KNeighborsClassifier\n",
    "from sklearn.model_selection import train_test_split\n",
    "from sklearn.metrics import roc_curve\n",
    "from sklearn.metrics import roc_auc_score\n",
    "\n",
    "def plot_roc_curve(fpr, tpr):\n",
    "    plt.plot(fpr,tpr,color= 'orange', label= 'ROC')\n",
    "    plt.plot([0,1],[0,1],color='darkblue',linestyle= '--')\n",
    "    plt.xlabel('False Positive Rate')\n",
    "    plt.ylabel('True Positive Rate')\n",
    "    plt.title('Receiver Operating Characteristic (ROC) Curve')\n",
    "    plt.legend()\n",
    "    plt.show()\n",
    "    \n",
    "#p618 ROC 그리기\n",
    "\n",
    "data_X, class_label= make_classification(n_samples=1000, n_classes=2, weights=[1,1], random_state=1)\n",
    "\n",
    "trainX,testX,trainy,testy= train_test_split(data_X,class_label,test_size=0.3,random_state=1)\n",
    "\n",
    "model=KNeighborsClassifier()\n",
    "model.fit(trainX,trainy)\n",
    "\n",
    "probs=model.predict_proba(testX)\n",
    "probs=probs[:,1]\n",
    "\n",
    "roc=roc_curve(testy,probs)\n",
    "print('ROC: {}'.format(roc))\n",
    "\n",
    "auc=roc_auc_score(testy,probs)\n",
    "print('AUC : %.2f' % auc)\n",
    "\n",
    "fpr,tpr,thresholds= roc_curve(testy,probs)\n",
    "plot_roc_curve(fpr,tpr)\n"
   ]
  },
  {
   "cell_type": "code",
   "execution_count": 34,
   "metadata": {},
   "outputs": [
    {
     "name": "stdout",
     "output_type": "stream",
     "text": [
      "교차 검증 점수: [0.98039216 0.98039216 1.        ]\n",
      "교차검증 점수:  [0.96666667 1.         0.93333333 0.96666667 1.        ]\n",
      "교차 검증 평균 점수: 0.97\n"
     ]
    },
    {
     "name": "stderr",
     "output_type": "stream",
     "text": [
      "C:\\ProgramData\\Anaconda3\\envs\\mypython\\lib\\site-packages\\sklearn\\model_selection\\_split.py:2053: FutureWarning: You should specify a value for 'cv' instead of relying on the default value. The default value will change from 3 to 5 in version 0.22.\n",
      "  warnings.warn(CV_WARNING, FutureWarning)\n"
     ]
    },
    {
     "data": {
      "text/plain": [
       "{'fit_time': array([0.00049615, 0.00049472, 0.        , 0.00027061, 0.00049734]),\n",
       " 'score_time': array([0.00149035, 0.00099325, 0.00098848, 0.00148821, 0.00099087]),\n",
       " 'test_score': array([0.96666667, 1.        , 0.93333333, 0.96666667, 1.        ]),\n",
       " 'train_score': array([0.96666667, 0.96666667, 0.975     , 0.975     , 0.96666667])}"
      ]
     },
     "metadata": {},
     "output_type": "display_data"
    }
   ],
   "source": [
    "#p621 k겹 교차검증   (k-fold)\n",
    "\n",
    "from sklearn.model_selection import cross_val_score\n",
    "from sklearn.datasets import load_iris\n",
    "from sklearn.neighbors import KNeighborsClassifier\n",
    "\n",
    "iris=load_iris()\n",
    "KNN=KNeighborsClassifier()\n",
    "scores=cross_val_score(KNN,iris.data,iris.target)\n",
    "print(\"교차 검증 점수:\", scores)\n",
    "\n",
    "scores=cross_val_score(KNN,iris.data, iris.target,cv=5)\n",
    "print(\"교차검증 점수: \", scores)\n",
    "\n",
    "print(\"교차 검증 평균 점수: {:.2f}\".format(scores.mean()))\n",
    "\n",
    "# p622\n",
    "from sklearn.model_selection import cross_validate\n",
    "res=cross_validate(KNN,iris.data,iris.target,cv=5,return_train_score=True)\n",
    "\n",
    "display(res)"
   ]
  },
  {
   "cell_type": "code",
   "execution_count": 39,
   "metadata": {},
   "outputs": [
    {
     "name": "stdout",
     "output_type": "stream",
     "text": [
      "교차 검증 분할 횟수:  10\n",
      "평균 정확도: 0.97\n"
     ]
    }
   ],
   "source": [
    "#p625  LOOCV\n",
    "\n",
    "from sklearn.model_selection import LeaveOneOut\n",
    "Loo=LeaveOneOut()\n",
    "\n",
    "scores= cross_val_score(KNN,iris.data,iris.target,cv=10)\n",
    "\n",
    "print(\"교차 검증 분할 횟수: \",len(scores))\n",
    "print(\"평균 정확도: {:.2f}\".format(scores.mean()))"
   ]
  },
  {
   "cell_type": "code",
   "execution_count": 52,
   "metadata": {},
   "outputs": [
    {
     "name": "stdout",
     "output_type": "stream",
     "text": [
      "교차 검증 점수: \n",
      " [0.97333333 0.94666667 0.97333333 0.96       0.97333333 0.96\n",
      " 0.94666667 0.92       0.96       0.98666667]\n"
     ]
    }
   ],
   "source": [
    "#p626 임의 분할 교차 검증\n",
    "from sklearn.model_selection import ShuffleSplit\n",
    "shuffle_split=ShuffleSplit(test_size=.5,train_size=.5,n_splits=10)\n",
    "scores=cross_val_score(KNN,iris.data, iris.target,cv=shuffle_split)\n",
    "\n",
    "print(\"교차 검증 점수: \\n\", scores)\n"
   ]
  },
  {
   "cell_type": "code",
   "execution_count": 57,
   "metadata": {},
   "outputs": [
    {
     "name": "stdout",
     "output_type": "stream",
     "text": [
      "교차 검증 점수 \n",
      " [0.96666667 0.96666667 0.96666667 0.93333333 1.         0.93333333\n",
      " 1.         0.96666667 0.96666667 0.93333333 0.96666667 0.96666667\n",
      " 1.         0.96666667 0.93333333 1.         0.96666667 0.96666667\n",
      " 0.86666667 0.96666667 0.96666667 0.96666667 0.96666667 1.\n",
      " 0.96666667 1.         0.93333333 0.96666667 0.96666667 0.96666667\n",
      " 0.93333333 0.96666667 1.         1.         0.96666667 0.9\n",
      " 0.96666667 0.96666667 1.         1.         0.96666667 0.96666667\n",
      " 1.         0.93333333 0.93333333 0.96666667 0.96666667 0.93333333\n",
      " 1.         0.96666667]\n",
      "교차 검증 평균 점수: 0.965\n"
     ]
    }
   ],
   "source": [
    "#p627  반복 교차 검증\n",
    "\n",
    "from sklearn.model_selection import cross_val_score, KFold,StratifiedKFold\n",
    "from sklearn.datasets import load_iris\n",
    "from sklearn.neighbors import KNeighborsClassifier\n",
    "iris= load_iris()\n",
    "\n",
    "KNN=KNeighborsClassifier()\n",
    "\n",
    "from sklearn.model_selection import RepeatedStratifiedKFold\n",
    "\n",
    "rskfold=RepeatedStratifiedKFold(random_state=42)\n",
    "scores=cross_val_score(KNN,iris.data,iris.target,cv=rskfold)\n",
    "\n",
    "print(\"교차 검증 점수 \\n\", scores)\n",
    "print(\"교차 검증 평균 점수: {:.3f}\".format(scores.mean()))"
   ]
  },
  {
   "cell_type": "code",
   "execution_count": 44,
   "metadata": {},
   "outputs": [
    {
     "name": "stdout",
     "output_type": "stream",
     "text": [
      "훈련 세트의 크기: 112 테스트 세트의 크기: 38 \n",
      "최고 점수: 0.97\n",
      "최적 매개변수:  {'C': 100, 'gamma': 0.001}\n"
     ]
    }
   ],
   "source": [
    "#p628 간단한 그리드 서치구현\n",
    "\n",
    "from sklearn.svm import SVC\n",
    "X_train, X_test, y_train, y_test = train_test_split(iris.data, iris.target, random_state=0)\n",
    "\n",
    "print(\"훈련 세트의 크기: {} 테스트 세트의 크기: {} \".format(X_train.shape[0],\n",
    "                                             X_test.shape[0]))\n",
    "\n",
    "best_score=0\n",
    "\n",
    "for gamma in [0.001,0.01,0.1,1,10,100]:\n",
    "    for C in [0.001,0.01,0.1,1,10,100]:\n",
    "        #매개변수의 각 조합에 대해 svc 훈련\n",
    "        svm=SVC(gamma=gamma,C=C)\n",
    "        svm.fit(X_train, y_train)\n",
    "        \n",
    "        #테스트 세트로 svc를 평가\n",
    "        \n",
    "        score=svm.score(X_test,y_test)\n",
    "        \n",
    "        #점수가 더 높으면 매개변수와 기록\n",
    "        \n",
    "        if score > best_score:\n",
    "            best_score=score\n",
    "            best_parameters={'C':C , 'gamma':gamma}\n",
    "            \n",
    "print(\"최고 점수: {:.2f}\".format(best_score))\n",
    "print(\"최적 매개변수: \",best_parameters)\n",
    "\n"
   ]
  },
  {
   "cell_type": "code",
   "execution_count": 47,
   "metadata": {},
   "outputs": [
    {
     "name": "stdout",
     "output_type": "stream",
     "text": [
      "훈련 세트의 크기: 84 테스트 세트의 크기: 38 \n",
      "검증 세트에서 최고 점수: 0.96\n",
      "최적 매개변수:  {'C': 10, 'gamma': 0.001}\n",
      "최적 매개변수에서 테스트 세트 점수: 0.92\n"
     ]
    }
   ],
   "source": [
    "#p630 매개변수 과대적합과 검증세트\n",
    "# 데이터를 훈련+검증 세트 ,테스트 세트로 분할\n",
    "from sklearn.svm import SVC\n",
    "X_trainval, X_test, y_trainval, y_test = train_test_split(iris.data, iris.target, random_state=0)\n",
    "\n",
    "\n",
    "#훈련+검증 세트를 훈련세트와 검증세트로 분할\n",
    "X_train, X_valid, y_train, y_valid = train_test_split(X_trainval,y_trainval, random_state=1)\n",
    "\n",
    "\n",
    "print(\"훈련 세트의 크기: {} 테스트 세트의 크기: {} \".format(X_train.shape[0],X_test.shape[0],\n",
    "                                             X_test.shape[0]))\n",
    "\n",
    "best_score=0\n",
    "\n",
    "for gamma in [0.001,0.01,0.1,1,10,100]:\n",
    "    for C in [0.001,0.01,0.1,1,10,100]:\n",
    "        #매개변수의 각 조합에 대해 svc 훈련\n",
    "        svm=SVC(gamma=gamma,C=C)\n",
    "        svm.fit(X_train, y_train)\n",
    "        \n",
    "        #테스트 세트로 svc를 평가\n",
    "        \n",
    "        score=svm.score(X_valid,y_valid)\n",
    "        \n",
    "        #점수가 더 높으면 매개변수와 기록\n",
    "        \n",
    "        if score > best_score:\n",
    "            best_score=score\n",
    "            best_parameters={'C':C , 'gamma':gamma}\n",
    " \n",
    "        #훈련 세트와 검증 세트를 합쳐 모델 다시 만후 테스트 세트 사용하고 평가\n",
    "\n",
    "svm=SVC(**best_parameters)\n",
    "svm.fit(X_trainval,y_trainval)\n",
    "test_score=svm.score(X_test,y_test)\n",
    "\n",
    "print(\"검증 세트에서 최고 점수: {:.2f}\".format(best_score))\n",
    "print(\"최적 매개변수: \",best_parameters)\n",
    "print(\"최적 매개변수에서 테스트 세트 점수: {:.2f}\".format(test_score))\n"
   ]
  },
  {
   "cell_type": "code",
   "execution_count": null,
   "metadata": {},
   "outputs": [],
   "source": []
  }
 ],
 "metadata": {
  "kernelspec": {
   "display_name": "Keras",
   "language": "python",
   "name": "keras"
  },
  "language_info": {
   "codemirror_mode": {
    "name": "ipython",
    "version": 3
   },
   "file_extension": ".py",
   "mimetype": "text/x-python",
   "name": "python",
   "nbconvert_exporter": "python",
   "pygments_lexer": "ipython3",
   "version": "3.6.8"
  },
  "widgets": {
   "state": {},
   "version": "1.1.2"
  }
 },
 "nbformat": 4,
 "nbformat_minor": 2
}
