{
 "cells": [
  {
   "cell_type": "markdown",
   "metadata": {},
   "source": [
    "#  텍스트 데이터 전처리"
   ]
  },
  {
   "cell_type": "markdown",
   "metadata": {},
   "source": [
    " 용도에 맞게 텍스트를 사전에 처리하는 작업\n",
    " -코퍼스 데이터를 용도에 맞게 토큰화,정제,정규화 함\n",
    " \n",
    " 코퍼스: 말뭉치 or 말모둠 (언어 데이터를 모아둔 집합)\n",
    " "
   ]
  },
  {
   "cell_type": "markdown",
   "metadata": {},
   "source": [
    "# 토큰화 "
   ]
  },
  {
   "cell_type": "markdown",
   "metadata": {},
   "source": [
    "주어진 코퍼스에서 토큰 다위로 나누는 작업\n",
    "1)텍스트에 대한 정보를 의미있는 단위별로 구분\n",
    "2)NLTK,KoNLPY 라이브러리 이용\n"
   ]
  },
  {
   "cell_type": "markdown",
   "metadata": {},
   "source": [
    "# 토큰화에서 고려 상항"
   ]
  },
  {
   "cell_type": "markdown",
   "metadata": {},
   "source": [
    "1. 구두점이나 특수 문자를 단순 제외해서는 안됨\n",
    " -구두점조차 하나의 토큰으로 분류하기도 함\n",
    " \n",
    "2.줄임말과 단언 내에 띄어쓰기가 있는 경우"
   ]
  },
  {
   "cell_type": "markdown",
   "metadata": {},
   "source": [
    "# 한국어 톤큰화\n",
    " 한국어 토큰화에서는 형태소(morpheme)란 개념을 반드시 이해해야 합니다. 형태소(morpheme)란 뜻을 가진 가장 작은 말의 단위를 말합니다. 이 형태소에는 두 가지 형태소가 있는데 자립 형태소와 의존 형태소입니다.\n",
    "\n",
    "자립 형태소 : 접사, 어미, 조사와 상관없이 자립하여 사용할 수 있는 형태소. 그 자체로 단어가 된다. 체언(명사, 대명사, 수사), 수식언(관형사, 부사), 감탄사 등이 있다.\n",
    "의존 형태소 : 다른 형태소와 결합하여 사용되는 형태소. 접사, 어미, 조사, 어간를 말한다.\n",
    "\n",
    "예를 들어 다음과 같은 문장이 있다고 합시다.\n",
    "\n",
    "문장 : 에디가 딥러닝책을 읽었다\n",
    "이를 형태소 단위로 분해하면 다음과 같습니다.\n",
    "\n",
    "자립 형태소 : 에디, 딥러닝책\n",
    "의존 형태소 : -가, -을, 읽-, -었, -다\n",
    "\n",
    "이를 통해 유추할 수 있는 것은 한국어에서 영어에서의 단어 토큰화와 유사한 형태를 얻으려면 어절 토큰화가 아니라 형태소 토큰화를 수행해야한다는 겁니다."
   ]
  },
  {
   "cell_type": "markdown",
   "metadata": {},
   "source": [
    "# NLTK의 word_tokenize 사용 "
   ]
  },
  {
   "cell_type": "code",
   "execution_count": null,
   "metadata": {},
   "outputs": [],
   "source": []
  },
  {
   "cell_type": "code",
   "execution_count": 6,
   "metadata": {},
   "outputs": [
    {
     "name": "stderr",
     "output_type": "stream",
     "text": [
      "[nltk_data] Downloading package punkt to\n",
      "[nltk_data]     C:\\Users\\Affinity\\AppData\\Roaming\\nltk_data...\n",
      "[nltk_data]   Unzipping tokenizers\\punkt.zip.\n"
     ]
    },
    {
     "name": "stdout",
     "output_type": "stream",
     "text": [
      "['Do', \"n't\", 'be', 'fooled', 'by', 'the', 'dark', 'sounding', 'name', ',', 'Mr.Jong', \"'s\", 'Orphanage', 'is', 'as', 'cheery', 'as', 'cheery', 'goes', 'for', 'a', 'pastry', 'shop', '.']\n"
     ]
    }
   ],
   "source": [
    "import nltk\n",
    "from nltk.tokenize import word_tokenize\n",
    "nltk.download('punkt')\n",
    "\n",
    "print(word_tokenize(\"Don't be fooled by the dark sounding name, Mr.Jong's Orphanage is as cheery as cheery goes for a pastry shop.\"))"
   ]
  },
  {
   "cell_type": "markdown",
   "metadata": {},
   "source": [
    "nltk의 WordPunctTokenizer 사용"
   ]
  },
  {
   "cell_type": "code",
   "execution_count": 5,
   "metadata": {},
   "outputs": [
    {
     "data": {
      "text/plain": [
       "['Don',\n",
       " \"'\",\n",
       " 't',\n",
       " 'be',\n",
       " 'fooled',\n",
       " 'by',\n",
       " 'the',\n",
       " 'dark',\n",
       " 'sounding',\n",
       " 'name',\n",
       " ',',\n",
       " 'Mr',\n",
       " '.',\n",
       " 'Jong',\n",
       " \"'\",\n",
       " 's',\n",
       " 'Orphanage',\n",
       " 'is',\n",
       " 'as',\n",
       " 'cheery',\n",
       " 'as',\n",
       " 'cheery',\n",
       " 'goes',\n",
       " 'for',\n",
       " 'a',\n",
       " 'pastry',\n",
       " 'shop',\n",
       " '.']"
      ]
     },
     "execution_count": 5,
     "metadata": {},
     "output_type": "execute_result"
    }
   ],
   "source": [
    "import nltk\n",
    "from nltk.tokenize import WordPunctTokenizer\n",
    "WordPunctTokenizer().tokenize(\"Don't be fooled by the dark sounding name, Mr.Jong's Orphanage is as cheery as cheery goes for a pastry shop.\")"
   ]
  },
  {
   "cell_type": "markdown",
   "metadata": {},
   "source": [
    "# 표준 토큰화 예제"
   ]
  },
  {
   "cell_type": "code",
   "execution_count": 9,
   "metadata": {},
   "outputs": [
    {
     "data": {
      "text/plain": [
       "['Starting',\n",
       " 'a',\n",
       " 'home-based',\n",
       " 'restaurant',\n",
       " 'may',\n",
       " 'be',\n",
       " 'an',\n",
       " 'ideal.',\n",
       " 'It',\n",
       " 'does',\n",
       " \"n't\",\n",
       " 'have',\n",
       " 'a',\n",
       " 'food',\n",
       " 'chain',\n",
       " 'or',\n",
       " 'restaurant',\n",
       " 'of',\n",
       " 'their',\n",
       " 'own',\n",
       " '.']"
      ]
     },
     "execution_count": 9,
     "metadata": {},
     "output_type": "execute_result"
    }
   ],
   "source": [
    "#규칙1. 하이픈으로 구성된 단어는 하나로 유지\n",
    "#    2. doesn't와 같이 아포스트로피로 '접어'가 함께하는 단어 분리\n",
    "import nltk\n",
    "from nltk.tokenize import TreebankWordTokenizer\n",
    "tokenizer=TreebankWordTokenizer()\n",
    "\n",
    "text=\"Starting a home-based restaurant may be an ideal. It doesn't have a food chain or restaurant of their own.\"\n",
    "tokenizer.tokenize(text)"
   ]
  },
  {
   "cell_type": "markdown",
   "metadata": {},
   "source": [
    "# NLTK를 이용한 영어 토큰화\n",
    "-NLTK에서는 영어 코퍼스에 품사 태깅 기능을 지원\n",
    "-NLTK에서는 Penn Treebank POS Tags라는 기준을 사용"
   ]
  },
  {
   "cell_type": "code",
   "execution_count": 11,
   "metadata": {},
   "outputs": [
    {
     "name": "stdout",
     "output_type": "stream",
     "text": [
      "['I', 'am', 'actively', 'looking', 'for', 'Ph.D.', 'students', '.', 'and', 'you', 'are', 'a', 'Ph.D.', 'student', '.']\n"
     ]
    }
   ],
   "source": [
    "#토큰화 수행\n",
    "import nltk\n",
    "from nltk.tokenize import word_tokenize\n",
    "text=\"I am actively looking for Ph.D. students. and you are a Ph.D. student.\"\n",
    "print(word_tokenize(text))"
   ]
  },
  {
   "cell_type": "code",
   "execution_count": 13,
   "metadata": {},
   "outputs": [
    {
     "name": "stderr",
     "output_type": "stream",
     "text": [
      "[nltk_data] Downloading package averaged_perceptron_tagger to\n",
      "[nltk_data]     C:\\Users\\Affinity\\AppData\\Roaming\\nltk_data...\n",
      "[nltk_data]   Unzipping taggers\\averaged_perceptron_tagger.zip.\n"
     ]
    },
    {
     "data": {
      "text/plain": [
       "[('I', 'PRP'),\n",
       " ('am', 'VBP'),\n",
       " ('actively', 'RB'),\n",
       " ('looking', 'VBG'),\n",
       " ('for', 'IN'),\n",
       " ('Ph.D.', 'NNP'),\n",
       " ('students', 'NNS'),\n",
       " ('.', '.'),\n",
       " ('and', 'CC'),\n",
       " ('you', 'PRP'),\n",
       " ('are', 'VBP'),\n",
       " ('a', 'DT'),\n",
       " ('Ph.D.', 'NNP'),\n",
       " ('student', 'NN'),\n",
       " ('.', '.')]"
      ]
     },
     "execution_count": 13,
     "metadata": {},
     "output_type": "execute_result"
    }
   ],
   "source": [
    "#품사태깅\n",
    "from nltk.tag import pos_tag\n",
    "nltk.download('averaged_perceptron_tagger')\n",
    "\n",
    "x=word_tokenize(text)\n",
    "pos_tag(x)"
   ]
  },
  {
   "cell_type": "markdown",
   "metadata": {},
   "source": [
    "PRP는 인칭 대명사, VBP는 동사, RB는 부사, VBG는 현재부사, IN은 전치사, NNP는 고유 명사, NNS는 복수형 명사, CC는 접속사, DT는 관사를 의미"
   ]
  },
  {
   "cell_type": "markdown",
   "metadata": {},
   "source": [
    "# okt 분석기 사용"
   ]
  },
  {
   "cell_type": "code",
   "execution_count": 1,
   "metadata": {},
   "outputs": [
    {
     "name": "stderr",
     "output_type": "stream",
     "text": [
      "C:\\Users\\Affinity\\.conda\\envs\\keras\\lib\\site-packages\\jpype\\_core.py:210: UserWarning: \n",
      "-------------------------------------------------------------------------------\n",
      "Deprecated: convertStrings was not specified when starting the JVM. The default\n",
      "behavior in JPype will be False starting in JPype 0.8. The recommended setting\n",
      "for new code is convertStrings=False.  The legacy value of True was assumed for\n",
      "this session. If you are a user of an application that reported this warning,\n",
      "please file a ticket with the developer.\n",
      "-------------------------------------------------------------------------------\n",
      "\n",
      "  \"\"\")\n"
     ]
    },
    {
     "name": "stdout",
     "output_type": "stream",
     "text": [
      "['열심히', '코딩', '한', '당신', ',', '연휴', '에는', '여행', '을', '가봐요']\n"
     ]
    }
   ],
   "source": [
    "from konlpy.tag import Okt\n",
    "\n",
    "okt=Okt()\n",
    "\n",
    "print(okt.morphs(\"열심히 코딩한 당신, 연휴에는 여행을 가봐요\")) #형태소 추출"
   ]
  },
  {
   "cell_type": "code",
   "execution_count": 4,
   "metadata": {},
   "outputs": [
    {
     "name": "stdout",
     "output_type": "stream",
     "text": [
      "[('열심히', 'Adverb'), ('코딩', 'Noun'), ('한', 'Josa'), ('당신', 'Noun'), (',', 'Punctuation'), ('연휴', 'Noun'), ('에는', 'Josa'), ('여행', 'Noun'), ('을', 'Josa'), ('가봐요', 'Verb')]\n",
      "-----------------------------------\n",
      "['코딩', '당신', '연휴', '여행']\n"
     ]
    }
   ],
   "source": [
    "#품사태깅\n",
    "print(okt.pos(\"열심히 코딩한 당신, 연휴에는 여행을 가봐요\")) \n",
    "\n",
    "print(\"-----------------------------------\")\n",
    "#명사 추출\n",
    "print(okt.nouns(\"열심히 코딩한 당신, 연휴에는 여행을 가봐요\"))  "
   ]
  },
  {
   "cell_type": "markdown",
   "metadata": {},
   "source": [
    "# 한나눔 분석기 사용예제 "
   ]
  },
  {
   "cell_type": "code",
   "execution_count": 5,
   "metadata": {},
   "outputs": [
    {
     "name": "stdout",
     "output_type": "stream",
     "text": [
      "['형태소', '분석']\n"
     ]
    }
   ],
   "source": [
    "from konlpy.tag import Hannanum           #한나눔 모듈 불러오기\n",
    "han=Hannanum()\n",
    "\n",
    "print(han.nouns('형태소 분석을 해봅시다. 어렵지않아요'))   #명사 분석"
   ]
  },
  {
   "cell_type": "code",
   "execution_count": 7,
   "metadata": {},
   "outputs": [
    {
     "name": "stdout",
     "output_type": "stream",
     "text": [
      "['형태소', '분석', '을', '하', '어', '보', 'ㅂ시다', '.', '어렵', '지', '않', '아요']\n",
      "--------------------------\n",
      "[('형태소', 'N'), ('분석', 'N'), ('을', 'J'), ('하', 'P'), ('어', 'E'), ('보', 'P'), ('ㅂ시다', 'E'), ('.', 'S'), ('어렵', 'P'), ('지', 'E'), ('않', 'P'), ('아요', 'E')]\n"
     ]
    }
   ],
   "source": [
    "print(han.morphs('형태소 분석을 해봅시다. 어렵지않아요'))   #형태소 분석\n",
    "\n",
    "print(\"--------------------------\")\n",
    "print(han.pos('형태소 분석을 해봅시다. 어렵지않아요'))      #품사분석, 형태소와 품사로 이루어진                                                                튜플 리스트"
   ]
  },
  {
   "cell_type": "markdown",
   "metadata": {},
   "source": [
    " E\t어미\tEC\t연결 어미\tEC\t연결 어미\tEC\t연결 어미\tAdjective\t형용사\n",
    "1\tEC\t연결 어미\tECD\t의존적 연결 어미\tEF\t종결 어미\tEF\t종결 어미\tAdverb\t부사\n",
    "2\tEF\t종결 어미\tECE\t대등 연결 어미\tEP\t선어말어미\tEP\t선어말어미\tAlpha\t알파벳\n",
    "3\tEP\t선어말어미\tECS\t보조적 연결 어미\tETM\t관형형 전성 어미\tETM\t관형형 전성 어미\tConjunction\t접속사\n",
    "4\tET\t전성 어미\tEF\t종결 어미\tETN\t명사형 전성 어미\tETN\t명사형 전성 어미\tDeterminer\t관형사\n",
    "5\tF\t외국어\tEFA\t청유형 종결 어미\tIC\t감탄사\tIC\t감탄사\tEomi\t어미\n",
    "6\tI\t독립언\tEFI\t감탄형 종결 어미\tJC\t접속 조사\tJC\t접속 조사\tExclamation\t감탄사\n",
    "7\tII\t감탄사\tEFN\t평서형 종결 어미\tJKB\t부사격 조사\tJKB\t부사격 조사\tForeign\t외국어, 한자 및 기타기호\n",
    "8\tJ\t관계언\tEFO\t명령형 종결 어미\tJKC\t보격 조사\tJKC\t보격 조사\tHashtag\t트위터 해쉬태그\n",
    "9\tJC\t격조사\tEFQ\t의문형 종결 어미\tJKG\t관형격 조사\tJKG\t관형격 조사\tJosa\t조사\n",
    "10\tJP\t서술격 조사\tEFR\t존칭형 종결 어미\tJKO\t목적격 조사\tJKO\t목적격 조사\tKoreanParticle\t(ex: ㅋㅋ)\n",
    "11\tJX\t보조사\tEP\t선어말 어미\tJKQ\t인용격 조사\tJKQ\t인용격 조사\tNoun\t명사\n",
    "12\tM\t수식언\tEPH\t존칭 선어말 어미\tJKS\t주격 조사\tJKS\t주격 조사\tNumber\t숫자\n",
    "13\tMA\t부사\tEPP\t공손 선어말 어미\tJKV\t호격 조사\tJKV\t호격 조사\tPreEomi\t선어말어미\n",
    "14\tMM\t관형사\tEPT\t시제 선어말 어미\tJX\t보조사\tJX\t보조사\tPunctuation\t구두점\n",
    "15\tN\t체언\tET\t전성 어미\tMAG\t일반 부사\tMAG\t일반 부사\tScreenName\t트위터 아이디\n",
    "16\tNB\t의존명사\tETD\t관형형 전성 어미\tMAJ\t접속 부사\tMAJ\t접속 부사\tSuffix\t접미사\n",
    "17\tNC\t보통명사\tETN\t명사형 전성 어미\tMM\t관형사\tMM\t관형사\tUnknown\t미등록어\n",
    "18\tNN\t수사\tIC\t감탄사\tNA\t분석불능범주\tNNB\t의존 명사\tVerb\t동사\n",
    "19\tNP\t대명사\tJC\t접속 조사\tNF\t명사추정범주\tNNBC\t단위를 나타내는 명사\t*\t*\n",
    "20\tNQ\t고유명사\tJK\t조사\tNNB\t의존 명사\tNNG\t일반 명사\t*\t*\n",
    "21\tP\t용언\tJKC\t보격 조사\tNNG\t일반 명사\tNNP\t고유 명사\t*\t*\n",
    "22\tPA\t형용사\tJKG\t관형격 조사\tNNP\t고유 명사\tNP\t대명사\t*\t*\n",
    "23\tPV\t동사\tJKI\t호격 조사\tNP\t대명사\tNR\t수사\t*\t*\n",
    "24\tPX\t보조 용언\tJKM\t부사격 조사\tNR\t수사\tSC\t구분자 , · / :\t*\t*\n",
    "25\tS\t기호\tJKO\t목적격 조사\tNV\t용언추정범주\tSE\t줄임표 …\t*\t*\n",
    "26\tX\t접사\tJKQ\t인용격 조사\tSE\t줄임표\tSF\t마침표, 물음표, 느낌표\t*\t*\n",
    "27\tXP\t접두사\tJKS\t주격 조사\tSF\t마침표, 물음표, 느낌표\tSH\t한자\t*\t*\n",
    "28\tXS\t접미사"
   ]
  },
  {
   "attachments": {
    "image.png": {
     "image/png": "[encoded data removed]"
    }
   },
   "cell_type": "markdown",
   "metadata": {},
   "source": [
    "# ![image.png](attachment:image.png)\n",
    "https://datascienceschool.net/view-notebook/70ce46db4ced4a999c6ec349df0f4eb0/"
   ]
  },
  {
   "cell_type": "code",
   "execution_count": 9,
   "metadata": {},
   "outputs": [
    {
     "name": "stdout",
     "output_type": "stream",
     "text": [
      "분석할 텍스트를 입력하세요.: 당신은 누구입니까?\n",
      "당신 \t N\n",
      "은 \t J\n",
      "누구 \t N\n",
      "이 \t J\n",
      "ㅂ니까 \t E\n",
      "? \t S\n"
     ]
    }
   ],
   "source": [
    "from konlpy.tag import Hannanum\n",
    "\n",
    "han=Hannanum()\n",
    "text=input(\"분석할 텍스트를 입력하세요.: \")\n",
    "result=han.pos(text)                    #result 는 (형태소, 품사) 형태로 나타남\n",
    "\n",
    "for lex,pos in result:\n",
    "    print(\"{} \\t {}\".format(lex,pos))           # \\t : tab"
   ]
  },
  {
   "cell_type": "markdown",
   "metadata": {},
   "source": [
    "#okt 분석기 예제 "
   ]
  },
  {
   "cell_type": "code",
   "execution_count": 10,
   "metadata": {},
   "outputs": [
    {
     "name": "stdout",
     "output_type": "stream",
     "text": [
      "분석할 텍스트를 입력하세요.: 너는 누구냐?\n",
      "너 \t Noun\n",
      "는 \t Josa\n",
      "누구 \t Noun\n",
      "냐 \t Josa\n",
      "? \t Punctuation\n"
     ]
    }
   ],
   "source": [
    "from konlpy.tag import Okt\n",
    "\n",
    "okt=Okt()\n",
    "text=input(\"분석할 텍스트를 입력하세요.: \")\n",
    "result=okt.pos(text)                    #result 는 (형태소, 품사) 형태로 나타남\n",
    "\n",
    "for lex,pos in result:\n",
    "    print(\"{} \\t {}\".format(lex,pos))           # \\t : tab"
   ]
  },
  {
   "cell_type": "markdown",
   "metadata": {},
   "source": [
    "Corpus 이용 "
   ]
  },
  {
   "cell_type": "code",
   "execution_count": 16,
   "metadata": {},
   "outputs": [
    {
     "data": {
      "text/plain": [
       "'대한민국헌법\\n\\n유구한 역사와 전통에 빛나는 우리 대한국민은 3·1운동으로 건립된 대한민국임'"
      ]
     },
     "execution_count": 16,
     "metadata": {},
     "output_type": "execute_result"
    }
   ],
   "source": [
    "from konlpy.corpus import kolaw\n",
    "from konlpy.tag import Okt\n",
    "\n",
    "okt=Okt\n",
    "\n",
    "law_corpus = kolaw.open('constitution.txt').read()\n",
    "law_corpus[:50]\n",
    "\n"
   ]
  },
  {
   "cell_type": "code",
   "execution_count": 18,
   "metadata": {},
   "outputs": [
    {
     "ename": "TypeError",
     "evalue": "pos() missing 1 required positional argument: 'phrase'",
     "output_type": "error",
     "traceback": [
      "\u001b[1;31m---------------------------------------------------------------------------\u001b[0m",
      "\u001b[1;31mTypeError\u001b[0m                                 Traceback (most recent call last)",
      "\u001b[1;32m<ipython-input-18-23f4c313994b>\u001b[0m in \u001b[0;36m<module>\u001b[1;34m\u001b[0m\n\u001b[1;32m----> 1\u001b[1;33m \u001b[0mokt\u001b[0m\u001b[1;33m.\u001b[0m\u001b[0mpos\u001b[0m\u001b[1;33m(\u001b[0m\u001b[0mlaw_corpus\u001b[0m\u001b[1;33m[\u001b[0m\u001b[1;33m:\u001b[0m\u001b[1;36m50\u001b[0m\u001b[1;33m]\u001b[0m\u001b[1;33m)\u001b[0m\u001b[1;33m\u001b[0m\u001b[1;33m\u001b[0m\u001b[0m\n\u001b[0m",
      "\u001b[1;31mTypeError\u001b[0m: pos() missing 1 required positional argument: 'phrase'"
     ]
    }
   ],
   "source": [
    "okt.pos(law_corpus[:50])"
   ]
  },
  {
   "cell_type": "markdown",
   "metadata": {},
   "source": [
    "# 정제\n",
    "-토큰화 작업에 방해가 되는 부분들을 배제\n",
    "*동일한 표현의 표기가 다른 단어들 통합\n",
    "\n",
    "*대,소문자 통합(무작정 통합은 금물)\n",
    "\n",
    "*불필요한 단어 제거 \n",
    "-문장분석하는데 큰 도움이 되지 않은 단어 제거\n",
    "-등장 빈도가 적은 단어\n",
    "-길이가 짧은 단어"
   ]
  },
  {
   "cell_type": "markdown",
   "metadata": {},
   "source": [
    "불용어 확인 "
   ]
  },
  {
   "cell_type": "code",
   "execution_count": 22,
   "metadata": {},
   "outputs": [
    {
     "name": "stderr",
     "output_type": "stream",
     "text": [
      "[nltk_data] Downloading package stopwords to\n",
      "[nltk_data]     C:\\Users\\Affinity\\AppData\\Roaming\\nltk_data...\n",
      "[nltk_data]   Package stopwords is already up-to-date!\n"
     ]
    },
    {
     "data": {
      "text/plain": [
       "['i', 'me', 'my', 'myself', 'we', 'our', 'ours', 'ourselves', 'you', \"you're\"]"
      ]
     },
     "execution_count": 22,
     "metadata": {},
     "output_type": "execute_result"
    }
   ],
   "source": [
    "\n",
    "import nltk\n",
    "from nltk.corpus import stopwords\n",
    "nltk.download('stopwords')\n",
    "  \n",
    "\n",
    "stopwords.words('english')[:10]"
   ]
  },
  {
   "cell_type": "markdown",
   "metadata": {},
   "source": [
    "불용어 제거\n"
   ]
  },
  {
   "cell_type": "code",
   "execution_count": 23,
   "metadata": {},
   "outputs": [
    {
     "name": "stdout",
     "output_type": "stream",
     "text": [
      "['Family', 'is', 'not', 'an', 'important', 'thing', '.', 'It', \"'s\", 'everything']\n",
      "[('너', 'Noun'), ('는', 'Josa'), ('누구', 'Noun'), ('냐', 'Josa'), ('?', 'Punctuation'), 'Family', 'important', 'thing', '.', 'It', \"'s\", 'everything']\n"
     ]
    }
   ],
   "source": [
    "import nltk\n",
    "from nltk.corpus import stopwords\n",
    "from nltk.tokenize import word_tokenize\n",
    "\n",
    "example=\"Family is not an important thing. It's everything\"    #임의의 문장 정의\n",
    "stop_words=set(stopwords.words('english'))         #nltkrk wjddmlgkrh dlTsms qnfdyddjfmf wpdhlgks rufrhk cnffur\n",
    "\n",
    "word_tokens=word_tokenize(example)\n",
    "reslut=[]\n",
    "\n",
    "for w in word_tokens:\n",
    "    if w not in stop_words:\n",
    "        result.append(w)\n",
    "        \n",
    "print(word_tokens)\n",
    "print(result)"
   ]
  },
  {
   "cell_type": "markdown",
   "metadata": {},
   "source": [
    "한국어 적용 "
   ]
  },
  {
   "cell_type": "code",
   "execution_count": 33,
   "metadata": {},
   "outputs": [
    {
     "name": "stdout",
     "output_type": "stream",
     "text": [
      "['고기를', '아무렇게나', '구우려고', '하면', '안', '돼', '.', '고기라고', '다', '같은', '게', '아니거든', '.', '예컨대', '삼겹살을', '구울', '때는', '중요한', '게', '있지', '.']\n",
      "['고기를', '구우려고', '안', '돼', '.', '고기라고', '다', '같은', '게', '.', '삼겹살을', '구울', '때는', '중요한', '게', '있지', '.']\n"
     ]
    }
   ],
   "source": [
    "import nltk\n",
    "from nltk.corpus import stopwords\n",
    "from nltk.tokenize import word_tokenize\n",
    "\n",
    "example= \"고기를 아무렇게나 구우려고 하면 안 돼. 고기라고 다 같은 게 아니거든. 예컨대 삼겹살을 구울 때는 중요한 게 있지.\"\n",
    "\n",
    "stop_words=\"아무거나 아무렇게나 어찌하든지 같다 비슷하다 예컨대 이럴정도로 하면 아니거든\"\n",
    "\n",
    "stop_words=stop_words.split(' ')\n",
    "word_tokens= word_tokenize(example)\n",
    "result=[]\n",
    "\n",
    "for w in word_tokens:\n",
    "    if w not in stop_words:\n",
    "        result.append(w)\n",
    "        \n",
    "print(word_tokens)\n",
    "print(result)"
   ]
  },
  {
   "cell_type": "markdown",
   "metadata": {},
   "source": [
    "# 불용어 제거 실습(한국어)\n",
    "고등교육법 관련 법안 분석"
   ]
  },
  {
   "cell_type": "code",
   "execution_count": 34,
   "metadata": {},
   "outputs": [
    {
     "data": {
      "text/plain": [
       "['1809890.txt',\n",
       " '1809891.txt',\n",
       " '1809892.txt',\n",
       " '1809893.txt',\n",
       " '1809894.txt',\n",
       " '1809895.txt',\n",
       " '1809896.txt',\n",
       " '1809897.txt',\n",
       " '1809898.txt',\n",
       " '1809899.txt']"
      ]
     },
     "execution_count": 34,
     "metadata": {},
     "output_type": "execute_result"
    }
   ],
   "source": [
    "import nltk\n",
    "from konlpy .corpus import kobill        #kobill:konlpy 에 내장되어 있는 법률안 읽어오는 함수\n",
    "\n",
    "files_ko=kobill.fileids()           #kobill에는 team POPNG에의해 취합된 의회정보들이 존재\n",
    "\n",
    "files_ko"
   ]
  },
  {
   "cell_type": "code",
   "execution_count": 36,
   "metadata": {},
   "outputs": [
    {
     "data": {
      "text/plain": [
       "'고등교육법 일부개정법률안\\n\\n(안상수의원 대표발의 )\\n\\n 의 안\\n 번 호\\n\\n9894\\n\\n발의연월일 : 2010.  11.  15.\\n\\n발  의  자 : 안상수․김정훈․원희목 \\n\\n강석호․서상기․나성린 \\n\\n권영진․이춘식․정영희 \\n\\n이애주․안형환․백성운 \\n\\n김금래 의원(13인)\\n\\n제안이유 및 주요내용\\n\\n  현재 간호사의 경우 전문대학 졸업 또는 대학 졸업에 상관없이 면\\n\\n허증을 취득할 수 있지만, 학위의 종류가 전문학사이기 때문에 학사학\\n\\n위를 취득하기 위하여 87.2%가 별도로 학사학위 교육과정을 이수하고 \\n\\n있는 실정임.\\n\\n  이러한 4년제 간호 교육의 필요성과 선진 각국의 경향을 고려하고 \\n\\n국민에 대한 보다 나은 의료 서비스를 제공하기 위하여 대통령령이 \\n\\n정하는 일정한 기준을 충족하는 간호과에 대해서는 수업연한을 4년으\\n\\n로 하고, 수여하는 학위의 종류를 학사학위로 하도록 함(안 제50조의3 \\n\\n신설).\\n\\n- 1 -\\n\\n\\x0c법률  제        호\\n\\n고등교육법 일부개정법률안\\n\\n고등교육법 일부를 다음과 같이 개정한다.\\n\\n제50조의3을 다음과 같이 신설한다.\\n\\n제50조의3(간호과의 수업연한 및 학위에 관한 특례) ① 대통령령이 정\\n\\n하는 기준을 충족하는 간호과의 수업연한은 4년으로 한다.\\n\\n  ② 제1항의 간호과에서 학칙이 정하는 과정을 이수한 자에 대하여\\n\\n는 학사학위를 수여한다.\\n\\n  ③ 제2항의 학위의 종류 및 수여에 관하여 필요한 사항은 대통령령\\n\\n으로 정한다.\\n\\n부      칙\\n\\n① 이 법은 공포 후 6개월이 경과한 날부터 시행한다.\\n\\n② 이 법 시행 당시 수업연한이 4년으로 된 간호과에 재학 중인 자에 \\n\\n대해서는 본인의 신청에 의하여 종전의 수업연한 및 학위에 관한 규\\n\\n정을 적용할 수 있다.\\n\\n- 3 -\\n\\n\\x0c신·구조문대비표\\n\\n현      행\\n\\n개   정   안\\n\\n  <신  설>\\n\\n제50조의3(간호과의 수업연한 및 \\n\\n학위에 관한 특례) ① 대통령\\n\\n령이 정하는 기준을 충족하는 \\n\\n간호과의 수업연한은 4년으로 \\n\\n한다.\\n\\n  ② 제1항의 간호과에서 학칙이 \\n\\n정하는 과정을 이수한 자에 대\\n\\n하여는 학사학위를 수여한다.\\n\\n  ③ 제2항의 학위의 종류 및 수\\n\\n여에 관하여 필요한 사항은 대\\n\\n통령령으로 정한다.\\n\\n- 5 -\\n\\n\\x0c'"
      ]
     },
     "execution_count": 36,
     "metadata": {},
     "output_type": "execute_result"
    }
   ],
   "source": [
    "doc_ko=kobill.open('1809894.txt').read()              #문서 중 하나 선택하여 열기\n",
    "doc_ko"
   ]
  },
  {
   "cell_type": "code",
   "execution_count": 37,
   "metadata": {},
   "outputs": [
    {
     "data": {
      "text/plain": [
       "['고등',\n",
       " '교육법',\n",
       " '일부',\n",
       " '개정',\n",
       " '법률',\n",
       " '안',\n",
       " '안상수',\n",
       " '의원',\n",
       " '대표',\n",
       " '발의',\n",
       " '의',\n",
       " '안',\n",
       " '번',\n",
       " '호',\n",
       " '발의',\n",
       " '연월일',\n",
       " '발',\n",
       " '의',\n",
       " '자',\n",
       " '안상수',\n",
       " '김정훈',\n",
       " '원희목',\n",
       " '강석호',\n",
       " '서상기',\n",
       " '나성린',\n",
       " '권영진',\n",
       " '이춘식',\n",
       " '정영희',\n",
       " '이애주',\n",
       " '안형환',\n",
       " '백성운',\n",
       " '김금래',\n",
       " '의원',\n",
       " '인',\n",
       " '제안',\n",
       " '이유',\n",
       " '및',\n",
       " '내용',\n",
       " '현재',\n",
       " '간호사',\n",
       " '경우',\n",
       " '전문',\n",
       " '대학',\n",
       " '졸업',\n",
       " '대학',\n",
       " '졸업',\n",
       " '면',\n",
       " '증',\n",
       " '취득',\n",
       " '수',\n",
       " '학위',\n",
       " '종류',\n",
       " '문학사',\n",
       " '이기',\n",
       " '때문',\n",
       " '학',\n",
       " '사학',\n",
       " '위',\n",
       " '취득',\n",
       " '위',\n",
       " '별도',\n",
       " '학사',\n",
       " '학위',\n",
       " '교육과정',\n",
       " '이수',\n",
       " '실정',\n",
       " '임',\n",
       " '간호',\n",
       " '교육',\n",
       " '필요성',\n",
       " '선진',\n",
       " '각국',\n",
       " '경향',\n",
       " '고려',\n",
       " '국민',\n",
       " '대한',\n",
       " '나은',\n",
       " '의료',\n",
       " '서비스',\n",
       " '제공',\n",
       " '위',\n",
       " '대통령령',\n",
       " '정',\n",
       " '기준',\n",
       " '충족',\n",
       " '간호',\n",
       " '과',\n",
       " '대해',\n",
       " '수업',\n",
       " '연한',\n",
       " '로',\n",
       " '수여',\n",
       " '학위',\n",
       " '종류',\n",
       " '학사',\n",
       " '학위',\n",
       " '함',\n",
       " '안',\n",
       " '제',\n",
       " '신설',\n",
       " '법률',\n",
       " '제',\n",
       " '호',\n",
       " '고등',\n",
       " '교육법',\n",
       " '일부',\n",
       " '개정',\n",
       " '법률',\n",
       " '안',\n",
       " '고등',\n",
       " '교육법',\n",
       " '일부',\n",
       " '다음',\n",
       " '개정',\n",
       " '제',\n",
       " '다음',\n",
       " '신설',\n",
       " '제',\n",
       " '간호',\n",
       " '수업',\n",
       " '연한',\n",
       " '및',\n",
       " '학위',\n",
       " '관',\n",
       " '특례',\n",
       " '대통령령',\n",
       " '정',\n",
       " '기준',\n",
       " '충족',\n",
       " '간호',\n",
       " '수업',\n",
       " '연한',\n",
       " '제',\n",
       " '항의',\n",
       " '간호',\n",
       " '과',\n",
       " '학칙',\n",
       " '정',\n",
       " '과정',\n",
       " '이수',\n",
       " '자',\n",
       " '대하',\n",
       " '학사',\n",
       " '학위',\n",
       " '수여',\n",
       " '제',\n",
       " '항의',\n",
       " '학위',\n",
       " '종류',\n",
       " '및',\n",
       " '수여',\n",
       " '관',\n",
       " '사항',\n",
       " '대통령령',\n",
       " '정',\n",
       " '부',\n",
       " '칙',\n",
       " '이',\n",
       " '법',\n",
       " '공포',\n",
       " '후',\n",
       " '개월',\n",
       " '경과',\n",
       " '날',\n",
       " '시행',\n",
       " '이',\n",
       " '법',\n",
       " '시행',\n",
       " '당시',\n",
       " '수업',\n",
       " '연한',\n",
       " '간호',\n",
       " '과',\n",
       " '재학',\n",
       " '중인',\n",
       " '자',\n",
       " '대해',\n",
       " '본인',\n",
       " '신청',\n",
       " '종전',\n",
       " '수업',\n",
       " '연한',\n",
       " '및',\n",
       " '학위',\n",
       " '관',\n",
       " '규',\n",
       " '정',\n",
       " '적용',\n",
       " '수',\n",
       " '신',\n",
       " '구조',\n",
       " '문대비',\n",
       " '표',\n",
       " '현',\n",
       " '행',\n",
       " '개',\n",
       " '정',\n",
       " '안',\n",
       " '신',\n",
       " '설',\n",
       " '제',\n",
       " '간호',\n",
       " '수업',\n",
       " '연한',\n",
       " '및',\n",
       " '학위',\n",
       " '관',\n",
       " '특례',\n",
       " '대통령',\n",
       " '령',\n",
       " '정',\n",
       " '기준',\n",
       " '충족',\n",
       " '간호',\n",
       " '수업',\n",
       " '연한',\n",
       " '제',\n",
       " '항의',\n",
       " '간호',\n",
       " '과',\n",
       " '학칙',\n",
       " '정',\n",
       " '과정',\n",
       " '이수',\n",
       " '자',\n",
       " '학사',\n",
       " '학위',\n",
       " '수여',\n",
       " '제',\n",
       " '항의',\n",
       " '학위',\n",
       " '종류',\n",
       " '및',\n",
       " '수',\n",
       " '여',\n",
       " '관',\n",
       " '사항',\n",
       " '통령',\n",
       " '령',\n",
       " '정']"
      ]
     },
     "execution_count": 37,
     "metadata": {},
     "output_type": "execute_result"
    }
   ],
   "source": [
    "from konlpy.tag import Okt             #okt 형태소 분석기 호출\n",
    "\n",
    "okt=Okt()\n",
    "\n",
    "nouns=okt.nouns(doc_ko)   #명사 분석\n",
    "nouns "
   ]
  },
  {
   "cell_type": "code",
   "execution_count": 38,
   "metadata": {},
   "outputs": [
    {
     "name": "stdout",
     "output_type": "stream",
     "text": [
      "240\n",
      "121\n"
     ]
    },
    {
     "data": {
      "text/plain": [
       "FreqDist({'학위': 11, '간호': 9, '정': 9, '제': 9, '수업': 7, '연한': 7, '및': 6, '안': 5, '관': 5, '자': 4, ...})"
      ]
     },
     "execution_count": 38,
     "metadata": {},
     "output_type": "execute_result"
    }
   ],
   "source": [
    "ko=nltk.Text(nouns,name='의안 제1809894호')   #문서를 탐색\n",
    "\n",
    "print(len(ko.tokens))    #수집된 단어의 횟수\n",
    "print(len(set(ko.tokens)))        #수집된 단어의 고유한 횟수\n",
    "\n",
    "ko.vocab()            #단어별 빈도"
   ]
  },
  {
   "cell_type": "code",
   "execution_count": 40,
   "metadata": {},
   "outputs": [
    {
     "data": {
      "image/png": "[encoded data removed]",
      "text/plain": [
       "<Figure size 864x432 with 1 Axes>"
      ]
     },
     "metadata": {
      "needs_background": "light"
     },
     "output_type": "display_data"
    }
   ],
   "source": [
    "import matplotlib.pyplot as plt\n",
    "%matplotlib inline\n",
    "\n",
    "import platform\n",
    "path= 'c:/windows/Fonts/malgun.ttf'\n",
    "from matplotlib import font_manager, rc\n",
    "\n",
    "font_name= font_manager.FontProperties(fname=path).get_name()\n",
    "rc('font', family= font_name)\n",
    "\n",
    "plt.figure(figsize=(12,6))\n",
    "ko.plot(50)\n",
    "plt.show()"
   ]
  },
  {
   "cell_type": "code",
   "execution_count": 44,
   "metadata": {},
   "outputs": [
    {
     "data": {
      "text/plain": [
       "['고등',\n",
       " '교육법',\n",
       " '일부',\n",
       " '개정',\n",
       " '법률',\n",
       " '안상수',\n",
       " '의원',\n",
       " '대표',\n",
       " '발의',\n",
       " '번',\n",
       " '호',\n",
       " '발의',\n",
       " '연월일',\n",
       " '안상수',\n",
       " '김정훈',\n",
       " '원희목',\n",
       " '강석호',\n",
       " '서상기',\n",
       " '나성린',\n",
       " '권영진',\n",
       " '이춘식',\n",
       " '정영희',\n",
       " '이애주',\n",
       " '안형환',\n",
       " '백성운',\n",
       " '김금래',\n",
       " '의원',\n",
       " '인',\n",
       " '제안',\n",
       " '이유',\n",
       " '내용',\n",
       " '현재',\n",
       " '간호사',\n",
       " '경우',\n",
       " '전문',\n",
       " '대학',\n",
       " '졸업',\n",
       " '대학',\n",
       " '졸업',\n",
       " '면',\n",
       " '증',\n",
       " '취득',\n",
       " '학위',\n",
       " '종류',\n",
       " '문학사',\n",
       " '이기',\n",
       " '때문',\n",
       " '학',\n",
       " '사학',\n",
       " '위',\n",
       " '취득',\n",
       " '위',\n",
       " '별도',\n",
       " '학사',\n",
       " '학위',\n",
       " '교육과정',\n",
       " '이수',\n",
       " '실정',\n",
       " '임',\n",
       " '간호',\n",
       " '교육',\n",
       " '필요성',\n",
       " '선진',\n",
       " '각국',\n",
       " '경향',\n",
       " '고려',\n",
       " '국민',\n",
       " '대한',\n",
       " '나은',\n",
       " '의료',\n",
       " '서비스',\n",
       " '제공',\n",
       " '위',\n",
       " '대통령령',\n",
       " '기준',\n",
       " '충족',\n",
       " '간호',\n",
       " '대해',\n",
       " '수업',\n",
       " '연한',\n",
       " '로',\n",
       " '수여',\n",
       " '학위',\n",
       " '종류',\n",
       " '학사',\n",
       " '학위',\n",
       " '함',\n",
       " '신설',\n",
       " '법률',\n",
       " '호',\n",
       " '고등',\n",
       " '교육법',\n",
       " '일부',\n",
       " '개정',\n",
       " '법률',\n",
       " '고등',\n",
       " '교육법',\n",
       " '일부',\n",
       " '다음',\n",
       " '개정',\n",
       " '다음',\n",
       " '신설',\n",
       " '간호',\n",
       " '수업',\n",
       " '연한',\n",
       " '학위',\n",
       " '관',\n",
       " '특례',\n",
       " '대통령령',\n",
       " '기준',\n",
       " '충족',\n",
       " '간호',\n",
       " '수업',\n",
       " '연한',\n",
       " '항의',\n",
       " '간호',\n",
       " '학칙',\n",
       " '과정',\n",
       " '이수',\n",
       " '대하',\n",
       " '학사',\n",
       " '학위',\n",
       " '수여',\n",
       " '항의',\n",
       " '학위',\n",
       " '종류',\n",
       " '수여',\n",
       " '관',\n",
       " '사항',\n",
       " '대통령령',\n",
       " '부',\n",
       " '칙',\n",
       " '법',\n",
       " '공포',\n",
       " '후',\n",
       " '개월',\n",
       " '경과',\n",
       " '날',\n",
       " '시행',\n",
       " '법',\n",
       " '시행',\n",
       " '당시',\n",
       " '수업',\n",
       " '연한',\n",
       " '간호',\n",
       " '재학',\n",
       " '중인',\n",
       " '대해',\n",
       " '본인',\n",
       " '신청',\n",
       " '종전',\n",
       " '수업',\n",
       " '연한',\n",
       " '학위',\n",
       " '관',\n",
       " '규',\n",
       " '적용',\n",
       " '신',\n",
       " '구조',\n",
       " '문대비',\n",
       " '표',\n",
       " '현',\n",
       " '행',\n",
       " '개',\n",
       " '신',\n",
       " '설',\n",
       " '간호',\n",
       " '수업',\n",
       " '연한',\n",
       " '학위',\n",
       " '관',\n",
       " '특례',\n",
       " '대통령',\n",
       " '령',\n",
       " '기준',\n",
       " '충족',\n",
       " '간호',\n",
       " '수업',\n",
       " '연한',\n",
       " '항의',\n",
       " '간호',\n",
       " '학칙',\n",
       " '과정',\n",
       " '이수',\n",
       " '학사',\n",
       " '학위',\n",
       " '수여',\n",
       " '항의',\n",
       " '학위',\n",
       " '종류',\n",
       " '여',\n",
       " '관',\n",
       " '사항',\n",
       " '통령',\n",
       " '령']"
      ]
     },
     "execution_count": 44,
     "metadata": {},
     "output_type": "execute_result"
    }
   ],
   "source": [
    "from wordcloud import WordCloud, STOPWORDS\n",
    "\n",
    "stopwords=['정','제','및','안','자','과','수','의','이','발']\n",
    "ko=[each_word for each_word in ko if each_word not in stopwords]\n",
    "\n",
    "ko"
   ]
  },
  {
   "cell_type": "code",
   "execution_count": 45,
   "metadata": {},
   "outputs": [
    {
     "data": {
      "image/png": "[encoded data removed]",
      "text/plain": [
       "<Figure size 864x432 with 1 Axes>"
      ]
     },
     "metadata": {
      "needs_background": "light"
     },
     "output_type": "display_data"
    }
   ],
   "source": [
    "ko=nltk.Text(ko,name='의안 제1809894호')\n",
    "\n",
    "plt.figure(figsize=(12,6))\n",
    "ko.plot(50)\n",
    "plt.show()"
   ]
  },
  {
   "cell_type": "code",
   "execution_count": 49,
   "metadata": {},
   "outputs": [
    {
     "data": {
      "image/png": "[encoded data removed]",
      "text/plain": [
       "<Figure size 864x1296 with 1 Axes>"
      ]
     },
     "metadata": {
      "needs_background": "light"
     },
     "output_type": "display_data"
    }
   ],
   "source": [
    "data=ko.vocab().most_common(30)   #최빈도 단어 30개를 사용\n",
    "\n",
    "wordcloud=WordCloud(font_path='c:/Windows/Fonts/malgun.ttf',background_color='white').generate_from_frequencies(dict(data))\n",
    "\n",
    "plt.figure(figsize=(12,18))\n",
    "plt.imshow(wordcloud)\n",
    "plt.axis(\"off\")\n",
    "plt.show()"
   ]
  },
  {
   "cell_type": "markdown",
   "metadata": {},
   "source": [
    "# 정규표현식 "
   ]
  },
  {
   "cell_type": "code",
   "execution_count": 1,
   "metadata": {},
   "outputs": [],
   "source": [
    "import re\n",
    "\n",
    "r=re.compile(\"a.c\")\n",
    "r.search('kkk')         #아무 결과 출력 되지 않음"
   ]
  },
  {
   "cell_type": "code",
   "execution_count": 3,
   "metadata": {},
   "outputs": [
    {
     "data": {
      "text/plain": [
       "<_sre.SRE_Match object; span=(0, 3), match='abc'>"
      ]
     },
     "execution_count": 3,
     "metadata": {},
     "output_type": "execute_result"
    }
   ],
   "source": [
    "r.search(\"abc\")"
   ]
  },
  {
   "cell_type": "code",
   "execution_count": 4,
   "metadata": {},
   "outputs": [],
   "source": [
    "import re \n",
    "r=re.compile(\"ab?c\")\n",
    "r.search(\"abbc\")#    아무 결과 출력 x\n",
    "\n"
   ]
  },
  {
   "cell_type": "code",
   "execution_count": 6,
   "metadata": {},
   "outputs": [
    {
     "data": {
      "text/plain": [
       "<_sre.SRE_Match object; span=(0, 2), match='ac'>"
      ]
     },
     "execution_count": 6,
     "metadata": {},
     "output_type": "execute_result"
    }
   ],
   "source": [
    "r.search(\"abc\")\n",
    "\n",
    "r.search(\"ac\")"
   ]
  },
  {
   "cell_type": "markdown",
   "metadata": {},
   "source": [
    "+사용"
   ]
  },
  {
   "cell_type": "code",
   "execution_count": 9,
   "metadata": {},
   "outputs": [
    {
     "data": {
      "text/plain": [
       "<_sre.SRE_Match object; span=(0, 2), match='ac'>"
      ]
     },
     "execution_count": 9,
     "metadata": {},
     "output_type": "execute_result"
    }
   ],
   "source": [
    "import re\n",
    "r=re.compile(\"ab*c\")\n",
    "r.search(\"a\")             #아무 결과 출력 x       \n",
    "r.search(\"ac\")"
   ]
  },
  {
   "cell_type": "code",
   "execution_count": 11,
   "metadata": {},
   "outputs": [
    {
     "data": {
      "text/plain": [
       "<_sre.SRE_Match object; span=(0, 3), match='abc'>"
      ]
     },
     "execution_count": 11,
     "metadata": {},
     "output_type": "execute_result"
    }
   ],
   "source": [
    "r.search(\"abc\")"
   ]
  },
  {
   "cell_type": "markdown",
   "metadata": {},
   "source": [
    "^사용 "
   ]
  },
  {
   "cell_type": "code",
   "execution_count": 12,
   "metadata": {},
   "outputs": [],
   "source": [
    "import re\n",
    "r=re.compile(\"^a\")\n",
    "r.search(\"bbc\")"
   ]
  },
  {
   "cell_type": "code",
   "execution_count": 13,
   "metadata": {},
   "outputs": [
    {
     "data": {
      "text/plain": [
       "<_sre.SRE_Match object; span=(0, 1), match='a'>"
      ]
     },
     "execution_count": 13,
     "metadata": {},
     "output_type": "execute_result"
    }
   ],
   "source": [
    "r.search(\"ab\")"
   ]
  },
  {
   "cell_type": "markdown",
   "metadata": {},
   "source": [
    "{숫자} 사용 "
   ]
  },
  {
   "cell_type": "code",
   "execution_count": 14,
   "metadata": {},
   "outputs": [],
   "source": [
    "import re\n",
    "r=re.compile(\"ab{2}c\")\n",
    "r.search(\"ac\")"
   ]
  },
  {
   "cell_type": "code",
   "execution_count": 16,
   "metadata": {},
   "outputs": [
    {
     "data": {
      "text/plain": [
       "<_sre.SRE_Match object; span=(0, 4), match='abbc'>"
      ]
     },
     "execution_count": 16,
     "metadata": {},
     "output_type": "execute_result"
    }
   ],
   "source": [
    "r.search(\"abbc\")"
   ]
  },
  {
   "cell_type": "markdown",
   "metadata": {},
   "source": [
    "{숫자1, 숫자2} 기호 "
   ]
  },
  {
   "cell_type": "code",
   "execution_count": 17,
   "metadata": {},
   "outputs": [],
   "source": [
    "import re\n",
    "r=re.compile(\"ab{2,8}c\")\n",
    "r.search(\"abc\")"
   ]
  },
  {
   "cell_type": "code",
   "execution_count": 19,
   "metadata": {},
   "outputs": [
    {
     "data": {
      "text/plain": [
       "<_sre.SRE_Match object; span=(0, 7), match='abbbbbc'>"
      ]
     },
     "execution_count": 19,
     "metadata": {},
     "output_type": "execute_result"
    }
   ],
   "source": [
    "r.search('abbbbbc')"
   ]
  },
  {
   "cell_type": "markdown",
   "metadata": {},
   "source": [
    "{숫자,} "
   ]
  },
  {
   "cell_type": "code",
   "execution_count": 20,
   "metadata": {},
   "outputs": [],
   "source": [
    "import re\n",
    "r=re.compile(\"ab{2,}bc\")\n",
    "r.search(\"abc\")"
   ]
  },
  {
   "cell_type": "code",
   "execution_count": 24,
   "metadata": {},
   "outputs": [
    {
     "data": {
      "text/plain": [
       "<_sre.SRE_Match object; span=(0, 5), match='abbbc'>"
      ]
     },
     "execution_count": 24,
     "metadata": {},
     "output_type": "execute_result"
    }
   ],
   "source": [
    "r.search(\"abbbc\")"
   ]
  },
  {
   "cell_type": "markdown",
   "metadata": {},
   "source": [
    "   [ ]  "
   ]
  },
  {
   "cell_type": "code",
   "execution_count": 27,
   "metadata": {},
   "outputs": [],
   "source": [
    "import re\n",
    "r=re.compile(\"[abc]\")\n",
    "r.search(\"zzz\")"
   ]
  },
  {
   "cell_type": "code",
   "execution_count": 28,
   "metadata": {},
   "outputs": [
    {
     "data": {
      "text/plain": [
       "<_sre.SRE_Match object; span=(0, 1), match='a'>"
      ]
     },
     "execution_count": 28,
     "metadata": {},
     "output_type": "execute_result"
    }
   ],
   "source": [
    "r.search('aaa')"
   ]
  },
  {
   "cell_type": "code",
   "execution_count": 30,
   "metadata": {},
   "outputs": [
    {
     "data": {
      "text/plain": [
       "<_sre.SRE_Match object; span=(1, 2), match='a'>"
      ]
     },
     "execution_count": 30,
     "metadata": {},
     "output_type": "execute_result"
    }
   ],
   "source": [
    "r.search('1a2b')"
   ]
  },
  {
   "cell_type": "markdown",
   "metadata": {},
   "source": [
    "# [^문자]"
   ]
  },
  {
   "cell_type": "code",
   "execution_count": 31,
   "metadata": {},
   "outputs": [],
   "source": [
    "import re\n",
    "r=re.compile(\"[^abc]\")\n",
    "r.search(\"abc\")"
   ]
  },
  {
   "cell_type": "code",
   "execution_count": 33,
   "metadata": {},
   "outputs": [
    {
     "data": {
      "text/plain": [
       "<_sre.SRE_Match object; span=(0, 1), match='d'>"
      ]
     },
     "execution_count": 33,
     "metadata": {},
     "output_type": "execute_result"
    }
   ],
   "source": [
    "r.search('d')"
   ]
  },
  {
   "cell_type": "markdown",
   "metadata": {},
   "source": [
    "#  정규 표현식, 모듈 함수"
   ]
  },
  {
   "cell_type": "markdown",
   "metadata": {},
   "source": [
    "split() "
   ]
  },
  {
   "cell_type": "code",
   "execution_count": 37,
   "metadata": {},
   "outputs": [
    {
     "data": {
      "text/plain": [
       "['사과', '딸기', '수박', '메론', '바나나']"
      ]
     },
     "execution_count": 37,
     "metadata": {},
     "output_type": "execute_result"
    }
   ],
   "source": [
    "import re\n",
    "text=\"\"\"사과\n",
    "딸기\n",
    "수박\n",
    "메론\n",
    "바나나\"\"\"\n",
    "\n",
    "re.split(\"\\n\",text)"
   ]
  },
  {
   "cell_type": "code",
   "execution_count": 35,
   "metadata": {},
   "outputs": [
    {
     "data": {
      "text/plain": [
       "['사과', '딸기', '수박', '메론', '바나나']"
      ]
     },
     "execution_count": 35,
     "metadata": {},
     "output_type": "execute_result"
    }
   ],
   "source": [
    "import re\n",
    "text=\"\"\"사과+딸기+수박+메론+바나나\"\"\"\n",
    "\n",
    "re.split(\"\\+\",text)"
   ]
  },
  {
   "cell_type": "markdown",
   "metadata": {},
   "source": [
    "re.findall() "
   ]
  },
  {
   "cell_type": "code",
   "execution_count": 38,
   "metadata": {},
   "outputs": [
    {
     "data": {
      "text/plain": [
       "['010', '1234', '1234', '30']"
      ]
     },
     "execution_count": 38,
     "metadata": {},
     "output_type": "execute_result"
    }
   ],
   "source": [
    "import re\n",
    "text=\"\"\"이름: 김철수\n",
    "전화번호:010-1234-1234\n",
    "나이: 30\n",
    "성별: 남\"\"\"\n",
    "\n",
    "re.findall(\"\\d+\",text)"
   ]
  },
  {
   "cell_type": "markdown",
   "metadata": {},
   "source": [
    "re.sub()"
   ]
  },
  {
   "cell_type": "code",
   "execution_count": 39,
   "metadata": {},
   "outputs": [
    {
     "data": {
      "text/plain": [
       "'Regular Expression   A regular expression  regex or regexp[ ]  sometimes called a rational expression  [ ][ ] is  in theoretical computer science and formal language theory  a sequence of character s that define a search pattern '"
      ]
     },
     "execution_count": 39,
     "metadata": {},
     "output_type": "execute_result"
    }
   ],
   "source": [
    "import re\n",
    "text=\"Regular Expression : A regular expression, regex or regexp[1] (sometimes called a rational expression) [2][3] is, in theoretical computer science and formal language theory, a sequence of character s that define a search pattern.\"\n",
    "\n",
    "\n",
    "re.sub('[^a-zA-z]',' ',text)"
   ]
  },
  {
   "cell_type": "code",
   "execution_count": 40,
   "metadata": {},
   "outputs": [
    {
     "name": "stdout",
     "output_type": "stream",
     "text": [
      " was wondering  anyone out there could enlighten   this car.\n"
     ]
    }
   ],
   "source": [
    "#정규 표현식으로 불필요한 단어 제거\n",
    "\n",
    "import re\n",
    "text=\"I was wondering if anyone out there could enlighten me on this car.\"\n",
    "shortword=re.compile(r'\\\\*\\b\\w{1,2}\\b')\n",
    "\n",
    "print(shortword.sub('',text))\n",
    "                    "
   ]
  },
  {
   "cell_type": "markdown",
   "metadata": {},
   "source": [
    "#  연습하기"
   ]
  },
  {
   "cell_type": "markdown",
   "metadata": {},
   "source": [
    "1.konlpy의 법률안 중 하나를 이용해 형태소 분석을하고 (명사 추출, 형태소 추출, 품사 태깅 등)\n",
    "정제 한후, 가장 많이 나오는 30개 단어를 이용해 시각화 하여 분석해보자."
   ]
  },
  {
   "cell_type": "code",
   "execution_count": 42,
   "metadata": {},
   "outputs": [
    {
     "data": {
      "text/plain": [
       "['1809890.txt',\n",
       " '1809891.txt',\n",
       " '1809892.txt',\n",
       " '1809893.txt',\n",
       " '1809894.txt',\n",
       " '1809895.txt',\n",
       " '1809896.txt',\n",
       " '1809897.txt',\n",
       " '1809898.txt',\n",
       " '1809899.txt']"
      ]
     },
     "execution_count": 42,
     "metadata": {},
     "output_type": "execute_result"
    }
   ],
   "source": [
    "import nltk\n",
    "from konlpy.corpus import kobill               #kobill: konlpy 에 내장되어 있는 법률안 읽기\n",
    "\n",
    "files_ko=kobill.fileids()\n",
    "\n",
    "files_ko"
   ]
  },
  {
   "cell_type": "code",
   "execution_count": 48,
   "metadata": {},
   "outputs": [
    {
     "data": {
      "text/plain": [
       "'교육공무원법 일부개정법률안\\n\\n(정의화의원 대표발의 )\\n\\n 의 안\\n 번 호\\n\\n9892\\n\\n발의연월일 : 2010.  11.  12.  \\n\\n발  의  자 : 정의화․이명수․김을동 \\n\\n이사철․여상규․안규백\\n\\n황영철․박영아․김정훈\\n\\n김학송 의원(10인)\\n\\n제안이유 및 주요내용\\n\\n  현행 교육공무원의 육아휴직은 만 6세 이하의 초등학교 취학 전 자\\n\\n녀의 육아를 위한 경우로 한정되어 있어 초등학교 취학 후 등하교 및 \\n\\n방과 후 양육 등에 어려움이 많고, 저학년 자녀 혼자 등하교를 하거나 \\n\\n어른 없는 집에서 지내다가 성폭력 범죄 등 흉악범죄의 피해자가 되\\n\\n고 있음. \\n\\n  이에 육아휴직 가능 시기를 만 8세 이하의 자녀로 확대하여 자녀가 \\n\\n초등학교에 입학하여 학교생활에 순조롭게 적응할 수 있는 나이까지 \\n\\n교육공무원이 자녀양육을 위해서 휴직할 수 있도록 하려는 것임(안 제\\n\\n44조제1항제7호). \\n\\n- 1 -\\n\\n\\x0c법률  제        호\\n\\n교육공무원법 일부개정법률안\\n\\n교육공무원법 일부를 다음과 같이 개정한다.\\n\\n제44조제1항제7호 중 “자녀(만 6세 이하의 초등학교 취학 전 자녀)”를 \\n\\n“만 8세 이하(취학 중인 경우에는 초등학교 2학년 이하를 말한다)의 자\\n\\n녀”로 한다.\\n\\n제45조제1항제6호 중 “1년 이내로 한다. 다만, 여자 교육공무원의 경\\n\\n우 任用權者는 2年의 범위내에서 그 休職期間을 연장할 수 있다.”를 \\n\\n“1년 이내(여자 교육공무원 3년 이내)로 하되, 분할하여 휴직할 수 있\\n\\n다.”로 한다.\\n\\n부      칙\\n\\n이 법은 공포한 날부터 시행한다.\\n\\n- 3 -\\n\\n\\x0c신 ·구조문대비표\\n\\n현      행\\n\\n개   정   안\\n\\n第44條(休職) ① 敎育公務員이 다\\n\\n第44條(休職) ① ---------------\\n\\n음 각 호의 어느 하나에 해당\\n\\n----------------------------\\n\\n하는 事由로 休職을 願하는 경\\n\\n----------------------------\\n\\n우에는 任用權者는 休職을 命\\n\\n----------------------------\\n\\n할 수 있다. 다만, 第1號 내지 \\n\\n--------.--------------------\\n\\n第4號 및 第11號의 경우에는 \\n\\n----------------------------\\n\\n本人의 意思에 불구하고 休職\\n\\n----------------------------\\n\\n을 명하여야 하고, 第7號의 경\\n\\n----------------------------\\n\\n우에는 本人이 원하는 경우 休\\n\\n----------------------------\\n\\n職을 명하여야 한다.\\n\\n--------------.\\n\\n  1. ∼ 6. (생  략)\\n\\n  1. ∼ 6. (현행과 같음)\\n\\n  7. 자녀(만 6세 이하의 초등학\\n\\n  7. 만 8세 이하(취학 중인 경우\\n\\n교 취학 전 자녀)를 양육하기 \\n\\n에는 초등학교 2학년 이하를 \\n\\n위하여 필요하거나 여자 교육\\n\\n말한다)의 자녀-------------\\n\\n공무원이 임신 또는 출산하게 \\n\\n---------------------------\\n\\n된 때\\n\\n---------------------------\\n\\n  8 . ∼ 11. (생  략)\\n\\n  ② ∼ ⑤ (생  략)\\n\\n------\\n\\n  8. ∼ 11. (현행과 같음)\\n\\n  ② ∼⑤ (현행과 같음)\\n\\n第45條(休職期間등) ①休職期間은 \\n第45條(休職期間등) ①----------\\n\\n다음과 같다.\\n\\n------------.\\n\\n  1. ∼ 5. (생  략)\\n\\n  1. ∼ 5. (현행과 같음)\\n\\n  6. 第44條第1項第7號의 사유로   6. --------------------------\\n\\n- 5 -\\n\\n\\x0c- 6 -\\n\\n인한 휴직기간은 자녀 1인에 \\n\\n---------------------------\\n\\n대하여 1년 이내로 한다. 다\\n\\n------1년  이 내 (여 자  교 육 공\\n\\n만, 여자 교육공무원의 경우 \\n\\n무원 3년 이내)로 하되, 분할\\n\\n任用權者는 2年의 범위내에서 \\n\\n하여 휴직할 수 있다. \\n\\n그 休職期間을 연장할 수 있\\n\\n다.\\n\\n  7 . ∼ 10. (생  략)\\n\\n  7. ∼ 10. (현행과 같음)\\n\\n  ②⋅③ (생  략)\\n\\n  ②⋅③ (현행과 같음)\\n\\n\\x0c교육공무원법 일부개정법률안 등 비용추계서 미첨부사유서\\n\\n1.  재정수반요인\\n\\n개정안에서 ｢국가공무원법｣  제71조제2항제4호 중 국가공무원의 육아\\n\\n휴직 가능 자녀의 연령을 만6세 이하에서 만8세 이하로 하고, ｢지방공\\n\\n무원법｣ 제63조제2항제4호 중 지방공무원의 육아휴직 가능 자녀의 연\\n\\n령을 만6세 이하에서 만8세 이하로 하고, ｢교육공무원법｣ 제44조제1항\\n\\n제7조 중 교육공무원의 육아휴직 가능 자녀의 연령을 만6세 이하에서 \\n\\n만8세 이하로 하고, ｢남녀고용평등과 일․가정 양립지원에 관한 법률｣ \\n\\n제19조제1항 중 근로자 육아휴직 가능 자녀연령을 만6세 이하에서 만\\n\\n8세 이하로 조정함에 따라 추가 재정소요가 예상됨.\\n\\n2.  미첨부  근거  규정\\n｢의안의 비용추계에 관한 규칙｣ 제3조제1항 단서 중 제1호(예상되는 비용이 연평균  10억원 미만\\n이거나  한시적인  경비로서  총  30억원  미만인  경우)에  해당함.\\n\\n3.  미첨부  사유\\n\\n개정안에서 국가․지방․교육공무원 및 근로자가 육아휴직을 신청할 \\n\\n- 7 -\\n\\n\\x0c- 8 -\\n\\n수 있는 자녀의 연령을 만6세 이하에서 만8세 이하로 상향조정함에 \\n\\n따라 추가 재정소요가 예상된다. 동 법률 개정안이 2011년에 시행된다\\n\\n고 가정한 경우, 2010년 현재 자녀의 연령이 7세이고 육아휴직을 신청\\n\\n하지 않은 국가․지방․교육공무원 및 근로자가 대상이 된다.\\n\\n대상연령의 확대됨에 따라 육아휴직신청자의 수가 어느 정도 늘어날 \\n\\n것으로 예상된다. 이 경우 발생하는 비용은 현행법에 따르면 월50만원\\n\\n이나 현재 관련법령 개정이 추진되고 있으며, 이에 따라 2011년에는 \\n\\n육아휴직자가 지급받는 월급여액에 비례하여 육아휴직급여가 지급되\\n\\n기 때문에 법령개정을 가정하고 추계한다. 이러한 경우 육아휴직급여\\n\\n액은 육아휴직자가 지급받는 월급여의 40%에 해당한다. 육아휴직자가 \\n\\n발생한 경우 발생하는 비용은 대체인력 고용인건비와 육아휴직자가 \\n\\n받는 월급여액의 40%이다. 이와 대비하여 육아휴직자에게 지급하던 \\n\\n임금은 더 이상 발생하지 않는다. 따라서 실제 발생하는 순비용은 육\\n\\n아휴직자에게 지급하던 월 급여액과 연령 확대에 따라 발생하는 비용\\n\\n인 육아휴직자가 받던 월급여액의 40%와 대체인력 고용인건비의 차\\n\\n액인데 이 값이 0보다 크면 추가 재정소요는 발생하지 않는다고 볼 \\n\\n수 있다.\\n\\n추가비용 발생여부를 정확하게 알아보기 위하여 비용에 대한 수리모\\n\\n델을 만들고 이에 따라 비용발생 여부를 알아보기로 하자. 모델에 사\\n\\n용되는 변수를 다음과 같이 정의한다.\\n\\n\\x0c발생비용 : N×p×X + N×육아휴직급여액 - N×P\\n\\nN\\n\\nP\\n\\np\\n\\nX\\n\\n: 육아휴직대상자의 수\\n\\n: 육아휴직대상자의 월급여액\\n\\n: 육아휴직자가 발생한 경우 대체 고용할 확률\\n\\n: 대체 고용한 인력에게 지급하는 월급여액\\n\\n위의 수식에서 육아휴직급여액은 육아휴직자 월급여액의 40%까지 지\\n\\n급할 예정이므로 육아휴직급여액은 P×40%이다. 육아휴직자가 발생한 \\n\\n경우 대체 고용할 확률 p는 고용노동부의 육아휴직 관련 자료를 이용\\n\\n한다. 고용노동부에 따르면 2011년의 경우 육아휴직급여 대상자는 \\n\\n40,923명이며, 육아휴직에 따른 대체인력 고용 예상인원은 2,836명이\\n\\n다. 2007년부터 2011년까지의 현황을 정리하면 다음의 [표]와 같다.\\n\\n[표]  육아휴직급여  수급자의  수  및  대체인력  고용  현황:  2007~2011년\\n\\n(단위:  명,  % )\\n\\n2007\\n\\n2008\\n\\n2009\\n\\n2010\\n\\n2011\\n\\n평균\\n\\n육아휴직급여  수급자(A)\\n\\n21,185\\n\\n29,145\\n\\n35,400\\n\\n41,291\\n\\n43,899\\n\\n34,184\\n\\n대체인력  채용(B)\\n\\n796\\n\\n1,658\\n\\n1,957\\n\\n2,396\\n\\n2,836\\n\\n1,929\\n\\n비  율(B/A)\\n\\n3.8\\n\\n5.7\\n\\n5.5\\n\\n5.8\\n\\n6.5\\n\\n5.6\\n\\n자료: 고용노동부  자료를  바탕으로  국회예산정책처  작성\\n\\n위의 [표]의 자료에 따라 육아휴직자가 발생한 경우 대체 고용할 확률 \\n\\np의 값은 5.6%라고 가정한다. 그리고 비용이 발생한다고 가정하여 위\\n\\n- 9 -\\n\\n\\x0c- 10 -\\n\\n의 수식을 다시 작성하면 다음의 수식과 같다.\\n\\nN×p×X + N×육아휴직급여액 - N×P > 0\\n\\nN×5.6%×X + N×P×40% - N×P > 0\\n\\n0.056×X > 0.6P\\n\\nX > 10.7×P\\n\\n(1)\\n\\n(2)\\n\\n(3)\\n\\n(5)\\n\\n위의 수식에 육아휴직자가 받는 월 급여액을 대입하여 대체고용인력\\n\\n자에게 지급하는 월 급여액을 추정하여 보자. 육아휴직자가 월 200만\\n\\n원을 받는다고 가정하면, 대체고용인력자에게 육아휴직자가 받는 월 \\n\\n급여액의 10.7배에 달하는 월 21,428,571원 이상을 지급해야 추가 비용\\n\\n이 발생한다. 대체고용인력자에게 육아휴직자보다 더 많은 월급여액을 \\n\\n주지는 않을 것이고 그리고 10여배 이상 월급을 주지도 않을 것이기 \\n\\n때문에 추가 비용이 발생한다고 보기 힘들다. 위의 수식에서 대체인력 \\n\\n고용확률 p를 20%로 가정하더라도(이 경우 X > 3×P) 200만원 받는 \\n\\n육아휴직자 대체인력에게 월 600만원 이상을 지급해야 추가 비용이 \\n\\n발생한다.\\n\\n행정안전부의 통계자료(행정안전부 통계연감)에서는 지방공무원의 육\\n\\n아휴직 현황자료를 보여주고 있다. 여기서 육아휴직자가 발생한 경우 \\n\\n대체인력을 주로 임용대기자 또는 일용직을 활용하는 것으로 보인다. \\n\\n따라서 공무원의 경우에도 [표]에서 보여주는 일반기업체의 대체인력 \\n\\n\\x0c고용확률과 차이는 크지 않을 것으로 보인다.\\n\\n이상의 논의를 바탕으로 육아휴직기간을 만6에서 만8세로 연장하더라\\n\\n도 법률 개정에 따른 추가 비용은 발생하지 않을 것으로 예상된다.\\n\\n4.  작성자\\n\\n국회예산정책처 법안비용추계1팀\\n\\n팀      장   정 문 종\\n\\n예산분석관   김 태 완\\n\\n(02-788-4649, tanzania@assembly.go.kr)\\n\\n- 11 -\\n\\n\\x0c'"
      ]
     },
     "execution_count": 48,
     "metadata": {},
     "output_type": "execute_result"
    }
   ],
   "source": [
    "doc_kk=kobill.open('1809892.txt').read()\n",
    "doc_kk"
   ]
  },
  {
   "cell_type": "code",
   "execution_count": 49,
   "metadata": {},
   "outputs": [
    {
     "name": "stdout",
     "output_type": "stream",
     "text": [
      "['교육', '공무원', '법', '일부', '개정', '법률', '안', '정의화', '의원', '대표', '발의', '의', '안', '번', '호', '발의', '연월일', '발', '의', '자', '정의화', '이명수', '김을동', '이사철', '여상규', '안규백', '황영철', '박영아', '김정훈', '김학송', '의원', '인', '제안', '이유', '및', '내용', '현행', '교육', '공무원', '육아휴직', '만', '세', '이하', '초등학교', '취학', '전', '자', '녀', '육아', '위', '경우', '한정', '초등학교', '취학', '후', '등하교', '및', '방과', '후', '양육', '등', '어려움', '저학년', '자녀', '혼자', '등하교', '거나', '어른', '집', '성폭력', '범죄', '등', '흉악', '범죄', '피해자', '고', '이', '육아휴직', '가능', '시기', '만', '세', '이하', '자녀', '확대', '자녀', '초등학교', '입학', '학교생활', '롭', '수', '나이', '교육', '공무원', '자녀', '양육', '위해', '휴직', '수', '것임', '안', '제', '항제', '호', '법률', '제', '호', '교육', '공무원', '법', '일부', '개정', '법률', '안', '교육', '공무원', '법', '일부', '다음', '개정', '제', '항제', '호', '중', '자녀', '만', '세', '이하', '초등학교', '취학', '전', '자녀', '를', '만', '세', '이하', '취학', '중인', '경우', '초등학교', '학년', '이하', '말', '의', '자', '녀', '로', '제', '항제', '호', '중', '이내', '다만', '여자', '교육', '공무원', '경', '의', '범위', '내', '그', '연장', '수', '를', '이내', '여자', '교육', '공무원', '이내', '로', '분할', '휴직', '수', '로', '부', '칙', '이', '법', '공포', '날', '시행', '신', '구조', '문대비', '표', '현', '행', '개', '정', '안', '이', '음', '각', '호의', '하나', '해당', '로', '경', '우', '수', '다만', '내지', '및', '의', '경우', '의', '불구', '명', '의', '경', '우', '이', '경우', '명', '생', '략', '현행', '자녀', '만', '세', '이하', '초등학', '만', '세', '이하', '취학', '중인', '경우', '교', '취학', '전', '자녀', '를', '양육', '초등학교', '학년', '이하', '위', '여자', '교육', '말', '의', '자녀', '공무원', '임신', '출산', '때', '생', '략', '생', '략', '현행', '현행', '등', '은', '등', '다음', '생', '략', '현행', '의', '사유', '휴직', '기간', '자녀', '인', '대하', '이내', '이', '내', '여', '자', '교', '육', '공', '만', '여자', '교육', '공무원', '경우', '무', '이내', '로', '분할', '의', '범위', '내', '휴직', '수', '그', '연장', '수', '생', '략', '현행', '생', '략', '현행', '교육', '공무원', '법', '일부', '개정', '법률', '안', '등', '비용', '추계', '첨부', '사유', '재정', '요인', '개정안', '국가공무원', '법', '제', '항제', '호', '중', '국가공무원', '육아', '휴직', '가능', '자녀', '연령', '만', '세', '이하', '만', '세', '이하', '방공', '무', '법', '제', '항제', '호', '중', '지방', '공무원', '육아휴직', '가능', '자녀', '연', '령', '만', '세', '이하', '만', '세', '이하', '교육', '공무원', '법', '제', '항', '제', '중', '교육', '공무원', '육아휴직', '가능', '자녀', '연령', '만', '세', '이하', '만', '세', '이하', '남녀', '고용', '평등', '일', '가정', '양립', '지원', '관', '법률', '제', '항', '중', '근로자', '육아휴직', '가능', '자녀', '연령', '만', '세', '이하', '만', '세', '이하', '조정', '함', '추가', '재정', '요가', '예상', '첨부', '근거', '규정', '의안', '비용', '추계', '관', '규칙', '제', '항', '단서', '중', '제', '호', '예상', '비용', '평균', '미만', '거나', '한시', '경비', '로서', '총', '미만', '경우', '해당', '함', '첨부', '사유', '개정안', '국가', '지방', '교육', '공무원', '및', '근로자', '육아휴직', '신청', '수', '자녀', '연령', '만', '세', '이하', '만', '세', '이하', '상향', '조정', '함', '추가', '재정', '요가', '예상', '법률', '개정안', '시행', '고', '가정', '경우', '현재', '자녀', '연령', '세이', '육아휴직', '신청', '국가', '지방', '교육', '공무원', '및', '근로자', '대상', '대상', '연령', '확대', '육아휴직', '신청', '수가', '정도', '것', '예상', '이', '경우', '발생', '비용', '현행법', '월', '이나', '현재', '관련', '법령', '개정', '추진', '이', '육아휴직', '지급', '월급', '액', '비례', '육아휴직', '여가', '지급', '기', '때문', '법령', '개정', '가정', '추계', '경우', '육아휴직', '급여', '액', '육아휴직', '지급', '월급', '여의', '해당', '육아휴직', '발생', '경우', '발생', '비용', '체인', '고용', '인건비', '육아휴직', '월급', '액', '이', '대비', '육아휴직', '지급', '임금', '더', '이상', '발생', '따라서', '실제', '발생', '비용', '육', '휴직', '지급', '월', '급여', '액', '연령', '확대', '발생', '비용', '인', '육아휴직', '월급', '액', '체인', '고용', '인건비', '차', '액', '이', '값', '추가', '재정', '소요', '발생', '볼', '수', '추가', '비용', '발생', '여부', '위', '비용', '대한', '리모', '델', '이', '비용', '발생', '여부', '하자', '모델', '사', '용', '변수', '다음', '정의', '발생', '비용', '육아휴직', '액', '육아휴직', '대상자', '수', '육아휴직', '대상자', '월급', '액', '육아휴직', '발생', '경우', '대체', '고용', '확률', '대체', '고용', '인력', '지급', '월급', '액', '위', '수식', '육아휴직', '액', '육아휴직', '월급', '액', '예정', '므', '육아휴직', '액', '육아휴직', '발생', '경우', '대체', '고용', '확률', '고용노동부', '육아휴직', '관련', '자료', '이용', '고용노동부', '경우', '육아휴직', '급여', '대상자', '명', '육아휴직', '체인', '고용', '상인', '명', '현황', '정리', '다음', '표', '표', '육아휴직', '급여', '수급', '수', '및', '체인', '고용', '현황', '단위', '명', '평균', '육아휴직', '급여', '수급', '체인', '채용', '비', '율', '자료', '고용노동부', '자료', '바탕', '국회예산정책처', '작성', '위', '표', '의', '자료', '육아휴직', '발생', '경우', '대체', '고용', '확률', '의', '값', '가정', '비용', '발생', '가정', '위', '의', '수식', '다시', '작성', '다음', '수식', '육아휴직', '액', '위', '수식', '육아휴직', '월', '급여', '액', '대입', '대체', '고용', '인력', '자', '지급', '월', '급여', '액', '추정', '육아휴직', '월', '원', '가정', '대체', '고용', '인력', '육아휴직', '월', '급여', '액', '배', '달', '월', '이상', '지급', '추가', '비용', '이', '발생', '대체', '고용', '인력', '육아휴직', '더', '월급', '액', '주지', '것', '배', '이상', '월급', '주지', '것', '이기', '때문', '추가', '비용', '발생', '보기', '위', '수식', '체인', '고용', '확률', '를', '로', '가정', '이', '경우', '육아휴직', '체인', '월', '이상', '지급', '추가', '비용', '발생', '행정안전부', '통계', '자료', '행정안전부', '통계', '연감', '지방', '공무원', '육', '휴직', '현황', '자료', '여기', '육아휴직', '발생', '경우', '체인', '주로', '임용', '기자', '일용직', '활용', '것', '따라서', '공무원', '경우', '표', '기업체', '체인', '고용', '확률', '것', '이상', '논의', '바탕', '육아휴직', '기간', '만', '만', '세로', '연장', '도', '법률', '개정', '추가', '비용', '발생', '것', '예상', '작성자', '국회예산정책처', '법안', '비용', '추계', '팀', '팀', '장', '정', '문', '종', '예산', '분석관', '김', '태', '완']\n",
      "------\n",
      "교육공무원법 일부개정법률안\n",
      "\n",
      "(정의화의원 대표발의 )\n",
      "\n",
      " 의 안\n",
      " 번 호\n",
      "\n",
      "9892\n",
      "\n",
      "발의연월일 : 2010.  11.  12.  \n",
      "\n",
      "발  의  자 : 정의화․이명수․김을동 \n",
      "\n",
      "이사철․여상규․안규백\n",
      "\n",
      "황영철․박영아․김정훈\n",
      "\n",
      "김학송 의원(10인)\n",
      "\n",
      "제안이유 및 주요내용\n",
      "\n",
      "  현행 교육공무원의 육아휴직은 만 6세 이하의 초등학교 취학 전 자\n",
      "\n",
      "녀의 육아를 위한 경우로 한정되어 있어 초등학교 취학 후 등하교 및 \n",
      "\n",
      "방과 후 양육 등에 어려움이 많고, 저학년 자녀 혼자 등하교를 하거나 \n",
      "\n",
      "어른 없는 집에서 지내다가 성폭력 범죄 등 흉악범죄의 피해자가 되\n",
      "\n",
      "고 있음. \n",
      "\n",
      "  이에 육아휴직 가능 시기를 만 8세 이하의 자녀로 확대하여 자녀가 \n",
      "\n",
      "초등학교에 입학하여 학교생활에 순조롭게 적응할 수 있는 나이까지 \n",
      "\n",
      "교육공무원이 자녀양육을 위해서 휴직할 수 있도록 하려는 것임(안 제\n",
      "\n",
      "44조제1항제7호). \n",
      "\n",
      "- 1 -\n",
      "\n",
      "\f",
      "법률  제        호\n",
      "\n",
      "교육공무원법 일부개정법률안\n",
      "\n",
      "교육공무원법 일부를 다음과 같이 개정한다.\n",
      "\n",
      "제44조제1항제7호 중 “자녀(만 6세 이하의 초등학교 취학 전 자녀)”를 \n",
      "\n",
      "“만 8세 이하(취학 중인 경우에는 초등학교 2학년 이하를 말한다)의 자\n",
      "\n",
      "녀”로 한다.\n",
      "\n",
      "제45조제1항제6호 중 “1년 이내로 한다. 다만, 여자 교육공무원의 경\n",
      "\n",
      "우 任用權者는 2年의 범위내에서 그 休職期間을 연장할 수 있다.”를 \n",
      "\n",
      "“1년 이내(여자 교육공무원 3년 이내)로 하되, 분할하여 휴직할 수 있\n",
      "\n",
      "다.”로 한다.\n",
      "\n",
      "부      칙\n",
      "\n",
      "이 법은 공포한 날부터 시행한다.\n",
      "\n",
      "- 3 -\n",
      "\n",
      "\f",
      "신 ·구조문대비표\n",
      "\n",
      "현      행\n",
      "\n",
      "개   정   안\n",
      "\n",
      "第44條(休職) ① 敎育公務員이 다\n",
      "\n",
      "第44條(休職) ① ---------------\n",
      "\n",
      "음 각 호의 어느 하나에 해당\n",
      "\n",
      "----------------------------\n",
      "\n",
      "하는 事由로 休職을 願하는 경\n",
      "\n",
      "----------------------------\n",
      "\n",
      "우에는 任用權者는 休職을 命\n",
      "\n",
      "----------------------------\n",
      "\n",
      "할 수 있다. 다만, 第1號 내지 \n",
      "\n",
      "--------.--------------------\n",
      "\n",
      "第4號 및 第11號의 경우에는 \n",
      "\n",
      "----------------------------\n",
      "\n",
      "本人의 意思에 불구하고 休職\n",
      "\n",
      "----------------------------\n",
      "\n",
      "을 명하여야 하고, 第7號의 경\n",
      "\n",
      "----------------------------\n",
      "\n",
      "우에는 本人이 원하는 경우 休\n",
      "\n",
      "----------------------------\n",
      "\n",
      "職을 명하여야 한다.\n",
      "\n",
      "--------------.\n",
      "\n",
      "  1. ∼ 6. (생  략)\n",
      "\n",
      "  1. ∼ 6. (현행과 같음)\n",
      "\n",
      "  7. 자녀(만 6세 이하의 초등학\n",
      "\n",
      "  7. 만 8세 이하(취학 중인 경우\n",
      "\n",
      "교 취학 전 자녀)를 양육하기 \n",
      "\n",
      "에는 초등학교 2학년 이하를 \n",
      "\n",
      "위하여 필요하거나 여자 교육\n",
      "\n",
      "말한다)의 자녀-------------\n",
      "\n",
      "공무원이 임신 또는 출산하게 \n",
      "\n",
      "---------------------------\n",
      "\n",
      "된 때\n",
      "\n",
      "---------------------------\n",
      "\n",
      "  8 . ∼ 11. (생  략)\n",
      "\n",
      "  ② ∼ ⑤ (생  략)\n",
      "\n",
      "------\n",
      "\n",
      "  8. ∼ 11. (현행과 같음)\n",
      "\n",
      "  ② ∼⑤ (현행과 같음)\n",
      "\n",
      "第45條(休職期間등) ①休職期間은 \n",
      "第45條(休職期間등) ①----------\n",
      "\n",
      "다음과 같다.\n",
      "\n",
      "------------.\n",
      "\n",
      "  1. ∼ 5. (생  략)\n",
      "\n",
      "  1. ∼ 5. (현행과 같음)\n",
      "\n",
      "  6. 第44條第1項第7號의 사유로   6. --------------------------\n",
      "\n",
      "- 5 -\n",
      "\n",
      "\f",
      "- 6 -\n",
      "\n",
      "인한 휴직기간은 자녀 1인에 \n",
      "\n",
      "---------------------------\n",
      "\n",
      "대하여 1년 이내로 한다. 다\n",
      "\n",
      "------1년  이 내 (여 자  교 육 공\n",
      "\n",
      "만, 여자 교육공무원의 경우 \n",
      "\n",
      "무원 3년 이내)로 하되, 분할\n",
      "\n",
      "任用權者는 2年의 범위내에서 \n",
      "\n",
      "하여 휴직할 수 있다. \n",
      "\n",
      "그 休職期間을 연장할 수 있\n",
      "\n",
      "다.\n",
      "\n",
      "  7 . ∼ 10. (생  략)\n",
      "\n",
      "  7. ∼ 10. (현행과 같음)\n",
      "\n",
      "  ②⋅③ (생  략)\n",
      "\n",
      "  ②⋅③ (현행과 같음)\n",
      "\n",
      "\f",
      "교육공무원법 일부개정법률안 등 비용추계서 미첨부사유서\n",
      "\n",
      "1.  재정수반요인\n",
      "\n",
      "개정안에서 ｢국가공무원법｣  제71조제2항제4호 중 국가공무원의 육아\n",
      "\n",
      "휴직 가능 자녀의 연령을 만6세 이하에서 만8세 이하로 하고, ｢지방공\n",
      "\n",
      "무원법｣ 제63조제2항제4호 중 지방공무원의 육아휴직 가능 자녀의 연\n",
      "\n",
      "령을 만6세 이하에서 만8세 이하로 하고, ｢교육공무원법｣ 제44조제1항\n",
      "\n",
      "제7조 중 교육공무원의 육아휴직 가능 자녀의 연령을 만6세 이하에서 \n",
      "\n",
      "만8세 이하로 하고, ｢남녀고용평등과 일․가정 양립지원에 관한 법률｣ \n",
      "\n",
      "제19조제1항 중 근로자 육아휴직 가능 자녀연령을 만6세 이하에서 만\n",
      "\n",
      "8세 이하로 조정함에 따라 추가 재정소요가 예상됨.\n",
      "\n",
      "2.  미첨부  근거  규정\n",
      "｢의안의 비용추계에 관한 규칙｣ 제3조제1항 단서 중 제1호(예상되는 비용이 연평균  10억원 미만\n",
      "이거나  한시적인  경비로서  총  30억원  미만인  경우)에  해당함.\n",
      "\n",
      "3.  미첨부  사유\n",
      "\n",
      "개정안에서 국가․지방․교육공무원 및 근로자가 육아휴직을 신청할 \n",
      "\n",
      "- 7 -\n",
      "\n",
      "\f",
      "- 8 -\n",
      "\n",
      "수 있는 자녀의 연령을 만6세 이하에서 만8세 이하로 상향조정함에 \n",
      "\n",
      "따라 추가 재정소요가 예상된다. 동 법률 개정안이 2011년에 시행된다\n",
      "\n",
      "고 가정한 경우, 2010년 현재 자녀의 연령이 7세이고 육아휴직을 신청\n",
      "\n",
      "하지 않은 국가․지방․교육공무원 및 근로자가 대상이 된다.\n",
      "\n",
      "대상연령의 확대됨에 따라 육아휴직신청자의 수가 어느 정도 늘어날 \n",
      "\n",
      "것으로 예상된다. 이 경우 발생하는 비용은 현행법에 따르면 월50만원\n",
      "\n",
      "이나 현재 관련법령 개정이 추진되고 있으며, 이에 따라 2011년에는 \n",
      "\n",
      "육아휴직자가 지급받는 월급여액에 비례하여 육아휴직급여가 지급되\n",
      "\n",
      "기 때문에 법령개정을 가정하고 추계한다. 이러한 경우 육아휴직급여\n",
      "\n",
      "액은 육아휴직자가 지급받는 월급여의 40%에 해당한다. 육아휴직자가 \n",
      "\n",
      "발생한 경우 발생하는 비용은 대체인력 고용인건비와 육아휴직자가 \n",
      "\n",
      "받는 월급여액의 40%이다. 이와 대비하여 육아휴직자에게 지급하던 \n",
      "\n",
      "임금은 더 이상 발생하지 않는다. 따라서 실제 발생하는 순비용은 육\n",
      "\n",
      "아휴직자에게 지급하던 월 급여액과 연령 확대에 따라 발생하는 비용\n",
      "\n",
      "인 육아휴직자가 받던 월급여액의 40%와 대체인력 고용인건비의 차\n",
      "\n",
      "액인데 이 값이 0보다 크면 추가 재정소요는 발생하지 않는다고 볼 \n",
      "\n",
      "수 있다.\n",
      "\n",
      "추가비용 발생여부를 정확하게 알아보기 위하여 비용에 대한 수리모\n",
      "\n",
      "델을 만들고 이에 따라 비용발생 여부를 알아보기로 하자. 모델에 사\n",
      "\n",
      "용되는 변수를 다음과 같이 정의한다.\n",
      "\n",
      "\f",
      "발생비용 : N×p×X + N×육아휴직급여액 - N×P\n",
      "\n",
      "N\n",
      "\n",
      "P\n",
      "\n",
      "p\n",
      "\n",
      "X\n",
      "\n",
      ": 육아휴직대상자의 수\n",
      "\n",
      ": 육아휴직대상자의 월급여액\n",
      "\n",
      ": 육아휴직자가 발생한 경우 대체 고용할 확률\n",
      "\n",
      ": 대체 고용한 인력에게 지급하는 월급여액\n",
      "\n",
      "위의 수식에서 육아휴직급여액은 육아휴직자 월급여액의 40%까지 지\n",
      "\n",
      "급할 예정이므로 육아휴직급여액은 P×40%이다. 육아휴직자가 발생한 \n",
      "\n",
      "경우 대체 고용할 확률 p는 고용노동부의 육아휴직 관련 자료를 이용\n",
      "\n",
      "한다. 고용노동부에 따르면 2011년의 경우 육아휴직급여 대상자는 \n",
      "\n",
      "40,923명이며, 육아휴직에 따른 대체인력 고용 예상인원은 2,836명이\n",
      "\n",
      "다. 2007년부터 2011년까지의 현황을 정리하면 다음의 [표]와 같다.\n",
      "\n",
      "[표]  육아휴직급여  수급자의  수  및  대체인력  고용  현황:  2007~2011년\n",
      "\n",
      "(단위:  명,  % )\n",
      "\n",
      "2007\n",
      "\n",
      "2008\n",
      "\n",
      "2009\n",
      "\n",
      "2010\n",
      "\n",
      "2011\n",
      "\n",
      "평균\n",
      "\n",
      "육아휴직급여  수급자(A)\n",
      "\n",
      "21,185\n",
      "\n",
      "29,145\n",
      "\n",
      "35,400\n",
      "\n",
      "41,291\n",
      "\n",
      "43,899\n",
      "\n",
      "34,184\n",
      "\n",
      "대체인력  채용(B)\n",
      "\n",
      "796\n",
      "\n",
      "1,658\n",
      "\n",
      "1,957\n",
      "\n",
      "2,396\n",
      "\n",
      "2,836\n",
      "\n",
      "1,929\n",
      "\n",
      "비  율(B/A)\n",
      "\n",
      "3.8\n",
      "\n",
      "5.7\n",
      "\n",
      "5.5\n",
      "\n",
      "5.8\n",
      "\n",
      "6.5\n",
      "\n",
      "5.6\n",
      "\n",
      "자료: 고용노동부  자료를  바탕으로  국회예산정책처  작성\n",
      "\n",
      "위의 [표]의 자료에 따라 육아휴직자가 발생한 경우 대체 고용할 확률 \n",
      "\n",
      "p의 값은 5.6%라고 가정한다. 그리고 비용이 발생한다고 가정하여 위\n",
      "\n",
      "- 9 -\n",
      "\n",
      "\f",
      "- 10 -\n",
      "\n",
      "의 수식을 다시 작성하면 다음의 수식과 같다.\n",
      "\n",
      "N×p×X + N×육아휴직급여액 - N×P > 0\n",
      "\n",
      "N×5.6%×X + N×P×40% - N×P > 0\n",
      "\n",
      "0.056×X > 0.6P\n",
      "\n",
      "X > 10.7×P\n",
      "\n",
      "(1)\n",
      "\n",
      "(2)\n",
      "\n",
      "(3)\n",
      "\n",
      "(5)\n",
      "\n",
      "위의 수식에 육아휴직자가 받는 월 급여액을 대입하여 대체고용인력\n",
      "\n",
      "자에게 지급하는 월 급여액을 추정하여 보자. 육아휴직자가 월 200만\n",
      "\n",
      "원을 받는다고 가정하면, 대체고용인력자에게 육아휴직자가 받는 월 \n",
      "\n",
      "급여액의 10.7배에 달하는 월 21,428,571원 이상을 지급해야 추가 비용\n",
      "\n",
      "이 발생한다. 대체고용인력자에게 육아휴직자보다 더 많은 월급여액을 \n",
      "\n",
      "주지는 않을 것이고 그리고 10여배 이상 월급을 주지도 않을 것이기 \n",
      "\n",
      "때문에 추가 비용이 발생한다고 보기 힘들다. 위의 수식에서 대체인력 \n",
      "\n",
      "고용확률 p를 20%로 가정하더라도(이 경우 X > 3×P) 200만원 받는 \n",
      "\n",
      "육아휴직자 대체인력에게 월 600만원 이상을 지급해야 추가 비용이 \n",
      "\n",
      "발생한다.\n",
      "\n",
      "행정안전부의 통계자료(행정안전부 통계연감)에서는 지방공무원의 육\n",
      "\n",
      "아휴직 현황자료를 보여주고 있다. 여기서 육아휴직자가 발생한 경우 \n",
      "\n",
      "대체인력을 주로 임용대기자 또는 일용직을 활용하는 것으로 보인다. \n",
      "\n",
      "따라서 공무원의 경우에도 [표]에서 보여주는 일반기업체의 대체인력 \n",
      "\n",
      "\f",
      "고용확률과 차이는 크지 않을 것으로 보인다.\n",
      "\n",
      "이상의 논의를 바탕으로 육아휴직기간을 만6에서 만8세로 연장하더라\n",
      "\n",
      "도 법률 개정에 따른 추가 비용은 발생하지 않을 것으로 예상된다.\n",
      "\n",
      "4.  작성자\n",
      "\n",
      "국회예산정책처 법안비용추계1팀\n",
      "\n",
      "팀      장   정 문 종\n",
      "\n",
      "예산분석관   김 태 완\n",
      "\n",
      "(02-788-4649, tanzania@assembly.go.kr)\n",
      "\n",
      "- 11 -\n",
      "\n",
      "\f",
      "\n"
     ]
    }
   ],
   "source": [
    "from konlpy.tag import Okt            #Okt 형태소 분ㄴ석기 호출\n",
    "\n",
    "okt=Okt()\n",
    "\n",
    "nouns=okt.nouns(doc_kk)  #명사 추출\n",
    "morphs=okt.morphs(doc_kk)  #형태소 추출\n",
    "pos=okt.pos(doc_kk)          #품사 태깅\n",
    "\n",
    "\n",
    "print(nouns)\n",
    "\n",
    "print(\"------\")\n",
    "print(doc_kk)"
   ]
  },
  {
   "cell_type": "code",
   "execution_count": 52,
   "metadata": {},
   "outputs": [
    {
     "name": "stdout",
     "output_type": "stream",
     "text": [
      "836\n",
      "267\n"
     ]
    },
    {
     "data": {
      "text/plain": [
       "FreqDist({'육아휴직': 38, '만': 19, '발생': 19, '이하': 18, '경우': 18, '공무원': 17, '비용': 17, '액': 17, '세': 16, '자녀': 16, ...})"
      ]
     },
     "execution_count": 52,
     "metadata": {},
     "output_type": "execute_result"
    }
   ],
   "source": [
    "ko=nltk.Text(nouns)\n",
    "\n",
    "print(len(ko.tokens))\n",
    "print(len(set(ko.tokens)))\n",
    "\n",
    "ko.vocab()"
   ]
  },
  {
   "cell_type": "markdown",
   "metadata": {},
   "source": [
    "정제과정 "
   ]
  },
  {
   "cell_type": "code",
   "execution_count": 53,
   "metadata": {},
   "outputs": [
    {
     "data": {
      "image/png": "[encoded data removed]",
      "text/plain": [
       "<Figure size 864x432 with 1 Axes>"
      ]
     },
     "metadata": {
      "needs_background": "light"
     },
     "output_type": "display_data"
    }
   ],
   "source": [
    "import matplotlib.pyplot as plt\n",
    "%matplotlib inline\n",
    "\n",
    "import platform\n",
    "path= 'c:/windows/Fonts/malgun.ttf'\n",
    "from matplotlib import font_manager, rc\n",
    "\n",
    "font_name= font_manager.FontProperties(fname=path).get_name()\n",
    "rc('font', family= font_name)\n",
    "\n",
    "plt.figure(figsize=(12,6))\n",
    "ko.plot(30)                 # 빈도수 상위30 개\n",
    "plt.show()"
   ]
  },
  {
   "cell_type": "code",
   "execution_count": 58,
   "metadata": {},
   "outputs": [
    {
     "data": {
      "text/plain": [
       "['교육',\n",
       " '공무원',\n",
       " '일부',\n",
       " '개정',\n",
       " '법률',\n",
       " '정의화',\n",
       " '의원',\n",
       " '대표',\n",
       " '발의',\n",
       " '번',\n",
       " '발의',\n",
       " '연월일',\n",
       " '발',\n",
       " '자',\n",
       " '정의화',\n",
       " '이명수',\n",
       " '김을동',\n",
       " '이사철',\n",
       " '여상규',\n",
       " '안규백',\n",
       " '황영철',\n",
       " '박영아',\n",
       " '김정훈',\n",
       " '김학송',\n",
       " '의원',\n",
       " '인',\n",
       " '제안',\n",
       " '이유',\n",
       " '내용',\n",
       " '현행',\n",
       " '교육',\n",
       " '공무원',\n",
       " '육아휴직',\n",
       " '이하',\n",
       " '초등학교',\n",
       " '취학',\n",
       " '전',\n",
       " '자',\n",
       " '녀',\n",
       " '육아',\n",
       " '경우',\n",
       " '한정',\n",
       " '초등학교',\n",
       " '취학',\n",
       " '후',\n",
       " '등하교',\n",
       " '방과',\n",
       " '후',\n",
       " '양육',\n",
       " '등',\n",
       " '어려움',\n",
       " '저학년',\n",
       " '자녀',\n",
       " '혼자',\n",
       " '등하교',\n",
       " '거나',\n",
       " '어른',\n",
       " '집',\n",
       " '성폭력',\n",
       " '범죄',\n",
       " '등',\n",
       " '흉악',\n",
       " '범죄',\n",
       " '피해자',\n",
       " '고',\n",
       " '육아휴직',\n",
       " '가능',\n",
       " '시기',\n",
       " '이하',\n",
       " '자녀',\n",
       " '확대',\n",
       " '자녀',\n",
       " '초등학교',\n",
       " '입학',\n",
       " '학교생활',\n",
       " '롭',\n",
       " '나이',\n",
       " '교육',\n",
       " '공무원',\n",
       " '자녀',\n",
       " '양육',\n",
       " '위해',\n",
       " '휴직',\n",
       " '것임',\n",
       " '항제',\n",
       " '법률',\n",
       " '교육',\n",
       " '공무원',\n",
       " '일부',\n",
       " '개정',\n",
       " '법률',\n",
       " '교육',\n",
       " '공무원',\n",
       " '일부',\n",
       " '다음',\n",
       " '개정',\n",
       " '항제',\n",
       " '자녀',\n",
       " '이하',\n",
       " '초등학교',\n",
       " '취학',\n",
       " '전',\n",
       " '자녀',\n",
       " '를',\n",
       " '이하',\n",
       " '취학',\n",
       " '중인',\n",
       " '경우',\n",
       " '초등학교',\n",
       " '학년',\n",
       " '이하',\n",
       " '말',\n",
       " '자',\n",
       " '녀',\n",
       " '항제',\n",
       " '이내',\n",
       " '다만',\n",
       " '여자',\n",
       " '교육',\n",
       " '공무원',\n",
       " '경',\n",
       " '범위',\n",
       " '내',\n",
       " '그',\n",
       " '연장',\n",
       " '를',\n",
       " '이내',\n",
       " '여자',\n",
       " '교육',\n",
       " '공무원',\n",
       " '이내',\n",
       " '분할',\n",
       " '휴직',\n",
       " '부',\n",
       " '칙',\n",
       " '공포',\n",
       " '날',\n",
       " '시행',\n",
       " '신',\n",
       " '구조',\n",
       " '문대비',\n",
       " '표',\n",
       " '현',\n",
       " '행',\n",
       " '개',\n",
       " '정',\n",
       " '음',\n",
       " '각',\n",
       " '호의',\n",
       " '하나',\n",
       " '해당',\n",
       " '경',\n",
       " '우',\n",
       " '다만',\n",
       " '내지',\n",
       " '경우',\n",
       " '불구',\n",
       " '명',\n",
       " '경',\n",
       " '우',\n",
       " '경우',\n",
       " '명',\n",
       " '현행',\n",
       " '자녀',\n",
       " '이하',\n",
       " '초등학',\n",
       " '이하',\n",
       " '취학',\n",
       " '중인',\n",
       " '경우',\n",
       " '교',\n",
       " '취학',\n",
       " '전',\n",
       " '자녀',\n",
       " '를',\n",
       " '양육',\n",
       " '초등학교',\n",
       " '학년',\n",
       " '이하',\n",
       " '여자',\n",
       " '교육',\n",
       " '말',\n",
       " '자녀',\n",
       " '공무원',\n",
       " '임신',\n",
       " '출산',\n",
       " '때',\n",
       " '현행',\n",
       " '현행',\n",
       " '등',\n",
       " '은',\n",
       " '등',\n",
       " '다음',\n",
       " '현행',\n",
       " '사유',\n",
       " '휴직',\n",
       " '기간',\n",
       " '자녀',\n",
       " '인',\n",
       " '대하',\n",
       " '이내',\n",
       " '내',\n",
       " '여',\n",
       " '자',\n",
       " '교',\n",
       " '육',\n",
       " '공',\n",
       " '여자',\n",
       " '교육',\n",
       " '공무원',\n",
       " '경우',\n",
       " '무',\n",
       " '이내',\n",
       " '분할',\n",
       " '범위',\n",
       " '내',\n",
       " '휴직',\n",
       " '그',\n",
       " '연장',\n",
       " '현행',\n",
       " '현행',\n",
       " '교육',\n",
       " '공무원',\n",
       " '일부',\n",
       " '개정',\n",
       " '법률',\n",
       " '등',\n",
       " '비용',\n",
       " '추계',\n",
       " '첨부',\n",
       " '사유',\n",
       " '재정',\n",
       " '요인',\n",
       " '개정안',\n",
       " '국가공무원',\n",
       " '항제',\n",
       " '국가공무원',\n",
       " '육아',\n",
       " '휴직',\n",
       " '가능',\n",
       " '자녀',\n",
       " '연령',\n",
       " '이하',\n",
       " '이하',\n",
       " '방공',\n",
       " '무',\n",
       " '항제',\n",
       " '지방',\n",
       " '공무원',\n",
       " '육아휴직',\n",
       " '가능',\n",
       " '자녀',\n",
       " '연',\n",
       " '령',\n",
       " '이하',\n",
       " '이하',\n",
       " '교육',\n",
       " '공무원',\n",
       " '항',\n",
       " '교육',\n",
       " '공무원',\n",
       " '육아휴직',\n",
       " '가능',\n",
       " '자녀',\n",
       " '연령',\n",
       " '이하',\n",
       " '이하',\n",
       " '남녀',\n",
       " '고용',\n",
       " '평등',\n",
       " '일',\n",
       " '가정',\n",
       " '양립',\n",
       " '지원',\n",
       " '관',\n",
       " '법률',\n",
       " '항',\n",
       " '근로자',\n",
       " '육아휴직',\n",
       " '가능',\n",
       " '자녀',\n",
       " '연령',\n",
       " '이하',\n",
       " '이하',\n",
       " '조정',\n",
       " '함',\n",
       " '추가',\n",
       " '재정',\n",
       " '요가',\n",
       " '예상',\n",
       " '첨부',\n",
       " '근거',\n",
       " '규정',\n",
       " '의안',\n",
       " '비용',\n",
       " '추계',\n",
       " '관',\n",
       " '규칙',\n",
       " '항',\n",
       " '단서',\n",
       " '예상',\n",
       " '비용',\n",
       " '평균',\n",
       " '미만',\n",
       " '거나',\n",
       " '한시',\n",
       " '경비',\n",
       " '로서',\n",
       " '총',\n",
       " '미만',\n",
       " '경우',\n",
       " '해당',\n",
       " '함',\n",
       " '첨부',\n",
       " '사유',\n",
       " '개정안',\n",
       " '국가',\n",
       " '지방',\n",
       " '교육',\n",
       " '공무원',\n",
       " '근로자',\n",
       " '육아휴직',\n",
       " '신청',\n",
       " '자녀',\n",
       " '연령',\n",
       " '이하',\n",
       " '이하',\n",
       " '상향',\n",
       " '조정',\n",
       " '함',\n",
       " '추가',\n",
       " '재정',\n",
       " '요가',\n",
       " '예상',\n",
       " '법률',\n",
       " '개정안',\n",
       " '시행',\n",
       " '고',\n",
       " '가정',\n",
       " '경우',\n",
       " '현재',\n",
       " '자녀',\n",
       " '연령',\n",
       " '세이',\n",
       " '육아휴직',\n",
       " '신청',\n",
       " '국가',\n",
       " '지방',\n",
       " '교육',\n",
       " '공무원',\n",
       " '근로자',\n",
       " '대상',\n",
       " '대상',\n",
       " '연령',\n",
       " '확대',\n",
       " '육아휴직',\n",
       " '신청',\n",
       " '수가',\n",
       " '정도',\n",
       " '예상',\n",
       " '경우',\n",
       " '발생',\n",
       " '비용',\n",
       " '현행법',\n",
       " '이나',\n",
       " '현재',\n",
       " '관련',\n",
       " '법령',\n",
       " '개정',\n",
       " '추진',\n",
       " '육아휴직',\n",
       " '지급',\n",
       " '월급',\n",
       " '비례',\n",
       " '육아휴직',\n",
       " '여가',\n",
       " '지급',\n",
       " '기',\n",
       " '때문',\n",
       " '법령',\n",
       " '개정',\n",
       " '가정',\n",
       " '추계',\n",
       " '경우',\n",
       " '육아휴직',\n",
       " '급여',\n",
       " '육아휴직',\n",
       " '지급',\n",
       " '월급',\n",
       " '여의',\n",
       " '해당',\n",
       " '육아휴직',\n",
       " '발생',\n",
       " '경우',\n",
       " '발생',\n",
       " '비용',\n",
       " '체인',\n",
       " '고용',\n",
       " '인건비',\n",
       " '육아휴직',\n",
       " '월급',\n",
       " '대비',\n",
       " '육아휴직',\n",
       " '지급',\n",
       " '임금',\n",
       " '더',\n",
       " '이상',\n",
       " '발생',\n",
       " '따라서',\n",
       " '실제',\n",
       " '발생',\n",
       " '비용',\n",
       " '육',\n",
       " '휴직',\n",
       " '지급',\n",
       " '급여',\n",
       " '연령',\n",
       " '확대',\n",
       " '발생',\n",
       " '비용',\n",
       " '인',\n",
       " '육아휴직',\n",
       " '월급',\n",
       " '체인',\n",
       " '고용',\n",
       " '인건비',\n",
       " '차',\n",
       " '값',\n",
       " '추가',\n",
       " '재정',\n",
       " '소요',\n",
       " '발생',\n",
       " '볼',\n",
       " '추가',\n",
       " '비용',\n",
       " '발생',\n",
       " '여부',\n",
       " '비용',\n",
       " '대한',\n",
       " '리모',\n",
       " '델',\n",
       " '비용',\n",
       " '발생',\n",
       " '여부',\n",
       " '하자',\n",
       " '모델',\n",
       " '사',\n",
       " '용',\n",
       " '변수',\n",
       " '다음',\n",
       " '정의',\n",
       " '발생',\n",
       " '비용',\n",
       " '육아휴직',\n",
       " '육아휴직',\n",
       " '대상자',\n",
       " '육아휴직',\n",
       " '대상자',\n",
       " '월급',\n",
       " '육아휴직',\n",
       " '발생',\n",
       " '경우',\n",
       " '대체',\n",
       " '고용',\n",
       " '확률',\n",
       " '대체',\n",
       " '고용',\n",
       " '인력',\n",
       " '지급',\n",
       " '월급',\n",
       " '수식',\n",
       " '육아휴직',\n",
       " '육아휴직',\n",
       " '월급',\n",
       " '예정',\n",
       " '므',\n",
       " '육아휴직',\n",
       " '육아휴직',\n",
       " '발생',\n",
       " '경우',\n",
       " '대체',\n",
       " '고용',\n",
       " '확률',\n",
       " '고용노동부',\n",
       " '육아휴직',\n",
       " '관련',\n",
       " '자료',\n",
       " '이용',\n",
       " '고용노동부',\n",
       " '경우',\n",
       " '육아휴직',\n",
       " '급여',\n",
       " '대상자',\n",
       " '명',\n",
       " '육아휴직',\n",
       " '체인',\n",
       " '고용',\n",
       " '상인',\n",
       " '명',\n",
       " '현황',\n",
       " '정리',\n",
       " '다음',\n",
       " '표',\n",
       " '표',\n",
       " '육아휴직',\n",
       " '급여',\n",
       " '수급',\n",
       " '체인',\n",
       " '고용',\n",
       " '현황',\n",
       " '단위',\n",
       " '명',\n",
       " '평균',\n",
       " '육아휴직',\n",
       " '급여',\n",
       " '수급',\n",
       " '체인',\n",
       " '채용',\n",
       " '비',\n",
       " '율',\n",
       " '자료',\n",
       " '고용노동부',\n",
       " '자료',\n",
       " '바탕',\n",
       " '국회예산정책처',\n",
       " '작성',\n",
       " '표',\n",
       " '자료',\n",
       " '육아휴직',\n",
       " '발생',\n",
       " '경우',\n",
       " '대체',\n",
       " '고용',\n",
       " '확률',\n",
       " '값',\n",
       " '가정',\n",
       " '비용',\n",
       " '발생',\n",
       " '가정',\n",
       " '수식',\n",
       " '다시',\n",
       " '작성',\n",
       " '다음',\n",
       " '수식',\n",
       " '육아휴직',\n",
       " '수식',\n",
       " '육아휴직',\n",
       " '급여',\n",
       " '대입',\n",
       " '대체',\n",
       " '고용',\n",
       " '인력',\n",
       " '자',\n",
       " '지급',\n",
       " '급여',\n",
       " '추정',\n",
       " '육아휴직',\n",
       " '원',\n",
       " '가정',\n",
       " '대체',\n",
       " '고용',\n",
       " '인력',\n",
       " '육아휴직',\n",
       " '급여',\n",
       " '배',\n",
       " '달',\n",
       " '이상',\n",
       " '지급',\n",
       " '추가',\n",
       " '비용',\n",
       " '발생',\n",
       " '대체',\n",
       " '고용',\n",
       " '인력',\n",
       " '육아휴직',\n",
       " '더',\n",
       " '월급',\n",
       " '주지',\n",
       " '배',\n",
       " '이상',\n",
       " '월급',\n",
       " '주지',\n",
       " '이기',\n",
       " '때문',\n",
       " '추가',\n",
       " '비용',\n",
       " '발생',\n",
       " '보기',\n",
       " '수식',\n",
       " '체인',\n",
       " '고용',\n",
       " '확률',\n",
       " '를',\n",
       " '가정',\n",
       " '경우',\n",
       " '육아휴직',\n",
       " '체인',\n",
       " '이상',\n",
       " '지급',\n",
       " '추가',\n",
       " '비용',\n",
       " '발생',\n",
       " '행정안전부',\n",
       " '통계',\n",
       " '자료',\n",
       " '행정안전부',\n",
       " '통계',\n",
       " '연감',\n",
       " '지방',\n",
       " '공무원',\n",
       " '육',\n",
       " '휴직',\n",
       " '현황',\n",
       " '자료',\n",
       " '여기',\n",
       " '육아휴직',\n",
       " '발생',\n",
       " '경우',\n",
       " '체인',\n",
       " '주로',\n",
       " '임용',\n",
       " '기자',\n",
       " '일용직',\n",
       " '활용',\n",
       " '따라서',\n",
       " '공무원',\n",
       " '경우',\n",
       " '표',\n",
       " '기업체',\n",
       " '체인',\n",
       " '고용',\n",
       " '확률',\n",
       " '이상',\n",
       " '논의',\n",
       " '바탕',\n",
       " '육아휴직',\n",
       " '기간',\n",
       " '세로',\n",
       " '연장',\n",
       " '도',\n",
       " '법률',\n",
       " '개정',\n",
       " '추가',\n",
       " '비용',\n",
       " '발생',\n",
       " '예상',\n",
       " '작성자',\n",
       " '국회예산정책처',\n",
       " '법안',\n",
       " '비용',\n",
       " '추계',\n",
       " '팀',\n",
       " '팀',\n",
       " '장',\n",
       " '정',\n",
       " '문',\n",
       " '종',\n",
       " '예산',\n",
       " '분석관',\n",
       " '김',\n",
       " '태',\n",
       " '완']"
      ]
     },
     "execution_count": 58,
     "metadata": {},
     "output_type": "execute_result"
    }
   ],
   "source": [
    "from wordcloud import WordCloud, STOPWORDS\n",
    "\n",
    "stopwords=['만','아하','액','세','의','이','수','제','법','호','위','월','중','안','및','로','생','략','것']\n",
    "ko=[each_word for each_word in ko if each_word not in stopwords]\n",
    "ko"
   ]
  },
  {
   "cell_type": "code",
   "execution_count": 59,
   "metadata": {},
   "outputs": [
    {
     "data": {
      "image/png": "[encoded data removed]",
      "text/plain": [
       "<Figure size 864x432 with 1 Axes>"
      ]
     },
     "metadata": {
      "needs_background": "light"
     },
     "output_type": "display_data"
    }
   ],
   "source": [
    "ko=nltk.Text(ko)\n",
    "\n",
    "plt.figure(figsize=(12,6))\n",
    "ko.plot(30)\n",
    "plt.show()"
   ]
  },
  {
   "cell_type": "markdown",
   "metadata": {},
   "source": [
    "시각화 "
   ]
  },
  {
   "cell_type": "code",
   "execution_count": 60,
   "metadata": {},
   "outputs": [
    {
     "data": {
      "image/png": "[encoded data removed]",
      "text/plain": [
       "<Figure size 864x1296 with 1 Axes>"
      ]
     },
     "metadata": {
      "needs_background": "light"
     },
     "output_type": "display_data"
    }
   ],
   "source": [
    "data=ko.vocab().most_common(30)   #최빈도 단어 30개를 사용\n",
    "\n",
    "wordcloud=WordCloud(font_path='c:/Windows/Fonts/malgun.ttf',background_color='white').generate_from_frequencies(dict(data))\n",
    "\n",
    "plt.figure(figsize=(12,18))\n",
    "plt.imshow(wordcloud)\n",
    "plt.axis(\"off\")\n",
    "plt.show()"
   ]
  },
  {
   "cell_type": "markdown",
   "metadata": {},
   "source": [
    "# 정규 표현식 연습 "
   ]
  },
  {
   "cell_type": "markdown",
   "metadata": {},
   "source": [
    "# 2\n",
    "다음 text에서 휴대포 번호와 전화번호를 모두 추출하는 정규식을 작성하고 리턴받아 보자\n",
    "text: 제 휴대폰 번호는 010-1234-5678이고, 전화 번호는 0211335577입니다."
   ]
  },
  {
   "cell_type": "code",
   "execution_count": 72,
   "metadata": {},
   "outputs": [
    {
     "data": {
      "text/plain": [
       "['010-1234-5678', '0211335577']"
      ]
     },
     "execution_count": 72,
     "metadata": {},
     "output_type": "execute_result"
    }
   ],
   "source": [
    "import re\n",
    "text=\"제 휴대폰 번호는 010-1234-5678이고, 전화 번호는 0211335577입니다.\"\n",
    "\n",
    "number=re.compile('\\d{2,3}-?\\d{4}-?\\d{4,}')\n",
    "number.findall(text)\n"
   ]
  },
  {
   "cell_type": "code",
   "execution_count": null,
   "metadata": {},
   "outputs": [],
   "source": []
  },
  {
   "cell_type": "code",
   "execution_count": null,
   "metadata": {},
   "outputs": [],
   "source": []
  },
  {
   "cell_type": "markdown",
   "metadata": {},
   "source": [
    "# 3 \n",
    "다음 text에서 휴대폰 번호와 전화 번호를 모두 추출하는 정규식을 작성하고 리턴받아 보자\n",
    "\n",
    "text: 제 휴대폰 번호는 010-1234-5678이고, 전화 번호는 0211335577 와 02.1133.5599입니다"
   ]
  },
  {
   "cell_type": "code",
   "execution_count": 68,
   "metadata": {},
   "outputs": [
    {
     "data": {
      "text/plain": [
       "['010-1234-5678', '0211335577', '02.1133.5599']"
      ]
     },
     "execution_count": 68,
     "metadata": {},
     "output_type": "execute_result"
    }
   ],
   "source": [
    "import re\n",
    "text=\"제 휴대폰 번호는 010-1234-5678이고, 전화 번호는 0211335577 와 02.1133.5599입니다\"\n",
    "\n",
    "number=re.compile('\\d{2,3}\\D?\\d{3,4}\\D?\\d{4,}')  #'\\d{2,3}\\W?\\W{3,4}\\W?\\d{4,}'\n",
    "number.findall(text)\n"
   ]
  },
  {
   "cell_type": "markdown",
   "metadata": {},
   "source": [
    "# 4\n",
    "위 text에서 전화번호 블럭처리해서 리턴 받기"
   ]
  },
  {
   "cell_type": "code",
   "execution_count": 77,
   "metadata": {},
   "outputs": [
    {
     "name": "stdout",
     "output_type": "stream",
     "text": [
      "제 휴대폰 번호는 ***-***-***이고, 전화 번호는 *** 와 ***.***.***입니다\n"
     ]
    }
   ],
   "source": [
    "import re\n",
    "text=\"제 휴대폰 번호는 010-1234-5678이고, 전화 번호는 0211335577 와 02.1133.5599입니다\"\n",
    "\n",
    "\n",
    "number=re.sub(\"\\d+\",\"***\", text)  # number=re.sub('\\d{2,3}\\W?\\d{4}\\W?\\d{4,}','xxx', text)\n",
    "\n",
    "#number.findall(text)\n",
    "print(number)"
   ]
  },
  {
   "cell_type": "code",
   "execution_count": null,
   "metadata": {},
   "outputs": [],
   "source": []
  }
 ],
 "metadata": {
  "kernelspec": {
   "display_name": "Keras",
   "language": "python",
   "name": "keras"
  },
  "language_info": {
   "codemirror_mode": {
    "name": "ipython",
    "version": 3
   },
   "file_extension": ".py",
   "mimetype": "text/x-python",
   "name": "python",
   "nbconvert_exporter": "python",
   "pygments_lexer": "ipython3",
   "version": "3.6.8"
  },
  "widgets": {
   "state": {},
   "version": "1.1.2"
  }
 },
 "nbformat": 4,
 "nbformat_minor": 2
}
