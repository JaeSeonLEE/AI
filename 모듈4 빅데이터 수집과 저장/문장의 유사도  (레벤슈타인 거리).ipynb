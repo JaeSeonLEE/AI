{
 "cells": [
  {
   "cell_type": "markdown",
   "metadata": {},
   "source": [
    "# p823  문장의 유사도( 레벤슈타인 거리)\n"
   ]
  },
  {
   "cell_type": "code",
   "execution_count": 8,
   "metadata": {},
   "outputs": [
    {
     "name": "stdout",
     "output_type": "stream",
     "text": [
      "[[0, 1, 2, 3, 4], [1, 0, 1, 2, 3], [2, 1, 1, 2, 3], [3, 2, 2, 2, 3], [4, 3, 3, 3, 2]]\n",
      "2\n",
      "[[0, 1, 2, 3], [1, 0, 1, 2], [2, 1, 1, 2], [3, 2, 2, 2]]\n",
      "[[0, 1, 2, 3], [1, 0, 1, 2], [2, 1, 1, 2], [3, 2, 2, 1]]\n",
      "[[0, 1, 2], [1, 0, 1], [2, 1, 1], [3, 2, 2]]\n",
      "[[0, 1, 2, 3], [1, 1, 2, 3], [2, 2, 2, 3], [3, 3, 3, 2]]\n",
      "0 신촌역\n",
      "[[0, 1, 2, 3], [1, 0, 1, 2], [2, 1, 1, 2], [3, 2, 2, 1]]\n",
      "1 신척역\n",
      "[[0, 1, 2, 3], [1, 0, 1, 2], [2, 1, 1, 2], [3, 2, 2, 2]]\n",
      "2 신천군\n",
      "[[0, 1, 2], [1, 0, 1], [2, 1, 1], [3, 2, 2]]\n",
      "2 신발\n",
      "[[0, 1, 2, 3], [1, 1, 2, 3], [2, 2, 2, 3], [3, 3, 3, 2]]\n",
      "2 마곡역\n"
     ]
    }
   ],
   "source": [
    "def calc_distance(a,b):\n",
    "    \"\"\" 레벤슈타인 거리 계산\"\"\"\n",
    "    if a ==b: return 0\n",
    "    a_len=len(a)\n",
    "    b_len=len(b)\n",
    "\n",
    "    if a== \"\": return b_len\n",
    "    if b== \"\": return a_len\n",
    "    \n",
    "    #2차원 표 (len+1, b_len 1) 준비하기\n",
    "    matrix=[[] for i in range(a_len+1)]\n",
    "  \n",
    "    for i in range(a_len+1):\n",
    "        matrix[i]= [0 for j in range(b_len+1)]\n",
    "   # 0일 때 초기값 설정\n",
    "    for i in range(a_len+1):\n",
    "        matrix[i][0]=i\n",
    "    \n",
    "    for j in range(b_len+1):\n",
    "        matrix[0][j]=j\n",
    "       \n",
    "    #표 채우기\n",
    "    for i in range(1,a_len+1):\n",
    "        ac=a[i-1]\n",
    "        \n",
    "        for j in range(1,b_len+1):\n",
    "            bc=b[j-1]\n",
    "            \n",
    "            cost=0 if (ac==bc) else 1\n",
    "            \n",
    "            matrix[i][j]=min([\n",
    "                matrix[i-1][j]+1,\n",
    "                matrix[i][j-1]+1,\n",
    "                matrix[i-1][j-1]+cost\n",
    "            ])\n",
    "\n",
    "\n",
    "    print(matrix)\n",
    "    return matrix[a_len][b_len]\n",
    "   \n",
    "print(calc_distance(\"가나다라\",\"가마바라\"))  \n",
    "\n",
    "samples=[\"신촌역\",\"신천군\",\"신척역\",\"신발\",\"마곡역\"]\n",
    "base=samples[0]\n",
    "r=sorted(samples,key=lambda n: calc_distance(base,n))\n",
    "    \n",
    "for n in r:\n",
    "    print(calc_distance(base,n),n)"
   ]
  },
  {
   "cell_type": "code",
   "execution_count": null,
   "metadata": {},
   "outputs": [],
   "source": []
  },
  {
   "cell_type": "code",
   "execution_count": null,
   "metadata": {},
   "outputs": [],
   "source": []
  },
  {
   "cell_type": "code",
   "execution_count": null,
   "metadata": {},
   "outputs": [],
   "source": [
    "\n"
   ]
  },
  {
   "cell_type": "code",
   "execution_count": null,
   "metadata": {},
   "outputs": [],
   "source": []
  }
 ],
 "metadata": {
  "kernelspec": {
   "display_name": "mypython",
   "language": "python",
   "name": "mypython"
  },
  "language_info": {
   "codemirror_mode": {
    "name": "ipython",
    "version": 3
   },
   "file_extension": ".py",
   "mimetype": "text/x-python",
   "name": "python",
   "nbconvert_exporter": "python",
   "pygments_lexer": "ipython3",
   "version": "3.6.8"
  },
  "widgets": {
   "state": {},
   "version": "1.1.2"
  }
 },
 "nbformat": 4,
 "nbformat_minor": 2
}
