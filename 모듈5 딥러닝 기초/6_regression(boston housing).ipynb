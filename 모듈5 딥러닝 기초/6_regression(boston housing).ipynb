{
 "cells": [
  {
   "cell_type": "code",
   "execution_count": 39,
   "metadata": {},
   "outputs": [
    {
     "ename": "ModuleNotFoundError",
     "evalue": "No module named 'DateFrame'",
     "output_type": "error",
     "traceback": [
      "\u001b[1;31m---------------------------------------------------------------------------\u001b[0m",
      "\u001b[1;31mModuleNotFoundError\u001b[0m                       Traceback (most recent call last)",
      "\u001b[1;32m<ipython-input-39-f493268d86cb>\u001b[0m in \u001b[0;36m<module>\u001b[1;34m\u001b[0m\n\u001b[0;32m      1\u001b[0m \u001b[1;31m# 일부만 할당된 GPU 메모리를 실행하는 동안 필요한만큼 늘릴 수 있도록 설정함\u001b[0m\u001b[1;33m\u001b[0m\u001b[1;33m\u001b[0m\u001b[1;33m\u001b[0m\u001b[0m\n\u001b[0;32m      2\u001b[0m \u001b[1;32mimport\u001b[0m \u001b[0mtensorflow\u001b[0m \u001b[1;32mas\u001b[0m \u001b[0mtf\u001b[0m\u001b[1;33m\u001b[0m\u001b[1;33m\u001b[0m\u001b[0m\n\u001b[1;32m----> 3\u001b[1;33m \u001b[1;32mimport\u001b[0m \u001b[0mDateFrame\u001b[0m \u001b[1;32mas\u001b[0m \u001b[0mdf\u001b[0m\u001b[1;33m\u001b[0m\u001b[1;33m\u001b[0m\u001b[0m\n\u001b[0m\u001b[0;32m      4\u001b[0m \u001b[0mconfig\u001b[0m \u001b[1;33m=\u001b[0m \u001b[0mtf\u001b[0m\u001b[1;33m.\u001b[0m\u001b[0mConfigProto\u001b[0m\u001b[1;33m(\u001b[0m\u001b[1;33m)\u001b[0m\u001b[1;33m\u001b[0m\u001b[1;33m\u001b[0m\u001b[0m\n\u001b[0;32m      5\u001b[0m \u001b[0mconfig\u001b[0m\u001b[1;33m.\u001b[0m\u001b[0mgpu_options\u001b[0m\u001b[1;33m.\u001b[0m\u001b[0mallow_growth\u001b[0m \u001b[1;33m=\u001b[0m \u001b[1;32mTrue\u001b[0m\u001b[1;33m\u001b[0m\u001b[1;33m\u001b[0m\u001b[0m\n",
      "\u001b[1;31mModuleNotFoundError\u001b[0m: No module named 'DateFrame'"
     ]
    }
   ],
   "source": [
    "# 일부만 할당된 GPU 메모리를 실행하는 동안 필요한만큼 늘릴 수 있도록 설정함\n",
    "import tensorflow as tf\n",
    "\n",
    "config = tf.ConfigProto()\n",
    "config.gpu_options.allow_growth = True\n",
    "session = tf.Session(config=config)"
   ]
  },
  {
   "cell_type": "code",
   "execution_count": 5,
   "metadata": {},
   "outputs": [],
   "source": [
    "# 동일한 결과를 재현하기 위해서 random seed 고정\n",
    "import numpy as np\n",
    "\n",
    "np.random.seed(777)"
   ]
  },
  {
   "cell_type": "code",
   "execution_count": 6,
   "metadata": {},
   "outputs": [],
   "source": [
    "# 모델 학습 시 불필요한 출력을 끄도록 함 (warning)\n",
    "import tensorflow as tf\n",
    "\n",
    "tf.logging.set_verbosity(tf.logging.ERROR)"
   ]
  },
  {
   "cell_type": "markdown",
   "metadata": {},
   "source": [
    "# 1. 데이터 준비"
   ]
  },
  {
   "cell_type": "code",
   "execution_count": 7,
   "metadata": {},
   "outputs": [],
   "source": [
    "from tensorflow.keras.datasets import boston_housing\n",
    "\n",
    "(train_data, train_targets), (test_data, test_targets) = boston_housing.load_data()"
   ]
  },
  {
   "cell_type": "code",
   "execution_count": 8,
   "metadata": {},
   "outputs": [
    {
     "name": "stdout",
     "output_type": "stream",
     "text": [
      "(404, 13)\n",
      "(102, 13)\n"
     ]
    }
   ],
   "source": [
    "print(train_data.shape)\n",
    "print(test_data.shape)"
   ]
  },
  {
   "cell_type": "code",
   "execution_count": 9,
   "metadata": {},
   "outputs": [
    {
     "name": "stdout",
     "output_type": "stream",
     "text": [
      "[[1.23247e+00 0.00000e+00 8.14000e+00 ... 2.10000e+01 3.96900e+02\n",
      "  1.87200e+01]\n",
      " [2.17700e-02 8.25000e+01 2.03000e+00 ... 1.47000e+01 3.95380e+02\n",
      "  3.11000e+00]\n",
      " [4.89822e+00 0.00000e+00 1.81000e+01 ... 2.02000e+01 3.75520e+02\n",
      "  3.26000e+00]\n",
      " ...\n",
      " [3.46600e-02 3.50000e+01 6.06000e+00 ... 1.69000e+01 3.62250e+02\n",
      "  7.83000e+00]\n",
      " [2.14918e+00 0.00000e+00 1.95800e+01 ... 1.47000e+01 2.61950e+02\n",
      "  1.57900e+01]\n",
      " [1.43900e-02 6.00000e+01 2.93000e+00 ... 1.56000e+01 3.76700e+02\n",
      "  4.38000e+00]]\n"
     ]
    }
   ],
   "source": [
    "print(train_data)"
   ]
  },
  {
   "cell_type": "code",
   "execution_count": 10,
   "metadata": {
    "scrolled": true
   },
   "outputs": [
    {
     "name": "stdout",
     "output_type": "stream",
     "text": [
      "[15.2 42.3 50.  21.1 17.7 18.5 11.3 15.6 15.6 14.4 12.1 17.9 23.1 19.9\n",
      " 15.7  8.8 50.  22.5 24.1 27.5 10.9 30.8 32.9 24.  18.5 13.3 22.9 34.7\n",
      " 16.6 17.5 22.3 16.1 14.9 23.1 34.9 25.  13.9 13.1 20.4 20.  15.2 24.7\n",
      " 22.2 16.7 12.7 15.6 18.4 21.  30.1 15.1 18.7  9.6 31.5 24.8 19.1 22.\n",
      " 14.5 11.  32.  29.4 20.3 24.4 14.6 19.5 14.1 14.3 15.6 10.5  6.3 19.3\n",
      " 19.3 13.4 36.4 17.8 13.5 16.5  8.3 14.3 16.  13.4 28.6 43.5 20.2 22.\n",
      " 23.  20.7 12.5 48.5 14.6 13.4 23.7 50.  21.7 39.8 38.7 22.2 34.9 22.5\n",
      " 31.1 28.7 46.  41.7 21.  26.6 15.  24.4 13.3 21.2 11.7 21.7 19.4 50.\n",
      " 22.8 19.7 24.7 36.2 14.2 18.9 18.3 20.6 24.6 18.2  8.7 44.  10.4 13.2\n",
      " 21.2 37.  30.7 22.9 20.  19.3 31.7 32.  23.1 18.8 10.9 50.  19.6  5.\n",
      " 14.4 19.8 13.8 19.6 23.9 24.5 25.  19.9 17.2 24.6 13.5 26.6 21.4 11.9\n",
      " 22.6 19.6  8.5 23.7 23.1 22.4 20.5 23.6 18.4 35.2 23.1 27.9 20.6 23.7\n",
      " 28.  13.6 27.1 23.6 20.6 18.2 21.7 17.1  8.4 25.3 13.8 22.2 18.4 20.7\n",
      " 31.6 30.5 20.3  8.8 19.2 19.4 23.1 23.  14.8 48.8 22.6 33.4 21.1 13.6\n",
      " 32.2 13.1 23.4 18.9 23.9 11.8 23.3 22.8 19.6 16.7 13.4 22.2 20.4 21.8\n",
      " 26.4 14.9 24.1 23.8 12.3 29.1 21.  19.5 23.3 23.8 17.8 11.5 21.7 19.9\n",
      " 25.  33.4 28.5 21.4 24.3 27.5 33.1 16.2 23.3 48.3 22.9 22.8 13.1 12.7\n",
      " 22.6 15.  15.3 10.5 24.  18.5 21.7 19.5 33.2 23.2  5.  19.1 12.7 22.3\n",
      " 10.2 13.9 16.3 17.  20.1 29.9 17.2 37.3 45.4 17.8 23.2 29.  22.  18.\n",
      " 17.4 34.6 20.1 25.  15.6 24.8 28.2 21.2 21.4 23.8 31.  26.2 17.4 37.9\n",
      " 17.5 20.   8.3 23.9  8.4 13.8  7.2 11.7 17.1 21.6 50.  16.1 20.4 20.6\n",
      " 21.4 20.6 36.5  8.5 24.8 10.8 21.9 17.3 18.9 36.2 14.9 18.2 33.3 21.8\n",
      " 19.7 31.6 24.8 19.4 22.8  7.5 44.8 16.8 18.7 50.  50.  19.5 20.1 50.\n",
      " 17.2 20.8 19.3 41.3 20.4 20.5 13.8 16.5 23.9 20.6 31.5 23.3 16.8 14.\n",
      " 33.8 36.1 12.8 18.3 18.7 19.1 29.  30.1 50.  50.  22.  11.9 37.6 50.\n",
      " 22.7 20.8 23.5 27.9 50.  19.3 23.9 22.6 15.2 21.7 19.2 43.8 20.3 33.2\n",
      " 19.9 22.5 32.7 22.  17.1 19.  15.  16.1 25.1 23.7 28.7 37.2 22.6 16.4\n",
      " 25.  29.8 22.1 17.4 18.1 30.3 17.5 24.7 12.6 26.5 28.7 13.3 10.4 24.4\n",
      " 23.  20.  17.8  7.  11.8 24.4 13.8 19.4 25.2 19.4 19.4 29.1]\n"
     ]
    }
   ],
   "source": [
    "print(train_targets) # 단위: 천 달러"
   ]
  },
  {
   "cell_type": "markdown",
   "metadata": {},
   "source": [
    "# 2. 데이터 전처리"
   ]
  },
  {
   "cell_type": "code",
   "execution_count": 11,
   "metadata": {},
   "outputs": [],
   "source": [
    "mean = train_data.mean(axis=0)\n",
    "train_data -= mean\n",
    "\n",
    "std = train_data.std(axis=0)                          #표준편차\n",
    "train_data /= std\n",
    "\n",
    "#!!!!!!!!!!!***** 테스트 셋도 훈련 셋에서 계산된 mean과 std를 동일하게 사용함     ****!!!!!!!!!!!!!!!!!1\n",
    "#!!!!!!!!!!! ****만약 각각 정규화를 수행해버리면, 학습 결과 적용이 불가능해짐   **** !!!!!!!!!!!!!!!!!!!!!!\n",
    "test_data -= mean\n",
    "test_data /= std"
   ]
  },
  {
   "cell_type": "code",
   "execution_count": 12,
   "metadata": {},
   "outputs": [
    {
     "name": "stdout",
     "output_type": "stream",
     "text": [
      "[[ 1.55369355 -0.48361547  1.0283258  ...  0.78447637 -3.48459553\n",
      "   2.25092074]\n",
      " [-0.39242675 -0.48361547 -0.16087773 ... -0.30759583  0.42733126\n",
      "   0.47880119]\n",
      " [-0.39982927 -0.48361547 -0.86940196 ...  0.78447637  0.44807713\n",
      "  -0.41415936]\n",
      " ...\n",
      " [-0.20709507 -0.48361547  1.24588095 ... -1.71818909  0.37051949\n",
      "  -1.49344089]\n",
      " [-0.36698601 -0.48361547 -0.72093526 ... -0.48960787  0.39275481\n",
      "  -0.41829982]\n",
      " [-0.0889679  -0.48361547  1.24588095 ... -1.71818909 -1.21946544\n",
      "  -0.40449827]]\n"
     ]
    }
   ],
   "source": [
    "print(test_data)"
   ]
  },
  {
   "cell_type": "markdown",
   "metadata": {},
   "source": [
    "# 3. 네트워크 정의"
   ]
  },
  {
   "cell_type": "code",
   "execution_count": 13,
   "metadata": {},
   "outputs": [],
   "source": [
    "from tensorflow.keras.models import Sequential\n",
    "from tensorflow.keras.layers import Dense\n",
    "\n",
    "def build_model():\n",
    "    model = Sequential()\n",
    "    model.add(Dense(64, activation='relu', input_shape=(train_data.shape[1],)))\n",
    "    model.add(Dense(64, activation='relu'))\n",
    "    model.add(Dense(1)) # 회귀 모델 (출력층에 활성화 함수 없음) 구하고자 하는 값이 1개 여서\n",
    "                        \n",
    "     \n",
    "    model.compile(optimizer='rmsprop', loss='mse', metrics=['mae'])   # mae= 실제값과 예상치의 차이의 절대값\n",
    "    \n",
    "    return model"
   ]
  },
  {
   "cell_type": "markdown",
   "metadata": {},
   "source": [
    "# 4. (K-겹 교차 검증을 사용한) 모델 학습"
   ]
  },
  {
   "cell_type": "code",
   "execution_count": 14,
   "metadata": {},
   "outputs": [
    {
     "name": "stdout",
     "output_type": "stream",
     "text": [
      ">> fold  0\n",
      ">> fold  1\n",
      ">> fold  2\n",
      ">> fold  3\n",
      "finished!!\n"
     ]
    }
   ],
   "source": [
    "import numpy as np\n",
    "\n",
    "k = 4\n",
    "num_val_samples = len(train_data) // k\n",
    "num_epochs = 100\n",
    "all_scores = []\n",
    "\n",
    "for i in range(k):                                   # k겹으로 나누기\n",
    "    print('>> fold ', i)\n",
    "    val_data = train_data[i * num_val_samples: (i+1) * num_val_samples]            #train_data[0:100]\n",
    "    val_targets = train_targets[i * num_val_samples: (i+1) * num_val_samples]\n",
    "    \n",
    "    partial_train_data = np.concatenate([train_data[:i*num_val_samples],\n",
    "                                         train_data[(i+1) * num_val_samples:]],\n",
    "                                        axis=0)\n",
    "    partial_train_targets = np.concatenate([train_targets[:i*num_val_samples],\n",
    "                                            train_targets[(i+1) * num_val_samples:]],\n",
    "                                           axis=0)\n",
    "\n",
    "    model = build_model()\n",
    "    model.fit(partial_train_data, \n",
    "              partial_train_targets,\n",
    "              epochs = num_epochs,\n",
    "              batch_size = 1,\n",
    "              verbose = 0)                    # verbose= 0 : 값 일일이 보여주기(off)             \n",
    "    \n",
    "    val_mse, val_mae = model.evaluate(val_data, val_targets, verbose=0)          # loss / matrics 에 넣은\n",
    "                                                                                 #      값 분리해서 넣어줌\n",
    "    all_scores.append(val_mae)\n",
    "\n",
    "print('finished!!')"
   ]
  },
  {
   "cell_type": "code",
   "execution_count": 15,
   "metadata": {},
   "outputs": [],
   "source": [
    "#print(val_mae)"
   ]
  },
  {
   "cell_type": "code",
   "execution_count": 25,
   "metadata": {},
   "outputs": [
    {
     "name": "stdout",
     "output_type": "stream",
     "text": [
      "[2.2933137, 2.7139206, 2.6138644, 2.208067]\n",
      "2.46 ±(0.21)\n"
     ]
    }
   ],
   "source": [
    "print(all_scores)\n",
    "mean = np.mean(all_scores)\n",
    "stddev = np.std(all_scores)\n",
    "\n",
    "print(u'%.2f \\u00B1(%.2f)'%(mean, stddev))"
   ]
  },
  {
   "cell_type": "code",
   "execution_count": null,
   "metadata": {},
   "outputs": [],
   "source": []
  },
  {
   "cell_type": "code",
   "execution_count": 26,
   "metadata": {},
   "outputs": [
    {
     "name": "stdout",
     "output_type": "stream",
     "text": [
      "['loss', 'mean_absolute_error']\n"
     ]
    }
   ],
   "source": [
    "'''\n",
    "4-fold의 평균 validation MAE 그래프 그리기\n",
    "'''\n",
    "\n",
    "print(model.metrics_names)"
   ]
  },
  {
   "cell_type": "code",
   "execution_count": 24,
   "metadata": {},
   "outputs": [
    {
     "name": "stdout",
     "output_type": "stream",
     "text": [
      ">> fold  0\n",
      ">> fold  1\n",
      ">> fold  2\n",
      ">> fold  3\n",
      "finished!!\n"
     ]
    }
   ],
   "source": [
    "#오버피팅 지점을 확인하고 수정하고자 함\n",
    "num_epochs = 500\n",
    "all_mae_histories = []\n",
    "\n",
    "for i in range(k):\n",
    "    print('>> fold ', i)\n",
    "    val_data = train_data[i * num_val_samples: (i+1) * num_val_samples]\n",
    "    val_targets = train_targets[i * num_val_samples: (i+1) * num_val_samples]\n",
    "    \n",
    "    partial_train_data = np.concatenate([train_data[:i*num_val_samples],\n",
    "                                         train_data[(i+1) * num_val_samples:]],\n",
    "                                        axis=0)\n",
    "    partial_train_targets = np.concatenate([train_targets[:i*num_val_samples],\n",
    "                                            train_targets[(i+1) * num_val_samples:]],\n",
    "                                           axis=0)\n",
    "    \n",
    "    model = build_model()\n",
    "    hist = model.fit(partial_train_data, \n",
    "                     partial_train_targets,\n",
    "                     epochs = num_epochs,\n",
    "                     batch_size = 1,\n",
    "                     verbose = 0,\n",
    "                     validation_data = (val_data, val_targets))           #오버피팅 확인\n",
    "    \n",
    "    mae_history = hist.history['val_mean_absolute_error']\n",
    "    all_mae_histories.append(mae_history)\n",
    "    \n",
    "print('finished!!')"
   ]
  },
  {
   "cell_type": "code",
   "execution_count": 45,
   "metadata": {},
   "outputs": [
    {
     "name": "stdout",
     "output_type": "stream",
     "text": [
      "(4, 500)\n"
     ]
    }
   ],
   "source": [
    "import pandas as pd\n",
    "print(np.shape(all_mae_histories))\n"
   ]
  },
  {
   "cell_type": "code",
   "execution_count": 28,
   "metadata": {
    "scrolled": true
   },
   "outputs": [
    {
     "name": "stdout",
     "output_type": "stream",
     "text": [
      "[4.412855, 3.35191, 3.1855044, 2.7467566, 2.7155178, 2.7543688, 2.5986161, 2.7603445, 2.5734055, 2.4897516, 2.5934386, 2.5240877, 2.529097, 2.6500962, 2.50016, 2.5041437, 2.380199, 2.4454672, 2.5277271, 2.5924363, 2.4526134, 2.4181392, 2.4570441, 2.464826, 2.3474817, 2.4776862, 2.411089, 2.4052217, 2.4991245, 2.487019, 2.4004865, 2.428668, 2.3640292, 2.4439094, 2.4178889, 2.3544185, 2.3141482, 2.4124057, 2.3007495, 2.546064, 2.3366225, 2.5828378, 2.3416624, 2.3222516, 2.3484511, 2.4995756, 2.3520336, 2.5477817, 2.3781395, 2.3709307, 2.3746982, 2.3491857, 2.3857117, 2.4477746, 2.3451922, 2.4203799, 2.3988676, 2.3156266, 2.437033, 2.4669816, 2.3853228, 2.3883317, 2.3318677, 2.3798132, 2.3988123, 2.4769273, 2.6613348, 2.7065587, 2.4683888, 2.4280567, 2.3349147, 2.4306824, 2.5739706, 2.5843668, 2.4261208, 2.5926294, 2.3533938, 2.4218411, 2.4868193, 2.4645698, 2.6444051, 2.46426, 2.4852095, 2.5355823, 2.48296, 2.4730647, 2.5779614, 2.467443, 2.5958786, 2.3538797, 2.537199, 2.555273, 2.4082513, 2.5929713, 2.533113, 2.4843082, 2.4974399, 2.4398093, 2.4145162, 2.3823195, 2.4217153, 2.4439347, 2.4029994, 2.5362823, 2.4950764, 2.4943955, 2.3920178, 2.5005689, 2.4802134, 2.512877, 2.5478172, 2.533699, 2.4658766, 2.571264, 2.5366807, 2.6502385, 2.4693575, 2.454632, 2.5517526, 2.4859352, 2.4492717, 2.405444, 2.493708, 2.5174284, 2.5531354, 2.521475, 2.553843, 2.4800758, 2.523632, 2.5297139, 2.6000564, 2.4883523, 2.5847154, 2.5806231, 2.5973527, 2.586518, 2.4889174, 2.490057, 2.5383158, 2.4861815, 2.4873414, 2.5354514, 2.5321853, 2.5839496, 2.4877877, 2.4877908, 2.451232, 2.5586882, 2.4616444, 2.579762, 2.5249803, 2.588714, 2.504858, 2.5982246, 2.5503447, 2.4822314, 2.6021554, 2.4940977, 2.5918574, 2.5883617, 2.5221896, 2.4743402, 2.5745978, 2.6056833, 2.527273, 2.6226244, 2.8865993, 2.6368165, 2.5370636, 2.5825894, 2.6945868, 2.6381698, 2.7683482, 2.621995, 2.5896811, 2.649808, 2.630927, 2.522383, 2.5247772, 2.6636264, 2.5526488, 2.6138291, 2.5847642, 2.7194095, 2.603669, 2.5596738, 2.6264975, 2.6543827, 2.6688266, 2.628496, 2.6301837, 2.5877461, 2.5760503, 2.615327, 2.589938, 2.6574044, 2.7291455, 2.634182, 2.5934172, 2.8026364, 2.604763, 2.6439223, 2.6551223, 2.6264398, 2.5245264, 2.6789887, 2.7113135, 2.6733046, 2.6743686, 2.60546, 2.700342, 2.7957544, 2.726256, 2.6585538, 2.7818236, 2.6404462, 2.7114522, 2.8666873, 2.630891, 2.5634637, 2.6107774, 2.6724563, 2.719023, 2.7076147, 2.6336417, 2.70408, 2.673669, 2.6412652, 2.7732604, 2.7341194, 2.7856336, 2.669664, 2.6665578, 2.762615, 2.7274895, 2.660431, 2.710531, 2.656926, 2.7491496, 2.6359978, 2.680941, 2.6985059, 2.6996164, 2.6263967, 2.6731234, 2.6185443, 2.6278043, 2.7277212, 2.707864, 2.6130412, 2.691192, 2.6290598, 2.7173173, 2.7650611, 2.6582615, 2.6967542, 2.651906, 2.7077494, 2.6733792, 2.669923, 2.7134206, 2.5992138, 2.6692517, 2.714358, 2.723231, 2.699851, 2.650132, 2.7903714, 2.6706295, 2.7288957, 2.845178, 2.6628711, 2.665509, 2.690723, 2.721705, 2.8331916, 2.6506352, 2.625873, 2.7908466, 2.7294228, 2.6405492, 2.698034, 2.730987, 2.8201637, 2.6505704, 2.6972115, 2.7122128, 2.6853628, 2.7189991, 2.732403, 2.7490056, 2.7187967, 2.6806774, 2.6589499, 2.74644, 2.7980661, 2.7412453, 2.7736902, 2.6714334, 2.6193335, 2.7987914, 2.741075, 2.6428115, 2.7235448, 2.7538548, 2.7093859, 2.6940079, 2.6136942, 2.6172922, 2.7164679, 2.740996, 2.6846104, 2.7168014, 2.6429358, 2.7315235, 2.7596402, 2.6812217, 2.678681, 2.7098892, 2.732103, 2.73722, 2.7783132, 2.748108, 2.688749, 2.6984365, 2.6677866, 2.730113, 2.7071376, 2.8238769, 2.7039728, 2.7654116, 2.6811686, 2.6747603, 2.7296443, 2.7094808, 2.6795342, 2.6900287, 2.854375, 2.746433, 2.7227654, 2.6563792, 2.7530491, 2.684511, 2.7301395, 2.7700753, 2.6923783, 2.6681626, 2.7230897, 2.6192255, 2.758301, 2.7048492, 2.5925193, 2.779919, 2.7290123, 2.6674638, 2.5960653, 2.762131, 2.7222476, 2.7387447, 2.7336826, 2.819566, 2.7863417, 2.7321208, 2.6196642, 2.6887891, 2.798662, 2.7400665, 2.7138164, 2.7487683, 2.7574, 2.7027347, 2.6954794, 2.7021322, 2.7138128, 2.6896038, 2.7008448, 2.7138076, 2.7291179, 2.825868, 2.759258, 2.7297583, 2.7454371, 2.69422, 2.8307784, 2.6637833, 2.6845288, 2.7368124, 2.8315816, 2.6318064, 2.6974406, 2.7350276, 2.685276, 2.7701058, 2.7125046, 2.7164838, 2.799031, 2.738651, 2.6802914, 2.798811, 2.685608, 2.7316904, 2.729826, 2.7680452, 2.7278953, 2.688957, 2.700138, 2.6594198, 2.7422595, 2.828456, 2.7471123, 2.6880882, 2.6516473, 2.633966, 2.642527, 2.718254, 2.6883178, 2.7682884, 2.5960407, 2.6514864, 2.7316294, 2.7725847, 2.7832062, 2.7929883, 2.7369132, 2.6874964, 2.6532676, 2.7695923, 2.762375, 2.708746, 2.6368878, 2.7099714, 2.6340792, 2.6924975, 2.6585913, 2.7243884, 2.6711447, 2.6359239, 2.6866622, 2.7340376, 2.7394729, 2.7681363, 2.754242, 2.7165575, 2.688613, 2.759184, 2.7679458, 2.664638, 2.6619961, 2.7002254, 2.7641685, 2.7479343, 2.6867456, 2.7435641, 2.7102842, 2.7348948, 2.7158263, 2.8401551, 2.63018, 2.7166753, 2.7949755, 2.7259727, 2.7534177, 2.6891155, 2.674459, 2.7258596, 2.7244544, 2.6632051, 2.578414, 2.7160425, 2.658268, 2.766304, 2.6968122, 2.6791048, 2.7774713, 2.7300756, 2.7605999, 2.6886306, 2.6825936, 2.796277, 2.6920934, 2.7528896, 2.6782684, 2.7286713, 2.7233844, 2.6605968, 2.6995454, 2.7187262, 2.7973022, 2.7276766, 2.6695888, 2.7413213, 2.6521497, 2.6923187, 2.6808114, 2.718455, 2.7169929, 2.6709807, 2.6646075, 2.655645, 2.661367]\n"
     ]
    }
   ],
   "source": [
    "average_mae_history = [\n",
    "    np.mean([x[i] for x in all_mae_histories]) for i in range(num_epochs)]\n",
    "\n",
    "print(average_mae_history)"
   ]
  },
  {
   "cell_type": "markdown",
   "metadata": {},
   "source": [
    "average_mae_history = []\n",
    "for epoch in range(num_epochs):\n",
    "    average_mae_per_epoch = []\n",
    "    \n",
    "    for mae_history in all_mae_histories: # 4개 fold 반복\n",
    "        average_mae_per_epoch.append(mae_history[epoch])\n",
    "    \n",
    "    mean = np.mean(average_mae_per_epoch)\n",
    "    average_mae_history.append(mean)\n",
    "\n",
    "print(average_mae_history)"
   ]
  },
  {
   "cell_type": "code",
   "execution_count": 29,
   "metadata": {},
   "outputs": [
    {
     "data": {
      "image/png": "[encoded data removed]",
      "text/plain": [
       "<Figure size 432x288 with 1 Axes>"
      ]
     },
     "metadata": {
      "needs_background": "light"
     },
     "output_type": "display_data"
    }
   ],
   "source": [
    "import matplotlib.pyplot as plt\n",
    "\n",
    "# matplotlib이 Jupyter notebook 셀 안에서 생성되도록 함\n",
    "# https://versusall.tistory.com/entry/Jupyter-Notebook-4-%EC%99%B8%EB%B6%80%EC%B0%BD%EC%97%90%EC%84%9C-%EA%B7%B8%EB%9E%98%ED%94%84-%EA%B7%B8%EB%A6%AC%EA%B8%B0-matplotlib-inline-qt-tk%C2%B6\n",
    "%matplotlib inline\n",
    "\n",
    "plt.plot(range(1, len(average_mae_history) + 1), average_mae_history)\n",
    "plt.xlabel('Epochs')\n",
    "plt.ylabel('Validation MAE')\n",
    "plt.show()"
   ]
  },
  {
   "cell_type": "code",
   "execution_count": 30,
   "metadata": {},
   "outputs": [
    {
     "data": {
      "image/png": "[encoded data removed]",
      "text/plain": [
       "<Figure size 432x288 with 1 Axes>"
      ]
     },
     "metadata": {
      "needs_background": "light"
     },
     "output_type": "display_data"
    }
   ],
   "source": [
    "'''\n",
    "시계열 신호에 지수 이동 평균(exponential moving averge) 필터링\n",
    "'''\n",
    "def smooth_curve(points, factor=0.9):\n",
    "    smoothed_points = []\n",
    "    for point in points:\n",
    "        if smoothed_points:\n",
    "            prev = smoothed_points[-1]\n",
    "            smoothed_points.append(prev*factor + point*(1-factor))\n",
    "        else:\n",
    "            smoothed_points.append(point)\n",
    "    \n",
    "    return smoothed_points\n",
    "\n",
    "smooth_mae_history = smooth_curve(average_mae_history[10:])\n",
    "\n",
    "plt.plot(range(1, len(smooth_mae_history) + 1), smooth_mae_history)\n",
    "plt.xlabel('Epochs')\n",
    "plt.ylabel('Validation MAE')\n",
    "plt.show()"
   ]
  },
  {
   "cell_type": "markdown",
   "metadata": {},
   "source": [
    "# 5. (과대적합 되기 전까지) 모델 학습"
   ]
  },
  {
   "cell_type": "code",
   "execution_count": 31,
   "metadata": {},
   "outputs": [
    {
     "name": "stdout",
     "output_type": "stream",
     "text": [
      "Epoch 1/80\n",
      "404/404 [==============================] - 0s 610us/sample - loss: 506.2232 - mean_absolute_error: 20.5716\n",
      "Epoch 2/80\n",
      "404/404 [==============================] - 0s 178us/sample - loss: 327.6340 - mean_absolute_error: 15.9744\n",
      "Epoch 3/80\n",
      "404/404 [==============================] - 0s 178us/sample - loss: 155.9570 - mean_absolute_error: 10.1047\n",
      "Epoch 4/80\n",
      "404/404 [==============================] - 0s 178us/sample - loss: 68.0666 - mean_absolute_error: 6.1272\n",
      "Epoch 5/80\n",
      "404/404 [==============================] - 0s 173us/sample - loss: 40.8779 - mean_absolute_error: 4.8338\n",
      "Epoch 6/80\n",
      "404/404 [==============================] - 0s 180us/sample - loss: 29.5189 - mean_absolute_error: 4.0324\n",
      "Epoch 7/80\n",
      "404/404 [==============================] - 0s 183us/sample - loss: 23.8634 - mean_absolute_error: 3.5621\n",
      "Epoch 8/80\n",
      "404/404 [==============================] - 0s 180us/sample - loss: 20.4303 - mean_absolute_error: 3.1928\n",
      "Epoch 9/80\n",
      "404/404 [==============================] - 0s 178us/sample - loss: 18.3082 - mean_absolute_error: 3.0111\n",
      "Epoch 10/80\n",
      "404/404 [==============================] - 0s 180us/sample - loss: 16.9609 - mean_absolute_error: 2.8814\n",
      "Epoch 11/80\n",
      "404/404 [==============================] - 0s 178us/sample - loss: 15.5697 - mean_absolute_error: 2.7656\n",
      "Epoch 12/80\n",
      "404/404 [==============================] - 0s 178us/sample - loss: 14.3587 - mean_absolute_error: 2.6396\n",
      "Epoch 13/80\n",
      "404/404 [==============================] - 0s 180us/sample - loss: 13.5414 - mean_absolute_error: 2.6469\n",
      "Epoch 14/80\n",
      "404/404 [==============================] - 0s 190us/sample - loss: 13.0412 - mean_absolute_error: 2.4929\n",
      "Epoch 15/80\n",
      "404/404 [==============================] - 0s 185us/sample - loss: 12.0932 - mean_absolute_error: 2.4138\n",
      "Epoch 16/80\n",
      "404/404 [==============================] - 0s 195us/sample - loss: 12.0335 - mean_absolute_error: 2.4523\n",
      "Epoch 17/80\n",
      "404/404 [==============================] - 0s 190us/sample - loss: 11.3722 - mean_absolute_error: 2.3693\n",
      "Epoch 18/80\n",
      "404/404 [==============================] - 0s 183us/sample - loss: 11.1379 - mean_absolute_error: 2.3298\n",
      "Epoch 19/80\n",
      "404/404 [==============================] - 0s 185us/sample - loss: 10.8371 - mean_absolute_error: 2.2904\n",
      "Epoch 20/80\n",
      "404/404 [==============================] - 0s 183us/sample - loss: 10.6447 - mean_absolute_error: 2.2824\n",
      "Epoch 21/80\n",
      "404/404 [==============================] - 0s 180us/sample - loss: 10.5463 - mean_absolute_error: 2.2644\n",
      "Epoch 22/80\n",
      "404/404 [==============================] - 0s 170us/sample - loss: 10.1901 - mean_absolute_error: 2.2036\n",
      "Epoch 23/80\n",
      "404/404 [==============================] - 0s 175us/sample - loss: 10.0609 - mean_absolute_error: 2.2098\n",
      "Epoch 24/80\n",
      "404/404 [==============================] - 0s 180us/sample - loss: 9.8955 - mean_absolute_error: 2.1960\n",
      "Epoch 25/80\n",
      "404/404 [==============================] - 0s 178us/sample - loss: 10.1643 - mean_absolute_error: 2.2220\n",
      "Epoch 26/80\n",
      "404/404 [==============================] - 0s 183us/sample - loss: 9.8060 - mean_absolute_error: 2.2064\n",
      "Epoch 27/80\n",
      "404/404 [==============================] - 0s 190us/sample - loss: 9.5795 - mean_absolute_error: 2.1499\n",
      "Epoch 28/80\n",
      "404/404 [==============================] - 0s 195us/sample - loss: 9.5157 - mean_absolute_error: 2.1511\n",
      "Epoch 29/80\n",
      "404/404 [==============================] - 0s 195us/sample - loss: 9.4172 - mean_absolute_error: 2.1469\n",
      "Epoch 30/80\n",
      "404/404 [==============================] - 0s 183us/sample - loss: 9.2167 - mean_absolute_error: 2.1189\n",
      "Epoch 31/80\n",
      "404/404 [==============================] - 0s 202us/sample - loss: 9.2814 - mean_absolute_error: 2.1129\n",
      "Epoch 32/80\n",
      "404/404 [==============================] - 0s 197us/sample - loss: 9.1404 - mean_absolute_error: 2.0637\n",
      "Epoch 33/80\n",
      "404/404 [==============================] - 0s 183us/sample - loss: 8.9897 - mean_absolute_error: 2.1203\n",
      "Epoch 34/80\n",
      "404/404 [==============================] - 0s 200us/sample - loss: 8.6418 - mean_absolute_error: 2.0585\n",
      "Epoch 35/80\n",
      "404/404 [==============================] - 0s 185us/sample - loss: 8.9047 - mean_absolute_error: 2.0887\n",
      "Epoch 36/80\n",
      "404/404 [==============================] - 0s 190us/sample - loss: 8.8823 - mean_absolute_error: 2.0834\n",
      "Epoch 37/80\n",
      "404/404 [==============================] - 0s 180us/sample - loss: 8.5658 - mean_absolute_error: 2.0390\n",
      "Epoch 38/80\n",
      "404/404 [==============================] - 0s 178us/sample - loss: 8.6194 - mean_absolute_error: 2.0774\n",
      "Epoch 39/80\n",
      "404/404 [==============================] - 0s 188us/sample - loss: 8.7697 - mean_absolute_error: 2.0722\n",
      "Epoch 40/80\n",
      "404/404 [==============================] - 0s 190us/sample - loss: 8.5629 - mean_absolute_error: 2.0494\n",
      "Epoch 41/80\n",
      "404/404 [==============================] - 0s 178us/sample - loss: 8.3440 - mean_absolute_error: 2.0277\n",
      "Epoch 42/80\n",
      "404/404 [==============================] - 0s 183us/sample - loss: 8.4122 - mean_absolute_error: 2.0262\n",
      "Epoch 43/80\n",
      "404/404 [==============================] - 0s 195us/sample - loss: 8.3245 - mean_absolute_error: 2.0226\n",
      "Epoch 44/80\n",
      "404/404 [==============================] - 0s 193us/sample - loss: 8.2863 - mean_absolute_error: 1.9782\n",
      "Epoch 45/80\n",
      "404/404 [==============================] - 0s 190us/sample - loss: 8.0333 - mean_absolute_error: 1.9897\n",
      "Epoch 46/80\n",
      "404/404 [==============================] - 0s 180us/sample - loss: 8.0990 - mean_absolute_error: 1.9774\n",
      "Epoch 47/80\n",
      "404/404 [==============================] - 0s 188us/sample - loss: 8.0004 - mean_absolute_error: 1.9796\n",
      "Epoch 48/80\n",
      "404/404 [==============================] - 0s 188us/sample - loss: 8.0481 - mean_absolute_error: 1.9538\n",
      "Epoch 49/80\n",
      "404/404 [==============================] - 0s 195us/sample - loss: 7.9290 - mean_absolute_error: 1.9702\n",
      "Epoch 50/80\n",
      "404/404 [==============================] - 0s 175us/sample - loss: 8.0081 - mean_absolute_error: 1.9792\n",
      "Epoch 51/80\n",
      "404/404 [==============================] - 0s 185us/sample - loss: 7.7394 - mean_absolute_error: 1.9531\n",
      "Epoch 52/80\n",
      "404/404 [==============================] - 0s 178us/sample - loss: 7.6961 - mean_absolute_error: 1.9689\n",
      "Epoch 53/80\n",
      "404/404 [==============================] - 0s 198us/sample - loss: 7.8276 - mean_absolute_error: 1.9552\n",
      "Epoch 54/80\n",
      "404/404 [==============================] - 0s 200us/sample - loss: 7.6322 - mean_absolute_error: 1.9157\n",
      "Epoch 55/80\n",
      "404/404 [==============================] - 0s 200us/sample - loss: 7.5884 - mean_absolute_error: 1.9180\n",
      "Epoch 56/80\n",
      "404/404 [==============================] - 0s 178us/sample - loss: 7.7349 - mean_absolute_error: 1.9396\n",
      "Epoch 57/80\n",
      "404/404 [==============================] - 0s 178us/sample - loss: 7.3974 - mean_absolute_error: 1.9114\n",
      "Epoch 58/80\n",
      "404/404 [==============================] - 0s 185us/sample - loss: 7.3682 - mean_absolute_error: 1.8926\n",
      "Epoch 59/80\n",
      "404/404 [==============================] - 0s 178us/sample - loss: 7.6269 - mean_absolute_error: 1.9321\n",
      "Epoch 60/80\n",
      "404/404 [==============================] - 0s 185us/sample - loss: 7.4228 - mean_absolute_error: 1.8760\n",
      "Epoch 61/80\n",
      "404/404 [==============================] - 0s 197us/sample - loss: 7.3975 - mean_absolute_error: 1.9044\n",
      "Epoch 62/80\n",
      "404/404 [==============================] - 0s 198us/sample - loss: 7.2247 - mean_absolute_error: 1.8486\n",
      "Epoch 63/80\n",
      "404/404 [==============================] - 0s 190us/sample - loss: 7.4107 - mean_absolute_error: 1.9111\n",
      "Epoch 64/80\n",
      "404/404 [==============================] - 0s 183us/sample - loss: 7.2749 - mean_absolute_error: 1.8490\n",
      "Epoch 65/80\n",
      "404/404 [==============================] - 0s 183us/sample - loss: 7.1230 - mean_absolute_error: 1.8293\n",
      "Epoch 66/80\n",
      "404/404 [==============================] - 0s 190us/sample - loss: 7.1245 - mean_absolute_error: 1.8424\n",
      "Epoch 67/80\n",
      "404/404 [==============================] - 0s 198us/sample - loss: 7.1161 - mean_absolute_error: 1.8417\n",
      "Epoch 68/80\n",
      "404/404 [==============================] - 0s 180us/sample - loss: 7.0925 - mean_absolute_error: 1.8243\n",
      "Epoch 69/80\n",
      "404/404 [==============================] - 0s 183us/sample - loss: 6.8709 - mean_absolute_error: 1.8226\n",
      "Epoch 70/80\n",
      "404/404 [==============================] - 0s 185us/sample - loss: 6.8797 - mean_absolute_error: 1.8213\n",
      "Epoch 71/80\n"
     ]
    },
    {
     "name": "stdout",
     "output_type": "stream",
     "text": [
      "404/404 [==============================] - 0s 173us/sample - loss: 6.7895 - mean_absolute_error: 1.8208\n",
      "Epoch 72/80\n",
      "404/404 [==============================] - 0s 173us/sample - loss: 7.0428 - mean_absolute_error: 1.8351\n",
      "Epoch 73/80\n",
      "404/404 [==============================] - 0s 180us/sample - loss: 6.7737 - mean_absolute_error: 1.8248\n",
      "Epoch 74/80\n",
      "404/404 [==============================] - 0s 178us/sample - loss: 6.6457 - mean_absolute_error: 1.8039\n",
      "Epoch 75/80\n",
      "404/404 [==============================] - 0s 180us/sample - loss: 6.7511 - mean_absolute_error: 1.8122\n",
      "Epoch 76/80\n",
      "404/404 [==============================] - 0s 163us/sample - loss: 6.4959 - mean_absolute_error: 1.7833\n",
      "Epoch 77/80\n",
      "404/404 [==============================] - 0s 165us/sample - loss: 6.5268 - mean_absolute_error: 1.7910\n",
      "Epoch 78/80\n",
      "404/404 [==============================] - 0s 170us/sample - loss: 6.4937 - mean_absolute_error: 1.7555\n",
      "Epoch 79/80\n",
      "404/404 [==============================] - 0s 163us/sample - loss: 6.4829 - mean_absolute_error: 1.7626\n",
      "Epoch 80/80\n",
      "404/404 [==============================] - 0s 165us/sample - loss: 6.5099 - mean_absolute_error: 1.7386\n"
     ]
    },
    {
     "data": {
      "text/plain": [
       "<tensorflow.python.keras.callbacks.History at 0x23a9cdb1828>"
      ]
     },
     "execution_count": 31,
     "metadata": {},
     "output_type": "execute_result"
    }
   ],
   "source": [
    "# 기존 model 객체를 사용하면 이어서 학습되므로, 새로운 model 객체를 생성함\n",
    "model = build_model()\n",
    "model.fit(train_data, \n",
    "          train_targets,\n",
    "          epochs = 80,\n",
    "          batch_size = 16,\n",
    "          verbose = 1)"
   ]
  },
  {
   "cell_type": "markdown",
   "metadata": {},
   "source": [
    "# 6. 테스트셋으로 성능 평가하기"
   ]
  },
  {
   "cell_type": "code",
   "execution_count": 19,
   "metadata": {},
   "outputs": [
    {
     "name": "stdout",
     "output_type": "stream",
     "text": [
      "102/102 [==============================] - 0s 978us/sample - loss: 17.6753 - mean_absolute_error: 2.7005\n",
      "test MSE score: %.3f 17.675254821777344\n",
      "test MAE score: %.3f 2.7004523\n"
     ]
    }
   ],
   "source": [
    "test_mse_score, test_mae_score = model.evaluate(test_data, test_targets)\n",
    "print('test MSE score: %.3f', test_mse_score)\n",
    "print('test MAE score: %.3f', test_mae_score)"
   ]
  }
 ],
 "metadata": {
  "kernelspec": {
   "display_name": "Keras",
   "language": "python",
   "name": "keras"
  },
  "language_info": {
   "codemirror_mode": {
    "name": "ipython",
    "version": 3
   },
   "file_extension": ".py",
   "mimetype": "text/x-python",
   "name": "python",
   "nbconvert_exporter": "python",
   "pygments_lexer": "ipython3",
   "version": "3.6.8"
  },
  "widgets": {
   "state": {},
   "version": "1.1.2"
  }
 },
 "nbformat": 4,
 "nbformat_minor": 2
}
