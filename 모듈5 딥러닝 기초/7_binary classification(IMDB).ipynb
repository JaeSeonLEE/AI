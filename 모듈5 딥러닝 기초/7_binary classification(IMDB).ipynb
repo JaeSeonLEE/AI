{
 "cells": [
  {
   "cell_type": "code",
   "execution_count": 7,
   "metadata": {},
   "outputs": [],
   "source": [
    "# 일부만 할당된 GPU 메모리를 실행하는 동안 필요한만큼 늘릴 수 있도록 설정함\n",
    "import tensorflow as tf\n",
    "\n",
    "config = tf.ConfigProto()\n",
    "config.gpu_options.allow_growth = True\n",
    "session = tf.Session(config=config)"
   ]
  },
  {
   "cell_type": "code",
   "execution_count": 8,
   "metadata": {},
   "outputs": [],
   "source": [
    "# 동일한 결과를 재현하기 위해서 random seed 고정\n",
    "import numpy as np\n",
    "np.random.seed(777)"
   ]
  },
  {
   "cell_type": "code",
   "execution_count": 9,
   "metadata": {},
   "outputs": [],
   "source": [
    "# 모델 학습 시 불필요한 출력을 끄도록 함 (waning)\n",
    "\n",
    "import tensorflow as tf\n",
    "tf.logging.set_verbosity(tf.logging.ERROR)"
   ]
  },
  {
   "cell_type": "markdown",
   "metadata": {},
   "source": [
    "# 1. 데이터 준비"
   ]
  },
  {
   "cell_type": "code",
   "execution_count": 10,
   "metadata": {},
   "outputs": [],
   "source": [
    "from tensorflow.keras.datasets import imdb\n",
    "\n",
    "(train_data, train_labels), (test_data, test_labels) =imdb.load_data(num_words=10000)"
   ]
  },
  {
   "cell_type": "code",
   "execution_count": 11,
   "metadata": {},
   "outputs": [],
   "source": [
    "from tensorflow.keras.datasets import imdb\n",
    "import numpy as np\n",
    "\n",
    "# save np.load\n",
    "np_load_old = np.load\n",
    "\n",
    "# modify the default parameters of np.load\n",
    "np.load = lambda *a,**k: np_load_old(*a, allow_pickle=True, **k)\n",
    "\n",
    "# call load_data with allow_pickle implicitly set to true\n",
    "(train_data, train_labels), (test_data, test_labels) = imdb.load_data(num_words=10000)    #만이상 단어는 \n",
    "                                                                                          #사전없음으로 분류\n",
    "\n",
    "# restore np.load for future normal \n",
    "np.load = np_load_old"
   ]
  },
  {
   "cell_type": "code",
   "execution_count": 12,
   "metadata": {},
   "outputs": [
    {
     "name": "stdout",
     "output_type": "stream",
     "text": [
      "25000\n"
     ]
    }
   ],
   "source": [
    "print(len([len(i) for i in train_data])) \n",
    "\n"
   ]
  },
  {
   "cell_type": "code",
   "execution_count": null,
   "metadata": {},
   "outputs": [],
   "source": []
  },
  {
   "cell_type": "code",
   "execution_count": 13,
   "metadata": {},
   "outputs": [
    {
     "data": {
      "text/html": [
       "<div>\n",
       "<style scoped>\n",
       "    .dataframe tbody tr th:only-of-type {\n",
       "        vertical-align: middle;\n",
       "    }\n",
       "\n",
       "    .dataframe tbody tr th {\n",
       "        vertical-align: top;\n",
       "    }\n",
       "\n",
       "    .dataframe thead th {\n",
       "        text-align: right;\n",
       "    }\n",
       "</style>\n",
       "<table border=\"1\" class=\"dataframe\">\n",
       "  <thead>\n",
       "    <tr style=\"text-align: right;\">\n",
       "      <th></th>\n",
       "      <th>0</th>\n",
       "    </tr>\n",
       "  </thead>\n",
       "  <tbody>\n",
       "    <tr>\n",
       "      <th>0</th>\n",
       "      <td>[1, 14, 22, 16, 43, 530, 973, 1622, 1385, 65, ...</td>\n",
       "    </tr>\n",
       "    <tr>\n",
       "      <th>1</th>\n",
       "      <td>[1, 194, 1153, 194, 8255, 78, 228, 5, 6, 1463,...</td>\n",
       "    </tr>\n",
       "    <tr>\n",
       "      <th>2</th>\n",
       "      <td>[1, 14, 47, 8, 30, 31, 7, 4, 249, 108, 7, 4, 5...</td>\n",
       "    </tr>\n",
       "    <tr>\n",
       "      <th>3</th>\n",
       "      <td>[1, 4, 2, 2, 33, 2804, 4, 2040, 432, 111, 153,...</td>\n",
       "    </tr>\n",
       "    <tr>\n",
       "      <th>4</th>\n",
       "      <td>[1, 249, 1323, 7, 61, 113, 10, 10, 13, 1637, 1...</td>\n",
       "    </tr>\n",
       "    <tr>\n",
       "      <th>5</th>\n",
       "      <td>[1, 778, 128, 74, 12, 630, 163, 15, 4, 1766, 7...</td>\n",
       "    </tr>\n",
       "    <tr>\n",
       "      <th>6</th>\n",
       "      <td>[1, 6740, 365, 1234, 5, 1156, 354, 11, 14, 532...</td>\n",
       "    </tr>\n",
       "    <tr>\n",
       "      <th>7</th>\n",
       "      <td>[1, 4, 2, 716, 4, 65, 7, 4, 689, 4367, 6308, 2...</td>\n",
       "    </tr>\n",
       "    <tr>\n",
       "      <th>8</th>\n",
       "      <td>[1, 43, 188, 46, 5, 566, 264, 51, 6, 530, 664,...</td>\n",
       "    </tr>\n",
       "    <tr>\n",
       "      <th>9</th>\n",
       "      <td>[1, 14, 20, 47, 111, 439, 3445, 19, 12, 15, 16...</td>\n",
       "    </tr>\n",
       "    <tr>\n",
       "      <th>10</th>\n",
       "      <td>[1, 785, 189, 438, 47, 110, 142, 7, 6, 7475, 1...</td>\n",
       "    </tr>\n",
       "    <tr>\n",
       "      <th>11</th>\n",
       "      <td>[1, 54, 13, 1610, 14, 20, 13, 69, 55, 364, 139...</td>\n",
       "    </tr>\n",
       "    <tr>\n",
       "      <th>12</th>\n",
       "      <td>[1, 13, 119, 954, 189, 1554, 13, 92, 459, 48, ...</td>\n",
       "    </tr>\n",
       "    <tr>\n",
       "      <th>13</th>\n",
       "      <td>[1, 259, 37, 100, 169, 1653, 1107, 11, 14, 418...</td>\n",
       "    </tr>\n",
       "    <tr>\n",
       "      <th>14</th>\n",
       "      <td>[1, 503, 20, 33, 118, 481, 302, 26, 184, 52, 8...</td>\n",
       "    </tr>\n",
       "    <tr>\n",
       "      <th>15</th>\n",
       "      <td>[1, 6, 964, 437, 7, 58, 43, 1402, 11, 6, 171, ...</td>\n",
       "    </tr>\n",
       "    <tr>\n",
       "      <th>16</th>\n",
       "      <td>[1, 7092, 1662, 11, 4, 1749, 9, 4, 2165, 4, 74...</td>\n",
       "    </tr>\n",
       "    <tr>\n",
       "      <th>17</th>\n",
       "      <td>[1, 33, 4, 5673, 7, 4, 2, 194, 2, 3089, 3438, ...</td>\n",
       "    </tr>\n",
       "    <tr>\n",
       "      <th>18</th>\n",
       "      <td>[1, 13, 28, 64, 69, 4, 8742, 7, 319, 14, 20, 2...</td>\n",
       "    </tr>\n",
       "    <tr>\n",
       "      <th>19</th>\n",
       "      <td>[1, 3432, 26, 9, 6, 1220, 731, 939, 44, 6, 255...</td>\n",
       "    </tr>\n",
       "    <tr>\n",
       "      <th>20</th>\n",
       "      <td>[1, 617, 11, 3875, 17, 2, 14, 966, 78, 20, 9, ...</td>\n",
       "    </tr>\n",
       "    <tr>\n",
       "      <th>21</th>\n",
       "      <td>[1, 466, 49, 2036, 204, 2442, 40, 4, 6724, 732...</td>\n",
       "    </tr>\n",
       "    <tr>\n",
       "      <th>22</th>\n",
       "      <td>[1, 13, 784, 886, 857, 15, 135, 142, 40, 2, 43...</td>\n",
       "    </tr>\n",
       "    <tr>\n",
       "      <th>23</th>\n",
       "      <td>[1, 4, 712, 19, 2, 2, 2, 963, 2, 26, 111, 6, 3...</td>\n",
       "    </tr>\n",
       "    <tr>\n",
       "      <th>24</th>\n",
       "      <td>[1, 4, 204, 7610, 20, 16, 93, 11, 9075, 19, 2,...</td>\n",
       "    </tr>\n",
       "    <tr>\n",
       "      <th>25</th>\n",
       "      <td>[1, 14, 9, 6, 55, 641, 2854, 212, 44, 6, 389, ...</td>\n",
       "    </tr>\n",
       "    <tr>\n",
       "      <th>26</th>\n",
       "      <td>[1, 4, 288, 310, 3202, 7, 241, 672, 4, 2, 7, 2...</td>\n",
       "    </tr>\n",
       "    <tr>\n",
       "      <th>27</th>\n",
       "      <td>[1, 75, 69, 8, 140, 8, 35, 2, 38, 75, 679, 23,...</td>\n",
       "    </tr>\n",
       "    <tr>\n",
       "      <th>28</th>\n",
       "      <td>[1, 4679, 2784, 1482, 11, 450, 7, 134, 364, 35...</td>\n",
       "    </tr>\n",
       "    <tr>\n",
       "      <th>29</th>\n",
       "      <td>[1, 13, 28, 332, 4, 274, 6, 378, 7, 211, 5, 14...</td>\n",
       "    </tr>\n",
       "    <tr>\n",
       "      <th>...</th>\n",
       "      <td>...</td>\n",
       "    </tr>\n",
       "    <tr>\n",
       "      <th>24970</th>\n",
       "      <td>[1, 2, 218, 6, 686, 7077, 20, 474, 273, 23, 6,...</td>\n",
       "    </tr>\n",
       "    <tr>\n",
       "      <th>24971</th>\n",
       "      <td>[1, 145, 11, 4, 251, 48, 5103, 3770, 69, 69, 4...</td>\n",
       "    </tr>\n",
       "    <tr>\n",
       "      <th>24972</th>\n",
       "      <td>[1, 14, 16, 43, 6, 394, 20, 12, 1487, 72, 8, 1...</td>\n",
       "    </tr>\n",
       "    <tr>\n",
       "      <th>24973</th>\n",
       "      <td>[1, 13, 510, 14, 20, 774, 110, 1798, 5178, 11,...</td>\n",
       "    </tr>\n",
       "    <tr>\n",
       "      <th>24974</th>\n",
       "      <td>[1, 13, 219, 14, 20, 11, 4, 86, 378, 7, 2485, ...</td>\n",
       "    </tr>\n",
       "    <tr>\n",
       "      <th>24975</th>\n",
       "      <td>[1, 608, 45, 55, 1281, 15, 13, 3824, 142, 13, ...</td>\n",
       "    </tr>\n",
       "    <tr>\n",
       "      <th>24976</th>\n",
       "      <td>[1, 11, 32, 4, 795, 2, 42, 2, 2, 239, 13, 197,...</td>\n",
       "    </tr>\n",
       "    <tr>\n",
       "      <th>24977</th>\n",
       "      <td>[1, 714, 4, 833, 364, 352, 189, 22, 7, 32, 58,...</td>\n",
       "    </tr>\n",
       "    <tr>\n",
       "      <th>24978</th>\n",
       "      <td>[1, 14, 20, 996, 8, 1464, 233, 162, 8, 6, 512,...</td>\n",
       "    </tr>\n",
       "    <tr>\n",
       "      <th>24979</th>\n",
       "      <td>[1, 14, 1072, 9, 346, 23, 114, 21, 9, 6, 2009,...</td>\n",
       "    </tr>\n",
       "    <tr>\n",
       "      <th>24980</th>\n",
       "      <td>[1, 17, 409, 28, 3212, 14, 144, 28, 77, 35, 32...</td>\n",
       "    </tr>\n",
       "    <tr>\n",
       "      <th>24981</th>\n",
       "      <td>[1, 48, 25, 774, 2626, 46, 51, 9, 170, 8, 593,...</td>\n",
       "    </tr>\n",
       "    <tr>\n",
       "      <th>24982</th>\n",
       "      <td>[1, 4, 636, 457, 234, 520, 72, 440, 95, 8942, ...</td>\n",
       "    </tr>\n",
       "    <tr>\n",
       "      <th>24983</th>\n",
       "      <td>[1, 2653, 7410, 280, 1852, 89, 29, 1075, 141, ...</td>\n",
       "    </tr>\n",
       "    <tr>\n",
       "      <th>24984</th>\n",
       "      <td>[1, 48, 25, 181, 8, 67, 6, 3000, 4717, 6620, 2...</td>\n",
       "    </tr>\n",
       "    <tr>\n",
       "      <th>24985</th>\n",
       "      <td>[1, 13, 69, 57, 326, 51, 4, 22, 9, 44, 159, 13...</td>\n",
       "    </tr>\n",
       "    <tr>\n",
       "      <th>24986</th>\n",
       "      <td>[1, 13, 258, 14, 22, 8, 30, 4, 644, 785, 3688,...</td>\n",
       "    </tr>\n",
       "    <tr>\n",
       "      <th>24987</th>\n",
       "      <td>[1, 13, 119, 32, 2110, 7, 108, 262, 189, 15, 1...</td>\n",
       "    </tr>\n",
       "    <tr>\n",
       "      <th>24988</th>\n",
       "      <td>[1, 4, 132, 11, 4, 1884, 9, 6, 2272, 5, 728, 5...</td>\n",
       "    </tr>\n",
       "    <tr>\n",
       "      <th>24989</th>\n",
       "      <td>[1, 13, 219, 1837, 3064, 54, 13, 16, 55, 185, ...</td>\n",
       "    </tr>\n",
       "    <tr>\n",
       "      <th>24990</th>\n",
       "      <td>[1, 45, 327, 8, 67, 6, 22, 19, 147, 84, 19, 12...</td>\n",
       "    </tr>\n",
       "    <tr>\n",
       "      <th>24991</th>\n",
       "      <td>[1, 65, 7, 3957, 11, 4, 4609, 590, 14, 22, 9, ...</td>\n",
       "    </tr>\n",
       "    <tr>\n",
       "      <th>24992</th>\n",
       "      <td>[1, 2, 2, 1080, 2, 6592, 16, 540, 1990, 11, 27...</td>\n",
       "    </tr>\n",
       "    <tr>\n",
       "      <th>24993</th>\n",
       "      <td>[1, 14, 20, 9, 118, 2209, 42, 1661, 8, 194, 31...</td>\n",
       "    </tr>\n",
       "    <tr>\n",
       "      <th>24994</th>\n",
       "      <td>[1, 175, 280, 11, 6, 137, 1812, 2693, 80, 866,...</td>\n",
       "    </tr>\n",
       "    <tr>\n",
       "      <th>24995</th>\n",
       "      <td>[1, 14, 9, 6, 2758, 20, 21, 1517, 7, 2078, 5, ...</td>\n",
       "    </tr>\n",
       "    <tr>\n",
       "      <th>24996</th>\n",
       "      <td>[1, 4679, 2784, 299, 6, 1042, 37, 80, 81, 233,...</td>\n",
       "    </tr>\n",
       "    <tr>\n",
       "      <th>24997</th>\n",
       "      <td>[1, 11, 6, 230, 245, 6401, 9, 6, 1225, 446, 2,...</td>\n",
       "    </tr>\n",
       "    <tr>\n",
       "      <th>24998</th>\n",
       "      <td>[1, 1446, 7079, 69, 72, 3305, 13, 610, 930, 8,...</td>\n",
       "    </tr>\n",
       "    <tr>\n",
       "      <th>24999</th>\n",
       "      <td>[1, 17, 6, 194, 337, 7, 4, 204, 22, 45, 254, 8...</td>\n",
       "    </tr>\n",
       "  </tbody>\n",
       "</table>\n",
       "<p>25000 rows × 1 columns</p>\n",
       "</div>"
      ],
      "text/plain": [
       "                                                       0\n",
       "0      [1, 14, 22, 16, 43, 530, 973, 1622, 1385, 65, ...\n",
       "1      [1, 194, 1153, 194, 8255, 78, 228, 5, 6, 1463,...\n",
       "2      [1, 14, 47, 8, 30, 31, 7, 4, 249, 108, 7, 4, 5...\n",
       "3      [1, 4, 2, 2, 33, 2804, 4, 2040, 432, 111, 153,...\n",
       "4      [1, 249, 1323, 7, 61, 113, 10, 10, 13, 1637, 1...\n",
       "5      [1, 778, 128, 74, 12, 630, 163, 15, 4, 1766, 7...\n",
       "6      [1, 6740, 365, 1234, 5, 1156, 354, 11, 14, 532...\n",
       "7      [1, 4, 2, 716, 4, 65, 7, 4, 689, 4367, 6308, 2...\n",
       "8      [1, 43, 188, 46, 5, 566, 264, 51, 6, 530, 664,...\n",
       "9      [1, 14, 20, 47, 111, 439, 3445, 19, 12, 15, 16...\n",
       "10     [1, 785, 189, 438, 47, 110, 142, 7, 6, 7475, 1...\n",
       "11     [1, 54, 13, 1610, 14, 20, 13, 69, 55, 364, 139...\n",
       "12     [1, 13, 119, 954, 189, 1554, 13, 92, 459, 48, ...\n",
       "13     [1, 259, 37, 100, 169, 1653, 1107, 11, 14, 418...\n",
       "14     [1, 503, 20, 33, 118, 481, 302, 26, 184, 52, 8...\n",
       "15     [1, 6, 964, 437, 7, 58, 43, 1402, 11, 6, 171, ...\n",
       "16     [1, 7092, 1662, 11, 4, 1749, 9, 4, 2165, 4, 74...\n",
       "17     [1, 33, 4, 5673, 7, 4, 2, 194, 2, 3089, 3438, ...\n",
       "18     [1, 13, 28, 64, 69, 4, 8742, 7, 319, 14, 20, 2...\n",
       "19     [1, 3432, 26, 9, 6, 1220, 731, 939, 44, 6, 255...\n",
       "20     [1, 617, 11, 3875, 17, 2, 14, 966, 78, 20, 9, ...\n",
       "21     [1, 466, 49, 2036, 204, 2442, 40, 4, 6724, 732...\n",
       "22     [1, 13, 784, 886, 857, 15, 135, 142, 40, 2, 43...\n",
       "23     [1, 4, 712, 19, 2, 2, 2, 963, 2, 26, 111, 6, 3...\n",
       "24     [1, 4, 204, 7610, 20, 16, 93, 11, 9075, 19, 2,...\n",
       "25     [1, 14, 9, 6, 55, 641, 2854, 212, 44, 6, 389, ...\n",
       "26     [1, 4, 288, 310, 3202, 7, 241, 672, 4, 2, 7, 2...\n",
       "27     [1, 75, 69, 8, 140, 8, 35, 2, 38, 75, 679, 23,...\n",
       "28     [1, 4679, 2784, 1482, 11, 450, 7, 134, 364, 35...\n",
       "29     [1, 13, 28, 332, 4, 274, 6, 378, 7, 211, 5, 14...\n",
       "...                                                  ...\n",
       "24970  [1, 2, 218, 6, 686, 7077, 20, 474, 273, 23, 6,...\n",
       "24971  [1, 145, 11, 4, 251, 48, 5103, 3770, 69, 69, 4...\n",
       "24972  [1, 14, 16, 43, 6, 394, 20, 12, 1487, 72, 8, 1...\n",
       "24973  [1, 13, 510, 14, 20, 774, 110, 1798, 5178, 11,...\n",
       "24974  [1, 13, 219, 14, 20, 11, 4, 86, 378, 7, 2485, ...\n",
       "24975  [1, 608, 45, 55, 1281, 15, 13, 3824, 142, 13, ...\n",
       "24976  [1, 11, 32, 4, 795, 2, 42, 2, 2, 239, 13, 197,...\n",
       "24977  [1, 714, 4, 833, 364, 352, 189, 22, 7, 32, 58,...\n",
       "24978  [1, 14, 20, 996, 8, 1464, 233, 162, 8, 6, 512,...\n",
       "24979  [1, 14, 1072, 9, 346, 23, 114, 21, 9, 6, 2009,...\n",
       "24980  [1, 17, 409, 28, 3212, 14, 144, 28, 77, 35, 32...\n",
       "24981  [1, 48, 25, 774, 2626, 46, 51, 9, 170, 8, 593,...\n",
       "24982  [1, 4, 636, 457, 234, 520, 72, 440, 95, 8942, ...\n",
       "24983  [1, 2653, 7410, 280, 1852, 89, 29, 1075, 141, ...\n",
       "24984  [1, 48, 25, 181, 8, 67, 6, 3000, 4717, 6620, 2...\n",
       "24985  [1, 13, 69, 57, 326, 51, 4, 22, 9, 44, 159, 13...\n",
       "24986  [1, 13, 258, 14, 22, 8, 30, 4, 644, 785, 3688,...\n",
       "24987  [1, 13, 119, 32, 2110, 7, 108, 262, 189, 15, 1...\n",
       "24988  [1, 4, 132, 11, 4, 1884, 9, 6, 2272, 5, 728, 5...\n",
       "24989  [1, 13, 219, 1837, 3064, 54, 13, 16, 55, 185, ...\n",
       "24990  [1, 45, 327, 8, 67, 6, 22, 19, 147, 84, 19, 12...\n",
       "24991  [1, 65, 7, 3957, 11, 4, 4609, 590, 14, 22, 9, ...\n",
       "24992  [1, 2, 2, 1080, 2, 6592, 16, 540, 1990, 11, 27...\n",
       "24993  [1, 14, 20, 9, 118, 2209, 42, 1661, 8, 194, 31...\n",
       "24994  [1, 175, 280, 11, 6, 137, 1812, 2693, 80, 866,...\n",
       "24995  [1, 14, 9, 6, 2758, 20, 21, 1517, 7, 2078, 5, ...\n",
       "24996  [1, 4679, 2784, 299, 6, 1042, 37, 80, 81, 233,...\n",
       "24997  [1, 11, 6, 230, 245, 6401, 9, 6, 1225, 446, 2,...\n",
       "24998  [1, 1446, 7079, 69, 72, 3305, 13, 610, 930, 8,...\n",
       "24999  [1, 17, 6, 194, 337, 7, 4, 204, 22, 45, 254, 8...\n",
       "\n",
       "[25000 rows x 1 columns]"
      ]
     },
     "execution_count": 13,
     "metadata": {},
     "output_type": "execute_result"
    }
   ],
   "source": [
    "import numpy as np\n",
    "import matplotlib.pyplot as plt\n",
    "import pandas as pd\n",
    "from pandas import Series,DataFrame\n",
    "DataFrame(train_data)\n",
    "\n"
   ]
  },
  {
   "cell_type": "code",
   "execution_count": null,
   "metadata": {},
   "outputs": [],
   "source": []
  },
  {
   "cell_type": "code",
   "execution_count": null,
   "metadata": {},
   "outputs": [],
   "source": []
  },
  {
   "cell_type": "code",
   "execution_count": 17,
   "metadata": {},
   "outputs": [
    {
     "name": "stdout",
     "output_type": "stream",
     "text": [
      "? this film was just brilliant casting location scenery story direction everyone's really suited the part they played and you could just imagine being there robert ? is an amazing actor and now the same being director ? father came from the same scottish island as myself so i loved the fact there was a real connection with this film the witty remarks throughout the film were great it was just brilliant so much that i bought the film as soon as it was released for ? and would recommend it to everyone to watch and the fly fishing was amazing really cried at the end it was so sad and you know what they say if you cry at a film it must have been good and this definitely was also ? to the two little boy's that played the ? of norman and paul they were just brilliant children are often left out of the ? list i think because the stars that play them all grown up are such a big profile for the whole film but these children are amazing and should be praised for what they have done don't you think the whole story was so lovely because it was true and was someone's life after all that was shared with us all\n"
     ]
    }
   ],
   "source": [
    "word_index = imdb.get_word_index() # 특정 단어를 하나의 정수 인덱스로 매핑해놓은 딕셔너리\n",
    "reverse_word_index = dict([(v,k) for (k, v) in word_index.items()]) # {단어: 정수} => {정수: 단어}로 저장 \n",
    "\n",
    "# 벡터화 된 문장을 텍스트로 디코딩\n",
    "# 0, 1, 2번째 단어는 '패딩', '문서 시작', '사전에 없음'을 뜻하는 기호임\n",
    "decoded_review = ' '.join([reverse_word_index.get(i-3,'?') for i in train_data[0]])\n",
    "print(decoded_review)\n",
    "\n",
    "\n"
   ]
  },
  {
   "cell_type": "code",
   "execution_count": null,
   "metadata": {},
   "outputs": [],
   "source": []
  },
  {
   "cell_type": "markdown",
   "metadata": {},
   "source": [
    "# 2. 데이터 전처리"
   ]
  },
  {
   "cell_type": "code",
   "execution_count": 18,
   "metadata": {},
   "outputs": [],
   "source": [
    "import numpy as np\n",
    "\n",
    "def vectorize_sequences(sequences, dimension=10000):\n",
    "    results = np.zeros((len(sequences), dimension)) # 결과를 저장할 0 행렬 생성\n",
    "    for i, sequence in enumerate(sequences):\n",
    "        results[i, sequence] = 1 # 문장에 존재하는 단어들만 one-hot encoding\n",
    "    \n",
    "    \n",
    "    return results\n",
    "\n",
    "\n",
    "\n",
    "# 문장들을 일정한 크기의 벡터로 변환\n",
    "X_train = vectorize_sequences(train_data)\n",
    "X_test = vectorize_sequences(test_data)"
   ]
  },
  {
   "cell_type": "code",
   "execution_count": 19,
   "metadata": {},
   "outputs": [
    {
     "name": "stdout",
     "output_type": "stream",
     "text": [
      "                                                       0\n",
      "0      [1, 14, 22, 16, 43, 530, 973, 1622, 1385, 65, ...\n",
      "1      [1, 194, 1153, 194, 8255, 78, 228, 5, 6, 1463,...\n",
      "2      [1, 14, 47, 8, 30, 31, 7, 4, 249, 108, 7, 4, 5...\n",
      "3      [1, 4, 2, 2, 33, 2804, 4, 2040, 432, 111, 153,...\n",
      "4      [1, 249, 1323, 7, 61, 113, 10, 10, 13, 1637, 1...\n",
      "5      [1, 778, 128, 74, 12, 630, 163, 15, 4, 1766, 7...\n",
      "6      [1, 6740, 365, 1234, 5, 1156, 354, 11, 14, 532...\n",
      "7      [1, 4, 2, 716, 4, 65, 7, 4, 689, 4367, 6308, 2...\n",
      "8      [1, 43, 188, 46, 5, 566, 264, 51, 6, 530, 664,...\n",
      "9      [1, 14, 20, 47, 111, 439, 3445, 19, 12, 15, 16...\n",
      "10     [1, 785, 189, 438, 47, 110, 142, 7, 6, 7475, 1...\n",
      "11     [1, 54, 13, 1610, 14, 20, 13, 69, 55, 364, 139...\n",
      "12     [1, 13, 119, 954, 189, 1554, 13, 92, 459, 48, ...\n",
      "13     [1, 259, 37, 100, 169, 1653, 1107, 11, 14, 418...\n",
      "14     [1, 503, 20, 33, 118, 481, 302, 26, 184, 52, 8...\n",
      "15     [1, 6, 964, 437, 7, 58, 43, 1402, 11, 6, 171, ...\n",
      "16     [1, 7092, 1662, 11, 4, 1749, 9, 4, 2165, 4, 74...\n",
      "17     [1, 33, 4, 5673, 7, 4, 2, 194, 2, 3089, 3438, ...\n",
      "18     [1, 13, 28, 64, 69, 4, 8742, 7, 319, 14, 20, 2...\n",
      "19     [1, 3432, 26, 9, 6, 1220, 731, 939, 44, 6, 255...\n",
      "20     [1, 617, 11, 3875, 17, 2, 14, 966, 78, 20, 9, ...\n",
      "21     [1, 466, 49, 2036, 204, 2442, 40, 4, 6724, 732...\n",
      "22     [1, 13, 784, 886, 857, 15, 135, 142, 40, 2, 43...\n",
      "23     [1, 4, 712, 19, 2, 2, 2, 963, 2, 26, 111, 6, 3...\n",
      "24     [1, 4, 204, 7610, 20, 16, 93, 11, 9075, 19, 2,...\n",
      "25     [1, 14, 9, 6, 55, 641, 2854, 212, 44, 6, 389, ...\n",
      "26     [1, 4, 288, 310, 3202, 7, 241, 672, 4, 2, 7, 2...\n",
      "27     [1, 75, 69, 8, 140, 8, 35, 2, 38, 75, 679, 23,...\n",
      "28     [1, 4679, 2784, 1482, 11, 450, 7, 134, 364, 35...\n",
      "29     [1, 13, 28, 332, 4, 274, 6, 378, 7, 211, 5, 14...\n",
      "...                                                  ...\n",
      "24970  [1, 2, 218, 6, 686, 7077, 20, 474, 273, 23, 6,...\n",
      "24971  [1, 145, 11, 4, 251, 48, 5103, 3770, 69, 69, 4...\n",
      "24972  [1, 14, 16, 43, 6, 394, 20, 12, 1487, 72, 8, 1...\n",
      "24973  [1, 13, 510, 14, 20, 774, 110, 1798, 5178, 11,...\n",
      "24974  [1, 13, 219, 14, 20, 11, 4, 86, 378, 7, 2485, ...\n",
      "24975  [1, 608, 45, 55, 1281, 15, 13, 3824, 142, 13, ...\n",
      "24976  [1, 11, 32, 4, 795, 2, 42, 2, 2, 239, 13, 197,...\n",
      "24977  [1, 714, 4, 833, 364, 352, 189, 22, 7, 32, 58,...\n",
      "24978  [1, 14, 20, 996, 8, 1464, 233, 162, 8, 6, 512,...\n",
      "24979  [1, 14, 1072, 9, 346, 23, 114, 21, 9, 6, 2009,...\n",
      "24980  [1, 17, 409, 28, 3212, 14, 144, 28, 77, 35, 32...\n",
      "24981  [1, 48, 25, 774, 2626, 46, 51, 9, 170, 8, 593,...\n",
      "24982  [1, 4, 636, 457, 234, 520, 72, 440, 95, 8942, ...\n",
      "24983  [1, 2653, 7410, 280, 1852, 89, 29, 1075, 141, ...\n",
      "24984  [1, 48, 25, 181, 8, 67, 6, 3000, 4717, 6620, 2...\n",
      "24985  [1, 13, 69, 57, 326, 51, 4, 22, 9, 44, 159, 13...\n",
      "24986  [1, 13, 258, 14, 22, 8, 30, 4, 644, 785, 3688,...\n",
      "24987  [1, 13, 119, 32, 2110, 7, 108, 262, 189, 15, 1...\n",
      "24988  [1, 4, 132, 11, 4, 1884, 9, 6, 2272, 5, 728, 5...\n",
      "24989  [1, 13, 219, 1837, 3064, 54, 13, 16, 55, 185, ...\n",
      "24990  [1, 45, 327, 8, 67, 6, 22, 19, 147, 84, 19, 12...\n",
      "24991  [1, 65, 7, 3957, 11, 4, 4609, 590, 14, 22, 9, ...\n",
      "24992  [1, 2, 2, 1080, 2, 6592, 16, 540, 1990, 11, 27...\n",
      "24993  [1, 14, 20, 9, 118, 2209, 42, 1661, 8, 194, 31...\n",
      "24994  [1, 175, 280, 11, 6, 137, 1812, 2693, 80, 866,...\n",
      "24995  [1, 14, 9, 6, 2758, 20, 21, 1517, 7, 2078, 5, ...\n",
      "24996  [1, 4679, 2784, 299, 6, 1042, 37, 80, 81, 233,...\n",
      "24997  [1, 11, 6, 230, 245, 6401, 9, 6, 1225, 446, 2,...\n",
      "24998  [1, 1446, 7079, 69, 72, 3305, 13, 610, 930, 8,...\n",
      "24999  [1, 17, 6, 194, 337, 7, 4, 204, 22, 45, 254, 8...\n",
      "\n",
      "[25000 rows x 1 columns]\n"
     ]
    }
   ],
   "source": [
    "print(DataFrame(train_data))"
   ]
  },
  {
   "cell_type": "code",
   "execution_count": 20,
   "metadata": {},
   "outputs": [],
   "source": [
    "# 리스트 형태인 레이블을 벡터로 변환\n",
    "y_train = np.array(train_labels).astype('float32')\n",
    "y_test = np.array(test_labels).astype('float32')"
   ]
  },
  {
   "cell_type": "code",
   "execution_count": 21,
   "metadata": {
    "scrolled": true
   },
   "outputs": [
    {
     "name": "stdout",
     "output_type": "stream",
     "text": [
      "[0. 1. 1. ... 0. 0. 0.]\n"
     ]
    }
   ],
   "source": [
    "print(X_train[0])"
   ]
  },
  {
   "cell_type": "code",
   "execution_count": 23,
   "metadata": {},
   "outputs": [
    {
     "name": "stdout",
     "output_type": "stream",
     "text": [
      "(25000, 10000)\n",
      "(25000,)\n",
      "(25000, 10000)\n",
      "(25000,)\n"
     ]
    }
   ],
   "source": [
    "print(X_train.shape)\n",
    "print(y_train.shape)\n",
    "print(X_test.shape)\n",
    "print(y_test.shape)\n",
    "\n"
   ]
  },
  {
   "cell_type": "code",
   "execution_count": 24,
   "metadata": {},
   "outputs": [],
   "source": [
    "X_valid = X_train[:10000]\n",
    "X_train = X_train[10000:]\n",
    "y_valid = y_train[:10000]\n",
    "y_train = y_train[10000:]"
   ]
  },
  {
   "cell_type": "code",
   "execution_count": 25,
   "metadata": {},
   "outputs": [
    {
     "name": "stdout",
     "output_type": "stream",
     "text": [
      "(15000, 10000)\n",
      "(15000,)\n",
      "(10000, 10000)\n",
      "(10000,)\n",
      "(25000, 10000)\n",
      "(25000,)\n",
      "(15000, 10000)\n"
     ]
    }
   ],
   "source": [
    "print(X_train.shape)\n",
    "print(y_train.shape)\n",
    "print(X_valid.shape)\n",
    "print(y_valid.shape)\n",
    "print(X_test.shape)\n",
    "print(y_test.shape)\n",
    "print(X_train.shape)"
   ]
  },
  {
   "cell_type": "markdown",
   "metadata": {},
   "source": [
    "# 3. 네트워크 정의"
   ]
  },
  {
   "cell_type": "code",
   "execution_count": 26,
   "metadata": {},
   "outputs": [],
   "source": [
    "from tensorflow.keras.models import Sequential\n",
    "from tensorflow.keras.layers import Dense\n",
    "\n",
    "model = Sequential()\n",
    "model.add(Dense(16, activation='relu', input_shape=(10000,)))\n",
    "model.add(Dense(16, activation='relu'))\n",
    "model.add(Dense(1, activation='sigmoid'))\n",
    "\n",
    "#relu 는 비선형 적인 연산을 하기 위해 , sigmoid 는 마지막에 값을 제한\n",
    "#다중분류는 relu  2진 분류 sigmoid"
   ]
  },
  {
   "cell_type": "code",
   "execution_count": null,
   "metadata": {},
   "outputs": [],
   "source": []
  },
  {
   "cell_type": "markdown",
   "metadata": {},
   "source": [
    "# 4. 모델 컴파일"
   ]
  },
  {
   "cell_type": "code",
   "execution_count": 27,
   "metadata": {},
   "outputs": [],
   "source": [
    "model.compile(optimizer = 'rmsprop',\n",
    "              loss = 'binary_crossentropy',\n",
    "              metrics = ['accuracy'])"
   ]
  },
  {
   "cell_type": "markdown",
   "metadata": {},
   "source": [
    "# 5. 모델 학습"
   ]
  },
  {
   "cell_type": "code",
   "execution_count": 28,
   "metadata": {},
   "outputs": [
    {
     "name": "stdout",
     "output_type": "stream",
     "text": [
      "Train on 15000 samples, validate on 10000 samples\n",
      "Epoch 1/20\n",
      "15000/15000 [==============================] - 3s 200us/sample - loss: 0.4733 - acc: 0.8203 - val_loss: 0.3394 - val_acc: 0.8799\n",
      "Epoch 2/20\n",
      "15000/15000 [==============================] - 2s 148us/sample - loss: 0.2609 - acc: 0.9086 - val_loss: 0.2792 - val_acc: 0.8903\n",
      "Epoch 3/20\n",
      "15000/15000 [==============================] - 2s 146us/sample - loss: 0.1851 - acc: 0.9357 - val_loss: 0.2728 - val_acc: 0.8923\n",
      "Epoch 4/20\n",
      "15000/15000 [==============================] - 2s 146us/sample - loss: 0.1428 - acc: 0.9515 - val_loss: 0.3050 - val_acc: 0.8799\n",
      "Epoch 5/20\n",
      "15000/15000 [==============================] - 2s 146us/sample - loss: 0.1130 - acc: 0.9617 - val_loss: 0.3148 - val_acc: 0.8854\n",
      "Epoch 6/20\n",
      "15000/15000 [==============================] - 2s 149us/sample - loss: 0.0888 - acc: 0.9714 - val_loss: 0.3401 - val_acc: 0.8829\n",
      "Epoch 7/20\n",
      "15000/15000 [==============================] - 2s 150us/sample - loss: 0.0702 - acc: 0.9785 - val_loss: 0.3985 - val_acc: 0.8758\n",
      "Epoch 8/20\n",
      "15000/15000 [==============================] - 2s 150us/sample - loss: 0.0538 - acc: 0.9837 - val_loss: 0.4248 - val_acc: 0.8765\n",
      "Epoch 9/20\n",
      "15000/15000 [==============================] - 2s 148us/sample - loss: 0.0425 - acc: 0.9880 - val_loss: 0.4575 - val_acc: 0.8740\n",
      "Epoch 10/20\n",
      "15000/15000 [==============================] - 2s 148us/sample - loss: 0.0303 - acc: 0.9927 - val_loss: 0.5010 - val_acc: 0.8713\n",
      "Epoch 11/20\n",
      "15000/15000 [==============================] - 2s 152us/sample - loss: 0.0223 - acc: 0.9947 - val_loss: 0.5667 - val_acc: 0.8686\n",
      "Epoch 12/20\n",
      "15000/15000 [==============================] - 2s 159us/sample - loss: 0.0152 - acc: 0.9967 - val_loss: 0.6082 - val_acc: 0.8671\n",
      "Epoch 13/20\n",
      "15000/15000 [==============================] - 2s 156us/sample - loss: 0.0110 - acc: 0.9982 - val_loss: 0.6738 - val_acc: 0.8674\n",
      "Epoch 14/20\n",
      "15000/15000 [==============================] - 2s 153us/sample - loss: 0.0079 - acc: 0.9991 - val_loss: 0.7244 - val_acc: 0.8634\n",
      "Epoch 15/20\n",
      "15000/15000 [==============================] - 2s 152us/sample - loss: 0.0053 - acc: 0.9994 - val_loss: 0.7699 - val_acc: 0.8641\n",
      "Epoch 16/20\n",
      "15000/15000 [==============================] - 2s 153us/sample - loss: 0.0043 - acc: 0.9993 - val_loss: 0.8198 - val_acc: 0.8638\n",
      "Epoch 17/20\n",
      "15000/15000 [==============================] - 2s 154us/sample - loss: 0.0020 - acc: 0.9999 - val_loss: 0.8662 - val_acc: 0.8626\n",
      "Epoch 18/20\n",
      "15000/15000 [==============================] - 2s 155us/sample - loss: 0.0018 - acc: 0.9999 - val_loss: 0.9344 - val_acc: 0.8579\n",
      "Epoch 19/20\n",
      "15000/15000 [==============================] - 2s 156us/sample - loss: 0.0015 - acc: 0.9998 - val_loss: 0.9804 - val_acc: 0.8581\n",
      "Epoch 20/20\n",
      "15000/15000 [==============================] - 2s 155us/sample - loss: 6.4935e-04 - acc: 0.9999 - val_loss: 1.0350 - val_acc: 0.8547\n"
     ]
    }
   ],
   "source": [
    "history = model.fit(X_train, \n",
    "                    y_train,\n",
    "                    epochs=20,\n",
    "                    batch_size=256,\n",
    "                    validation_data=(X_valid, y_valid))\n",
    "                    #\n"
   ]
  },
  {
   "cell_type": "code",
   "execution_count": 29,
   "metadata": {},
   "outputs": [
    {
     "data": {
      "text/plain": [
       "{'loss': [0.4733024925072988,\n",
       "  0.26088067553838096,\n",
       "  0.18508845417499542,\n",
       "  0.14284943479299544,\n",
       "  0.11298478163878123,\n",
       "  0.08883720237016678,\n",
       "  0.07021122798522314,\n",
       "  0.05379766091505687,\n",
       "  0.04247210757931073,\n",
       "  0.03029430673420429,\n",
       "  0.02233659054040909,\n",
       "  0.015247971141835053,\n",
       "  0.010984289042154947,\n",
       "  0.007887592440843583,\n",
       "  0.005281222547776997,\n",
       "  0.004301415955709914,\n",
       "  0.001957906028876702,\n",
       "  0.0018015028004844983,\n",
       "  0.00153511992264539,\n",
       "  0.0006493465710120897],\n",
       " 'acc': [0.82026666,\n",
       "  0.9086,\n",
       "  0.9357333,\n",
       "  0.9515333,\n",
       "  0.96173334,\n",
       "  0.9714,\n",
       "  0.9784667,\n",
       "  0.98373336,\n",
       "  0.988,\n",
       "  0.99266666,\n",
       "  0.9946667,\n",
       "  0.99666667,\n",
       "  0.9982,\n",
       "  0.99906665,\n",
       "  0.9994,\n",
       "  0.9993333,\n",
       "  0.99986666,\n",
       "  0.99986666,\n",
       "  0.9998,\n",
       "  0.99993336],\n",
       " 'val_loss': [0.33937316870689394,\n",
       "  0.27915312824249267,\n",
       "  0.2728008673429489,\n",
       "  0.30504114298820495,\n",
       "  0.3147794120788574,\n",
       "  0.3401206741094589,\n",
       "  0.3985004046916962,\n",
       "  0.4248450484275818,\n",
       "  0.4575395022392273,\n",
       "  0.5009948331832885,\n",
       "  0.5667211866855622,\n",
       "  0.6082386148452759,\n",
       "  0.6738085575103759,\n",
       "  0.7244269164085388,\n",
       "  0.7698920387268067,\n",
       "  0.8198138876199722,\n",
       "  0.8662320678710937,\n",
       "  0.9344324544906616,\n",
       "  0.980359674835205,\n",
       "  1.0349643402099609],\n",
       " 'val_acc': [0.8799,\n",
       "  0.8903,\n",
       "  0.8923,\n",
       "  0.8799,\n",
       "  0.8854,\n",
       "  0.8829,\n",
       "  0.8758,\n",
       "  0.8765,\n",
       "  0.874,\n",
       "  0.8713,\n",
       "  0.8686,\n",
       "  0.8671,\n",
       "  0.8674,\n",
       "  0.8634,\n",
       "  0.8641,\n",
       "  0.8638,\n",
       "  0.8626,\n",
       "  0.8579,\n",
       "  0.8581,\n",
       "  0.8547]}"
      ]
     },
     "execution_count": 29,
     "metadata": {},
     "output_type": "execute_result"
    }
   ],
   "source": [
    "hisoty_dict=history.history\n",
    "hisoty_dict"
   ]
  },
  {
   "cell_type": "markdown",
   "metadata": {},
   "source": [
    "# 6. 학습 과정 확인"
   ]
  },
  {
   "cell_type": "code",
   "execution_count": 30,
   "metadata": {},
   "outputs": [
    {
     "data": {
      "image/png": "[encoded data removed]",
      "text/plain": [
       "<Figure size 432x288 with 1 Axes>"
      ]
     },
     "metadata": {
      "needs_background": "light"
     },
     "output_type": "display_data"
    }
   ],
   "source": [
    "import matplotlib.pyplot as plt\n",
    "%matplotlib inline\n",
    "\n",
    "loss, val_loss = history.history['loss'], history.history['val_loss']\n",
    "epochs = range(1, len(loss)+1)\n",
    "\n",
    "plt.plot(epochs, loss, 'b', label='Training loss') # 'b'는 파란색 실선을 의미\n",
    "plt.plot(epochs, val_loss, 'bo', label='Validation loss') # 'bo'는 파란색 점을 의미\n",
    "plt.title('Training and validation loss')\n",
    "plt.xlabel('Epochs')\n",
    "plt.ylabel('Loss')\n",
    "plt.xticks(epochs)\n",
    "plt.legend()\n",
    "\n",
    "plt.show()"
   ]
  },
  {
   "cell_type": "code",
   "execution_count": 31,
   "metadata": {},
   "outputs": [
    {
     "data": {
      "image/png": "[encoded data removed]",
      "text/plain": [
       "<Figure size 432x288 with 1 Axes>"
      ]
     },
     "metadata": {
      "needs_background": "light"
     },
     "output_type": "display_data"
    }
   ],
   "source": [
    "import matplotlib.pyplot as plt\n",
    "\n",
    "\n",
    "acc, val_acc = history.history['acc'], history.history['val_acc']\n",
    "epochs = range(1, len(loss)+1)\n",
    "\n",
    "plt.plot(epochs, acc, 'r', label='Training acc')\n",
    "plt.plot(epochs, val_acc, 'ro', label='Validation acc')\n",
    "plt.title('Training and validation acc')\n",
    "plt.xlabel('Epochs')\n",
    "plt.ylabel('Accuracy')\n",
    "plt.xticks(epochs)\n",
    "plt.legend()\n",
    "\n",
    "plt.show()"
   ]
  },
  {
   "cell_type": "code",
   "execution_count": 32,
   "metadata": {},
   "outputs": [
    {
     "data": {
      "image/png": "[encoded data removed]",
      "text/plain": [
       "<Figure size 432x288 with 1 Axes>"
      ]
     },
     "metadata": {
      "needs_background": "light"
     },
     "output_type": "display_data"
    }
   ],
   "source": [
    "import matplotlib.pyplot as plt\n",
    "\n",
    "loss, val_loss = history.history['loss'], history.history['val_loss']\n",
    "acc, val_acc = history.history['acc'], history.history['val_acc']\n",
    "epochs = range(1, len(loss)+1)\n",
    "\n",
    "plt.plot(epochs, loss, 'b', label='Training loss')\n",
    "plt.plot(epochs, val_loss, 'bo', label='Validation loss')\n",
    "plt.plot(epochs, acc, 'r', label='Training acc')\n",
    "plt.plot(epochs, val_acc, 'ro', label='Validation acc')\n",
    "plt.title('Learning history')\n",
    "plt.xlabel('Epochs')\n",
    "plt.ylabel('Accuracy/Loss')\n",
    "plt.xticks(epochs)\n",
    "plt.legend()\n",
    "\n",
    "plt.show()"
   ]
  },
  {
   "cell_type": "code",
   "execution_count": 33,
   "metadata": {},
   "outputs": [
    {
     "name": "stdout",
     "output_type": "stream",
     "text": [
      "25000/25000 [==============================] - 4s 153us/sample - loss: 1.1321 - acc: 0.8409\n",
      "test loss(20 epochs):  1.1320749504351615\n",
      "test acc(20 epochs):  0.84092\n"
     ]
    }
   ],
   "source": [
    "test_loss, test_acc = model.evaluate(X_test, y_test)\n",
    "print('test loss(20 epochs): ', test_loss)\n",
    "print('test acc(20 epochs): ', test_acc)"
   ]
  },
  {
   "cell_type": "markdown",
   "metadata": {},
   "source": [
    "# 7. (과대적합 되기 전까지) 모델 학습"
   ]
  },
  {
   "cell_type": "code",
   "execution_count": 34,
   "metadata": {},
   "outputs": [
    {
     "name": "stdout",
     "output_type": "stream",
     "text": [
      "Train on 15000 samples, validate on 10000 samples\n",
      "Epoch 1/3\n",
      "15000/15000 [==============================] - 3s 192us/sample - loss: 0.4565 - acc: 0.8163 - val_loss: 0.3324 - val_acc: 0.8792\n",
      "Epoch 2/3\n",
      "15000/15000 [==============================] - 2s 159us/sample - loss: 0.2516 - acc: 0.9140 - val_loss: 0.2761 - val_acc: 0.8907\n",
      "Epoch 3/3\n",
      "15000/15000 [==============================] - 2s 157us/sample - loss: 0.1813 - acc: 0.9373 - val_loss: 0.2938 - val_acc: 0.8827\n"
     ]
    }
   ],
   "source": [
    "# 기존 model 객체를 사용하면 이어서 학습되므로, 새로운 model 객체를 생성함\n",
    "model = Sequential()\n",
    "model.add(Dense(16, activation='relu', input_shape=(10000,)))\n",
    "model.add(Dense(16, activation='relu'))\n",
    "model.add(Dense(1, activation='sigmoid'))\n",
    "\n",
    "model.compile(optimizer = 'rmsprop',\n",
    "              loss = 'binary_crossentropy',\n",
    "              metrics = ['accuracy'])\n",
    "\n",
    "history = model.fit(X_train, \n",
    "                    y_train,\n",
    "                    epochs=3,\n",
    "                    batch_size=256,\n",
    "                    validation_data=(X_valid, y_valid))"
   ]
  },
  {
   "cell_type": "code",
   "execution_count": 35,
   "metadata": {},
   "outputs": [
    {
     "name": "stdout",
     "output_type": "stream",
     "text": [
      "25000/25000 [==============================] - 4s 142us/sample - loss: 0.3200 - acc: 0.8704\n",
      "test loss(3 epochs):  0.31997182832717896\n",
      "test acc(3 epochs):  0.87044\n"
     ]
    }
   ],
   "source": [
    "test_loss, test_acc = model.evaluate(X_test, y_test)\n",
    "print('test loss(3 epochs): ', test_loss)\n",
    "print('test acc(3 epochs): ', test_acc)"
   ]
  },
  {
   "cell_type": "markdown",
   "metadata": {},
   "source": [
    "# 8. 학습된 모델로 새로운 데이터 예측"
   ]
  },
  {
   "cell_type": "code",
   "execution_count": 36,
   "metadata": {},
   "outputs": [
    {
     "name": "stdout",
     "output_type": "stream",
     "text": [
      "[[0.19394329]\n",
      " [0.9992661 ]\n",
      " [0.7455804 ]\n",
      " ...\n",
      " [0.07321474]\n",
      " [0.05466616]\n",
      " [0.24936396]]\n",
      "\n",
      "[[0.19394329]]\n"
     ]
    }
   ],
   "source": [
    "# 여러 개 동시에 예측\n",
    "result = model.predict(X_test)\n",
    "print(result)\n",
    "\n",
    "print()\n",
    "\n",
    "# 하나씩 개 동시에 예측\n",
    "sample = X_test[0]\n",
    "result = model.predict(np.expand_dims(sample, axis=0))            #샘플중 하나만 예측 할때는 차원을 늘려서 \n",
    "                                                                #사용하기 위해 expand_dims  사용\n",
    "                                                                \n",
    "print(result)"
   ]
  },
  {
   "cell_type": "code",
   "execution_count": null,
   "metadata": {},
   "outputs": [],
   "source": []
  }
 ],
 "metadata": {
  "kernelspec": {
   "display_name": "Keras",
   "language": "python",
   "name": "keras"
  },
  "language_info": {
   "codemirror_mode": {
    "name": "ipython",
    "version": 3
   },
   "file_extension": ".py",
   "mimetype": "text/x-python",
   "name": "python",
   "nbconvert_exporter": "python",
   "pygments_lexer": "ipython3",
   "version": "3.6.8"
  },
  "widgets": {
   "state": {},
   "version": "1.1.2"
  }
 },
 "nbformat": 4,
 "nbformat_minor": 2
}
