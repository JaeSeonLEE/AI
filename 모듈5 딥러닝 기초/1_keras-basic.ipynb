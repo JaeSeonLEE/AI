{
 "cells": [
  {
   "cell_type": "code",
   "execution_count": 9,
   "metadata": {},
   "outputs": [
    {
     "name": "stdout",
     "output_type": "stream",
     "text": [
      "0.01\n"
     ]
    }
   ],
   "source": [
    "print(1e-2)"
   ]
  },
  {
   "cell_type": "code",
   "execution_count": 10,
   "metadata": {},
   "outputs": [],
   "source": [
    "import tensorflow as tf\n",
    "from tensorflow import keras"
   ]
  },
  {
   "cell_type": "code",
   "execution_count": 17,
   "metadata": {},
   "outputs": [
    {
     "name": "stdout",
     "output_type": "stream",
     "text": [
      "1.13.1\n",
      "2.2.4-tf\n"
     ]
    }
   ],
   "source": [
    "# 버전 확인\n",
    "\n",
    "print(tf.__version__)\n",
    "print(keras.__version__)"
   ]
  },
  {
   "cell_type": "code",
   "execution_count": 12,
   "metadata": {},
   "outputs": [],
   "source": [
    "# 모델 학습 시 불필요한 출력을 끄도록 함 (warning)\n",
    "import tensorflow as tf\n",
    "\n",
    "tf.logging.set_verbosity(tf.logging.ERROR)"
   ]
  },
  {
   "cell_type": "markdown",
   "metadata": {},
   "source": [
    "# 케라스 모델 2가지 버전"
   ]
  },
  {
   "cell_type": "code",
   "execution_count": 21,
   "metadata": {},
   "outputs": [],
   "source": [
    "from tensorflow.keras.models import Sequential\n",
    "from tensorflow.keras import layers\n",
    "\n",
    "model = Sequential()\n",
    "model.add(layers.Dense(32, activation='relu', input_shape=(784,)))\n",
    "model.add(layers.Dense(10, activation='softmax'))"
   ]
  },
  {
   "cell_type": "code",
   "execution_count": 22,
   "metadata": {},
   "outputs": [],
   "source": [
    "from tensorflow.keras.models import Model\n",
    "from tensorflow.keras import layers\n",
    "\n",
    "input_tensor = layers.Input(shape=(784,))\n",
    "x = layers.Dense(32, activation='relu')(input_tensor)\n",
    "output_tensor = layers.Dense(10, activation='softmax')(x)\n",
    "\n",
    "model = Model(inputs=input_tensor, outputs=output_tensor)"
   ]
  },
  {
   "cell_type": "markdown",
   "metadata": {},
   "source": [
    "# MNIST 숫자 이미지 분류 문제"
   ]
  },
  {
   "cell_type": "code",
   "execution_count": 23,
   "metadata": {},
   "outputs": [],
   "source": [
    "from tensorflow.keras.datasets import mnist\n",
    "\n",
    "# 1. 데이터 준비\n",
    "(X_train, y_train), (X_test, y_test) = mnist.load_data()"
   ]
  },
  {
   "cell_type": "code",
   "execution_count": 20,
   "metadata": {},
   "outputs": [
    {
     "data": {
      "image/png": "[encoded data removed]",
      "text/plain": [
       "<Figure size 432x288 with 1 Axes>"
      ]
     },
     "metadata": {
      "needs_background": "light"
     },
     "output_type": "display_data"
    }
   ],
   "source": [
    "import matplotlib.pyplot as plt\n",
    "%matplotlib inline\n",
    "\n",
    "plt.imshow(X_train[0], cmap='binary')\n",
    "plt.axis('off')\n",
    "plt.show()"
   ]
  },
  {
   "cell_type": "code",
   "execution_count": 24,
   "metadata": {},
   "outputs": [
    {
     "name": "stdout",
     "output_type": "stream",
     "text": [
      "_________________________________________________________________\n",
      "Layer (type)                 Output Shape              Param #   \n",
      "=================================================================\n",
      "dense_12 (Dense)             (None, 64)                50240     \n",
      "_________________________________________________________________\n",
      "dense_13 (Dense)             (None, 10)                650       \n",
      "=================================================================\n",
      "Total params: 50,890\n",
      "Trainable params: 50,890\n",
      "Non-trainable params: 0\n",
      "_________________________________________________________________\n",
      "Epoch 1/5\n",
      "60000/60000 [==============================] - 5s 83us/sample - loss: 0.6691 - acc: 0.8295\n",
      "Epoch 2/5\n",
      "60000/60000 [==============================] - 5s 77us/sample - loss: 0.3440 - acc: 0.9037\n",
      "Epoch 3/5\n",
      "60000/60000 [==============================] - 5s 77us/sample - loss: 0.2966 - acc: 0.9163\n",
      "Epoch 4/5\n",
      "60000/60000 [==============================] - 5s 79us/sample - loss: 0.2676 - acc: 0.9243\n",
      "Epoch 5/5\n",
      "60000/60000 [==============================] - 5s 80us/sample - loss: 0.2459 - acc: 0.9312\n",
      "[0.23381205962995688, 0.93475]\n",
      "[7]\n"
     ]
    }
   ],
   "source": [
    "from tensorflow.keras.models import Sequential\n",
    "from tensorflow.keras.layers import Dense\n",
    "from tensorflow.keras.utils import to_categorical\n",
    "\n",
    "\n",
    "# 2. 데이터 전처리\n",
    "X_train = X_train.reshape((60000, 28*28)).astype('float32') / 255\n",
    "X_test = X_test.reshape((10000, 28*28)).astype('float32') / 255\n",
    "y_train = to_categorical(y_train)\n",
    "y_test = to_categorical(y_test)\n",
    "\n",
    "# 3. 네트워크 정의\n",
    "model = Sequential()\n",
    "# model.add(Dense(64, input_shape=(28*28,), activation='relu'))\n",
    "model.add(Dense(64, batch_input_shape=(None,28*28,), activation='relu'))\n",
    "model.add(Dense(10, activation='softmax'))\n",
    "\n",
    "# 4. 구성된 네트워크 정보 출력\n",
    "model.summary()\n",
    "\n",
    "# 5. 컴파일\n",
    "model.compile(loss = 'categorical_crossentropy', optimizer = 'sgd', metrics = ['accuracy'])\n",
    "\n",
    "# 6. 모델 학습\n",
    "model.fit(X_train, y_train, epochs=5)\n",
    "\n",
    "# 7. 모델 평가\n",
    "loss_and_metrics = model.evaluate(X_train, y_train, verbose=0)\n",
    "print(loss_and_metrics)\n",
    "\n",
    "# 8. 새로운 데이터 예측\n",
    "import numpy as np\n",
    "\n",
    "sample = X_test[0]\n",
    "pred = model.predict_classes(np.expand_dims(sample, axis=0))\n",
    "print(pred)"
   ]
  },
  {
   "cell_type": "markdown",
   "metadata": {},
   "source": [
    "# 데이터 스케일 정규화 안하면?"
   ]
  },
  {
   "cell_type": "code",
   "execution_count": 25,
   "metadata": {},
   "outputs": [
    {
     "name": "stdout",
     "output_type": "stream",
     "text": [
      "_________________________________________________________________\n",
      "Layer (type)                 Output Shape              Param #   \n",
      "=================================================================\n",
      "dense_14 (Dense)             (None, 64)                50240     \n",
      "_________________________________________________________________\n",
      "dense_15 (Dense)             (None, 10)                650       \n",
      "=================================================================\n",
      "Total params: 50,890\n",
      "Trainable params: 50,890\n",
      "Non-trainable params: 0\n",
      "_________________________________________________________________\n",
      "Epoch 1/5\n",
      "60000/60000 [==============================] - 5s 87us/sample - loss: 12.8107 - acc: 0.2051\n",
      "Epoch 2/5\n",
      "60000/60000 [==============================] - 5s 86us/sample - loss: 12.7341 - acc: 0.2100\n",
      "Epoch 3/5\n",
      "60000/60000 [==============================] - 5s 90us/sample - loss: 12.7341 - acc: 0.2100\n",
      "Epoch 4/5\n",
      "60000/60000 [==============================] - 5s 88us/sample - loss: 12.7341 - acc: 0.2100\n",
      "Epoch 5/5\n",
      "60000/60000 [==============================] - 5s 91us/sample - loss: 12.7341 - acc: 0.2100\n",
      "[12.734101362101237, 0.20995]\n",
      "[0]\n"
     ]
    }
   ],
   "source": [
    "from tensorflow.keras.datasets import mnist\n",
    "from tensorflow.keras.models import Sequential\n",
    "from tensorflow.keras.layers import Dense\n",
    "from tensorflow.keras.utils import to_categorical\n",
    "\n",
    "# 1. 데이터 준비\n",
    "(X_train, y_train), (X_test, y_test) = mnist.load_data()\n",
    "\n",
    "# 2. 데이터 전처리\n",
    "X_train = X_train.reshape((60000, 28*28)).astype('float32')\n",
    "X_test = X_test.reshape((10000, 28*28)).astype('float32')\n",
    "y_train = to_categorical(y_train)\n",
    "y_test = to_categorical(y_test)\n",
    "\n",
    "# 3. 네트워크 정의\n",
    "model = Sequential()\n",
    "model.add(Dense(64, input_shape=(28*28,), activation='relu'))\n",
    "model.add(Dense(10, activation='softmax'))\n",
    "\n",
    "# 4. 구성된 네트워크 정보 출력\n",
    "model.summary()\n",
    "\n",
    "# 5. 컴파일\n",
    "model.compile(loss = 'categorical_crossentropy', optimizer = 'sgd', metrics = ['accuracy'])\n",
    "\n",
    "# 6. 모델 학습\n",
    "model.fit(X_train, y_train, epochs=5)\n",
    "\n",
    "# 7. 모델 평가\n",
    "loss_and_metrics = model.evaluate(X_train, y_train, verbose=0)\n",
    "print(loss_and_metrics)\n",
    "\n",
    "# 8. 새로운 데이터 예측\n",
    "import numpy as np\n",
    "\n",
    "sample = X_test[0]\n",
    "pred = model.predict_classes(np.expand_dims(sample, axis=0))\n",
    "print(pred)"
   ]
  },
  {
   "cell_type": "markdown",
   "metadata": {},
   "source": [
    "### learning rate 작게"
   ]
  },
  {
   "cell_type": "code",
   "execution_count": null,
   "metadata": {},
   "outputs": [],
   "source": [
    "from tensorflow.keras.datasets import mnist\n",
    "from tensorflow.keras.models import Sequential\n",
    "from tensorflow.keras.layers import Dense\n",
    "from tensorflow.keras.utils import to_categorical\n",
    "\n",
    "# 1. 데이터 준비\n",
    "(X_train, y_train), (X_test, y_test) = mnist.load_data()\n",
    "\n",
    "# 2. 데이터 전처리\n",
    "X_train = X_train.reshape((60000, 28*28)).astype('float32')\n",
    "X_test = X_test.reshape((10000, 28*28)).astype('float32')\n",
    "y_train = to_categorical(y_train)\n",
    "y_test = to_categorical(y_test)\n",
    "\n",
    "# 3. 네트워크 정의\n",
    "model = Sequential()\n",
    "model.add(Dense(64, input_shape=(28*28,), activation='relu'))\n",
    "model.add(Dense(10, activation='softmax'))\n",
    "\n",
    "# 4. 구성된 네트워크 정보 출력\n",
    "model.summary()\n",
    "\n",
    "# 5. 컴파일\n",
    "from tensorflow.keras.optimizers import SGD\n",
    "model.compile(loss = 'categorical_crossentropy', optimizer = SGD(lr=0.0001), metrics = ['accuracy'])\n",
    "\n",
    "# 6. 모델 학습\n",
    "model.fit(X_train, y_train, epochs=5)\n",
    "\n",
    "# 7. 모델 평가\n",
    "loss_and_metrics = model.evaluate(X_train, y_train, verbose=0)\n",
    "print(loss_and_metrics)\n",
    "\n",
    "# 8. 새로운 데이터 예측\n",
    "import numpy as np\n",
    "\n",
    "sample = X_test[0]\n",
    "pred = model.predict_classes(np.expand_dims(sample, axis=0))\n",
    "print(pred)"
   ]
  },
  {
   "cell_type": "markdown",
   "metadata": {},
   "source": [
    "# 학습한 모델 및 가중치 저장하기"
   ]
  },
  {
   "cell_type": "code",
   "execution_count": null,
   "metadata": {},
   "outputs": [],
   "source": [
    "from tensorflow.keras.datasets import mnist\n",
    "from tensorflow.keras.models import Sequential\n",
    "from tensorflow.keras.layers import Dense\n",
    "from tensorflow.keras.utils import to_categorical\n",
    "\n",
    "# 1. 데이터 준비\n",
    "(X_train, y_train), (X_test, y_test) = mnist.load_data()\n",
    "\n",
    "# 2. 데이터 전처리\n",
    "X_train = X_train.reshape((60000, 28*28)).astype('float32') / 255\n",
    "X_test = X_test.reshape((10000, 28*28)).astype('float32') / 255\n",
    "y_train = to_categorical(y_train)\n",
    "y_test = to_categorical(y_test)\n",
    "\n",
    "# 3. 네트워크 정의\n",
    "model = Sequential()\n",
    "model.add(Dense(64, input_shape=(28*28,), activation='relu'))\n",
    "model.add(Dense(10, activation='softmax'))\n",
    "\n",
    "# 4. 구성된 네트워크 정보 출력\n",
    "model.summary()\n",
    "\n",
    "# 5. 컴파일\n",
    "model.compile(loss = 'categorical_crossentropy', optimizer = 'sgd', metrics = ['accuracy'])\n",
    "\n",
    "# 6. 모델 학습\n",
    "model.fit(X_train, y_train, epochs=5)\n",
    "\n",
    "### 모델 저장\n",
    "model.save('mnist_mlp_model.h5')\n",
    "print('>> model saved!!')"
   ]
  },
  {
   "cell_type": "markdown",
   "metadata": {},
   "source": [
    "# 학습된 모델 및 가중치 불러와서 사용하기"
   ]
  },
  {
   "cell_type": "code",
   "execution_count": null,
   "metadata": {},
   "outputs": [],
   "source": [
    "### 모델 불러오기\n",
    "from tensorflow.keras.models import load_model\n",
    "\n",
    "model = load_model('mnist_mlp_model.h5')\n",
    "print('>> model load!!')"
   ]
  },
  {
   "cell_type": "code",
   "execution_count": null,
   "metadata": {},
   "outputs": [],
   "source": []
  },
  {
   "cell_type": "code",
   "execution_count": null,
   "metadata": {},
   "outputs": [],
   "source": [
    "from tensorflow.keras.datasets import mnist\n",
    "import numpy as np\n",
    "\n",
    "# 1. 데이터 준비\n",
    "_, (X_test, y_test) = mnist.load_data()\n",
    "\n",
    "# 2. 데이터 전처리\n",
    "X_test = X_test.reshape((10000, 28*28)).astype('float32') / 255\n",
    "\n",
    "# 8. 새로운 데이터 예측\n",
    "sample = X_test[0]\n",
    "pred = model.predict_classes(np.expand_dims(sample, axis=0))\n",
    "print(pred[0])"
   ]
  }
 ],
 "metadata": {
  "kernelspec": {
   "display_name": "Keras",
   "language": "python",
   "name": "keras"
  },
  "language_info": {
   "codemirror_mode": {
    "name": "ipython",
    "version": 3
   },
   "file_extension": ".py",
   "mimetype": "text/x-python",
   "name": "python",
   "nbconvert_exporter": "python",
   "pygments_lexer": "ipython3",
   "version": "3.6.8"
  },
  "widgets": {
   "state": {},
   "version": "1.1.2"
  }
 },
 "nbformat": 4,
 "nbformat_minor": 2
}
