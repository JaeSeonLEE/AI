{
 "cells": [
  {
   "cell_type": "code",
   "execution_count": 6,
   "metadata": {
    "scrolled": true
   },
   "outputs": [
    {
     "data": {
      "image/png": "[encoded data removed]",
      "text/plain": [
       "<Figure size 432x288 with 1 Axes>"
      ]
     },
     "metadata": {
      "needs_background": "light"
     },
     "output_type": "display_data"
    }
   ],
   "source": [
    "'''\n",
    "opencv-python 라이브러리 설치:\n",
    "\n",
    "    pip install opencv-python \n",
    "'''\n",
    "\n",
    "import cv2\n",
    "import numpy as np\n",
    "\n",
    "# 테스트 이미지 불러오기\n",
    "img = cv2.imread('C:/Users/Affinity/Desktop/lecture/temp-master/temp-master/lena.jpg', cv2.IMREAD_GRAYSCALE)\n",
    "\n",
    "# 필터(filter) 정의 \n",
    "vKernel = np.array([[-1, 0, 1],\n",
    "                    [-1, 0, 1],\n",
    "                    [-1, 0, 1]])\n",
    "\n",
    "hKernel = np.array([[-1,-1,-1],\n",
    "                    [ 0, 0, 0],\n",
    "                    [ 1, 1, 1]])\n",
    "\n",
    "# 컨볼루션(convolution) 연산\n",
    "vertical = cv2.filter2D(img, -1, vKernel)\n",
    "horizontal = cv2.filter2D(img, -1, hKernel)\n",
    "both = vertical + horizontal\n",
    "\n",
    "# 필터 시각화\n",
    "import matplotlib.pyplot as plt\n",
    "%matplotlib inline\n",
    "\n",
    "plt.imshow(vKernel, interpolation='bilinear', cmap='gray')\n",
    "plt.axis('off')\n",
    "plt.show()\n",
    "\n",
    "# 컨볼루션 결과 출력\n",
    "cv2.imshow('original', img)\n",
    "cv2.imshow('vertical', vertical)\n",
    "cv2.imshow('horizontal', horizontal)\n",
    "cv2.imshow('both', both)\n",
    "\n",
    "cv2.waitKey(0)\n",
    "cv2.destroyAllWindows()"
   ]
  },
  {
   "cell_type": "code",
   "execution_count": 7,
   "metadata": {},
   "outputs": [
    {
     "name": "stdout",
     "output_type": "stream",
     "text": [
      "edge filter\n"
     ]
    },
    {
     "data": {
      "image/png": "[encoded data removed]",
      "text/plain": [
       "<Figure size 432x288 with 1 Axes>"
      ]
     },
     "metadata": {
      "needs_background": "light"
     },
     "output_type": "display_data"
    }
   ],
   "source": [
    "# 필터(filter) 정의 \n",
    "vKernel = np.array([[-1, 2, -1],\n",
    "                    [-1, 2, -1],\n",
    "                    [-1, 2, -1]])\n",
    "\n",
    "hKernel = np.array([[-1, -1, -1],\n",
    "                    [ 2, 2, 2],\n",
    "                    [-1, -1, -1]])\n",
    "\n",
    "# 컨볼루션(convolution) 연산\n",
    "vertical = cv2.filter2D(img, -1, vKernel)\n",
    "horizontal = cv2.filter2D(img, -1, hKernel)\n",
    "both = vertical + horizontal\n",
    "\n",
    "# 필터 시각화\n",
    "import matplotlib.pyplot as plt\n",
    "%matplotlib inline\n",
    "\n",
    "print('edge filter')\n",
    "plt.imshow(vKernel, cmap='gray')\n",
    "plt.axis('off')\n",
    "plt.show()\n",
    "\n",
    "\n",
    "# 컨볼루션 결과 출력\n",
    "cv2.imshow('original', img)\n",
    "cv2.imshow('vertical', vertical)\n",
    "cv2.imshow('horizontal', horizontal)\n",
    "cv2.imshow('both', both)\n",
    "\n",
    "cv2.waitKey(0)\n",
    "cv2.destroyAllWindows()"
   ]
  }
 ],
 "metadata": {
  "kernelspec": {
   "display_name": "Keras",
   "language": "python",
   "name": "keras"
  },
  "language_info": {
   "codemirror_mode": {
    "name": "ipython",
    "version": 3
   },
   "file_extension": ".py",
   "mimetype": "text/x-python",
   "name": "python",
   "nbconvert_exporter": "python",
   "pygments_lexer": "ipython3",
   "version": "3.6.8"
  },
  "widgets": {
   "state": {},
   "version": "1.1.2"
  }
 },
 "nbformat": 4,
 "nbformat_minor": 2
}
